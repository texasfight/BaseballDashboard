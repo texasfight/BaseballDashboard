{
 "cells": [
  {
   "cell_type": "code",
   "execution_count": 1,
   "outputs": [],
   "source": [
    "import numpy as np\n",
    "import pandas as pd\n",
    "import matplotlib.pyplot as plt\n",
    "import plotly.express as px\n",
    "from pathlib import Path"
   ],
   "metadata": {
    "collapsed": false,
    "pycharm": {
     "name": "#%%\n"
    }
   }
  },
  {
   "cell_type": "code",
   "execution_count": 2,
   "outputs": [],
   "source": [
    "MAIN_DIR = Path(\".\").absolute()\n",
    "BASEBALL_DIR = MAIN_DIR / \"baseball_data\"\n",
    "POLIT_DIR = MAIN_DIR / \"political_data\""
   ],
   "metadata": {
    "collapsed": false,
    "pycharm": {
     "name": "#%%\n"
    }
   }
  },
  {
   "cell_type": "code",
   "execution_count": 50,
   "outputs": [],
   "source": [
    "teams_df = pd.read_csv(BASEBALL_DIR / \"core\" / \"Teams.csv\")\n",
    "players_df = pd.read_csv(BASEBALL_DIR / \"core\" / \"People.csv\")\n",
    "batting_df = pd.read_csv(BASEBALL_DIR / \"core\" / \"Batting.csv\")\n",
    "pitching_df = pd.read_csv(BASEBALL_DIR / \"core\" / \"Pitching.csv\")\n",
    "appearances_df = pd.read_csv(BASEBALL_DIR / \"core\" / \"Appearances.csv\")\n",
    "batting_advanced_df = pd.read_csv(BASEBALL_DIR / 'advanced' / 'batting_advanced.csv')\n",
    "pitching_advanced_df = pd.read_csv(BASEBALL_DIR / 'advanced' / 'pitching_advanced.csv')"
   ],
   "metadata": {
    "collapsed": false,
    "pycharm": {
     "name": "#%%\n"
    }
   }
  },
  {
   "cell_type": "code",
   "execution_count": 19,
   "outputs": [],
   "source": [
    "batting_df = batting_df[batting_df[\"yearID\"] >= 1899]"
   ],
   "metadata": {
    "collapsed": false,
    "pycharm": {
     "name": "#%%\n"
    }
   }
  },
  {
   "cell_type": "code",
   "execution_count": 20,
   "outputs": [
    {
     "data": {
      "text/plain": "         playerID  yearID  stint teamID lgID    G   AB   R    H  2B  ...  \\\n7566    anderjo01    1899      1    BRO   NL  117  439  65  118  18  ...   \n7567    atherch01    1899      1    WAS   NL   65  242  28   60   5  ...   \n7568    baileha01    1899      1    BSN   NL   12   34   3    8   2  ...   \n7569    bakerki01    1899      1    WAS   NL   12   19   1    3   0  ...   \n7570    barreji01    1899      1    CIN   NL   26   92  30   34   2  ...   \n...           ...     ...    ...    ...  ...  ...  ...  ..  ...  ..  ...   \n110490  zimmejo02    2021      1    MIL   NL    2    1   0    0   0  ...   \n110491  zimmeky01    2021      1    KCA   AL   52    0   0    0   0  ...   \n110492  zimmery01    2021      1    WAS   NL  110  255  27   62  16  ...   \n110493  zuberty01    2021      1    KCA   AL   31    1   0    0   0  ...   \n110494  zuninmi01    2021      1    TBA   AL  109  333  64   72  11  ...   \n\n         RBI    SB   CS  BB     SO  IBB  HBP   SH   SF  GIDP  \n7566    92.0  25.0  NaN  27   24.0  NaN  4.0  2.0  NaN   NaN  \n7567    23.0   2.0  NaN  21   26.0  NaN  2.0  4.0  NaN   NaN  \n7568     2.0   0.0  NaN   2    3.0  NaN  1.0  0.0  NaN   NaN  \n7569     1.0   0.0  NaN   1    6.0  NaN  0.0  0.0  NaN   NaN  \n7570    10.0   4.0  NaN  18    7.0  NaN  1.0  3.0  NaN   NaN  \n...      ...   ...  ...  ..    ...  ...  ...  ...  ...   ...  \n110490   0.0   0.0  0.0   0    1.0  0.0  0.0  0.0  0.0   0.0  \n110491   0.0   0.0  0.0   0    0.0  0.0  0.0  0.0  0.0   0.0  \n110492  46.0   0.0  0.0  16   77.0  0.0  0.0  0.0  2.0   9.0  \n110493   0.0   0.0  0.0   0    1.0  0.0  0.0  0.0  0.0   0.0  \n110494  62.0   0.0  0.0  34  132.0  0.0  7.0  0.0  1.0   7.0  \n\n[102929 rows x 22 columns]",
      "text/html": "<div>\n<style scoped>\n    .dataframe tbody tr th:only-of-type {\n        vertical-align: middle;\n    }\n\n    .dataframe tbody tr th {\n        vertical-align: top;\n    }\n\n    .dataframe thead th {\n        text-align: right;\n    }\n</style>\n<table border=\"1\" class=\"dataframe\">\n  <thead>\n    <tr style=\"text-align: right;\">\n      <th></th>\n      <th>playerID</th>\n      <th>yearID</th>\n      <th>stint</th>\n      <th>teamID</th>\n      <th>lgID</th>\n      <th>G</th>\n      <th>AB</th>\n      <th>R</th>\n      <th>H</th>\n      <th>2B</th>\n      <th>...</th>\n      <th>RBI</th>\n      <th>SB</th>\n      <th>CS</th>\n      <th>BB</th>\n      <th>SO</th>\n      <th>IBB</th>\n      <th>HBP</th>\n      <th>SH</th>\n      <th>SF</th>\n      <th>GIDP</th>\n    </tr>\n  </thead>\n  <tbody>\n    <tr>\n      <th>7566</th>\n      <td>anderjo01</td>\n      <td>1899</td>\n      <td>1</td>\n      <td>BRO</td>\n      <td>NL</td>\n      <td>117</td>\n      <td>439</td>\n      <td>65</td>\n      <td>118</td>\n      <td>18</td>\n      <td>...</td>\n      <td>92.0</td>\n      <td>25.0</td>\n      <td>NaN</td>\n      <td>27</td>\n      <td>24.0</td>\n      <td>NaN</td>\n      <td>4.0</td>\n      <td>2.0</td>\n      <td>NaN</td>\n      <td>NaN</td>\n    </tr>\n    <tr>\n      <th>7567</th>\n      <td>atherch01</td>\n      <td>1899</td>\n      <td>1</td>\n      <td>WAS</td>\n      <td>NL</td>\n      <td>65</td>\n      <td>242</td>\n      <td>28</td>\n      <td>60</td>\n      <td>5</td>\n      <td>...</td>\n      <td>23.0</td>\n      <td>2.0</td>\n      <td>NaN</td>\n      <td>21</td>\n      <td>26.0</td>\n      <td>NaN</td>\n      <td>2.0</td>\n      <td>4.0</td>\n      <td>NaN</td>\n      <td>NaN</td>\n    </tr>\n    <tr>\n      <th>7568</th>\n      <td>baileha01</td>\n      <td>1899</td>\n      <td>1</td>\n      <td>BSN</td>\n      <td>NL</td>\n      <td>12</td>\n      <td>34</td>\n      <td>3</td>\n      <td>8</td>\n      <td>2</td>\n      <td>...</td>\n      <td>2.0</td>\n      <td>0.0</td>\n      <td>NaN</td>\n      <td>2</td>\n      <td>3.0</td>\n      <td>NaN</td>\n      <td>1.0</td>\n      <td>0.0</td>\n      <td>NaN</td>\n      <td>NaN</td>\n    </tr>\n    <tr>\n      <th>7569</th>\n      <td>bakerki01</td>\n      <td>1899</td>\n      <td>1</td>\n      <td>WAS</td>\n      <td>NL</td>\n      <td>12</td>\n      <td>19</td>\n      <td>1</td>\n      <td>3</td>\n      <td>0</td>\n      <td>...</td>\n      <td>1.0</td>\n      <td>0.0</td>\n      <td>NaN</td>\n      <td>1</td>\n      <td>6.0</td>\n      <td>NaN</td>\n      <td>0.0</td>\n      <td>0.0</td>\n      <td>NaN</td>\n      <td>NaN</td>\n    </tr>\n    <tr>\n      <th>7570</th>\n      <td>barreji01</td>\n      <td>1899</td>\n      <td>1</td>\n      <td>CIN</td>\n      <td>NL</td>\n      <td>26</td>\n      <td>92</td>\n      <td>30</td>\n      <td>34</td>\n      <td>2</td>\n      <td>...</td>\n      <td>10.0</td>\n      <td>4.0</td>\n      <td>NaN</td>\n      <td>18</td>\n      <td>7.0</td>\n      <td>NaN</td>\n      <td>1.0</td>\n      <td>3.0</td>\n      <td>NaN</td>\n      <td>NaN</td>\n    </tr>\n    <tr>\n      <th>...</th>\n      <td>...</td>\n      <td>...</td>\n      <td>...</td>\n      <td>...</td>\n      <td>...</td>\n      <td>...</td>\n      <td>...</td>\n      <td>...</td>\n      <td>...</td>\n      <td>...</td>\n      <td>...</td>\n      <td>...</td>\n      <td>...</td>\n      <td>...</td>\n      <td>...</td>\n      <td>...</td>\n      <td>...</td>\n      <td>...</td>\n      <td>...</td>\n      <td>...</td>\n      <td>...</td>\n    </tr>\n    <tr>\n      <th>110490</th>\n      <td>zimmejo02</td>\n      <td>2021</td>\n      <td>1</td>\n      <td>MIL</td>\n      <td>NL</td>\n      <td>2</td>\n      <td>1</td>\n      <td>0</td>\n      <td>0</td>\n      <td>0</td>\n      <td>...</td>\n      <td>0.0</td>\n      <td>0.0</td>\n      <td>0.0</td>\n      <td>0</td>\n      <td>1.0</td>\n      <td>0.0</td>\n      <td>0.0</td>\n      <td>0.0</td>\n      <td>0.0</td>\n      <td>0.0</td>\n    </tr>\n    <tr>\n      <th>110491</th>\n      <td>zimmeky01</td>\n      <td>2021</td>\n      <td>1</td>\n      <td>KCA</td>\n      <td>AL</td>\n      <td>52</td>\n      <td>0</td>\n      <td>0</td>\n      <td>0</td>\n      <td>0</td>\n      <td>...</td>\n      <td>0.0</td>\n      <td>0.0</td>\n      <td>0.0</td>\n      <td>0</td>\n      <td>0.0</td>\n      <td>0.0</td>\n      <td>0.0</td>\n      <td>0.0</td>\n      <td>0.0</td>\n      <td>0.0</td>\n    </tr>\n    <tr>\n      <th>110492</th>\n      <td>zimmery01</td>\n      <td>2021</td>\n      <td>1</td>\n      <td>WAS</td>\n      <td>NL</td>\n      <td>110</td>\n      <td>255</td>\n      <td>27</td>\n      <td>62</td>\n      <td>16</td>\n      <td>...</td>\n      <td>46.0</td>\n      <td>0.0</td>\n      <td>0.0</td>\n      <td>16</td>\n      <td>77.0</td>\n      <td>0.0</td>\n      <td>0.0</td>\n      <td>0.0</td>\n      <td>2.0</td>\n      <td>9.0</td>\n    </tr>\n    <tr>\n      <th>110493</th>\n      <td>zuberty01</td>\n      <td>2021</td>\n      <td>1</td>\n      <td>KCA</td>\n      <td>AL</td>\n      <td>31</td>\n      <td>1</td>\n      <td>0</td>\n      <td>0</td>\n      <td>0</td>\n      <td>...</td>\n      <td>0.0</td>\n      <td>0.0</td>\n      <td>0.0</td>\n      <td>0</td>\n      <td>1.0</td>\n      <td>0.0</td>\n      <td>0.0</td>\n      <td>0.0</td>\n      <td>0.0</td>\n      <td>0.0</td>\n    </tr>\n    <tr>\n      <th>110494</th>\n      <td>zuninmi01</td>\n      <td>2021</td>\n      <td>1</td>\n      <td>TBA</td>\n      <td>AL</td>\n      <td>109</td>\n      <td>333</td>\n      <td>64</td>\n      <td>72</td>\n      <td>11</td>\n      <td>...</td>\n      <td>62.0</td>\n      <td>0.0</td>\n      <td>0.0</td>\n      <td>34</td>\n      <td>132.0</td>\n      <td>0.0</td>\n      <td>7.0</td>\n      <td>0.0</td>\n      <td>1.0</td>\n      <td>7.0</td>\n    </tr>\n  </tbody>\n</table>\n<p>102929 rows × 22 columns</p>\n</div>"
     },
     "execution_count": 20,
     "metadata": {},
     "output_type": "execute_result"
    }
   ],
   "source": [
    "batting_df"
   ],
   "metadata": {
    "collapsed": false,
    "pycharm": {
     "name": "#%%\n"
    }
   }
  },
  {
   "cell_type": "code",
   "execution_count": 6,
   "outputs": [],
   "source": [
    "teams_df[\"minAB\"] = 3.1 * teams_df['G']"
   ],
   "metadata": {
    "collapsed": false,
    "pycharm": {
     "name": "#%%\n"
    }
   }
  },
  {
   "cell_type": "code",
   "execution_count": 7,
   "outputs": [],
   "source": [
    "batting_heavy_min = pd.merge(batting_df, teams_df[['minAB', 'yearID', 'teamID']], on=['yearID', 'teamID'])"
   ],
   "metadata": {
    "collapsed": false,
    "pycharm": {
     "name": "#%%\n"
    }
   }
  },
  {
   "cell_type": "code",
   "execution_count": 8,
   "outputs": [
    {
     "data": {
      "text/plain": "         playerID  yearID  stint teamID lgID    G   AB   R    H  2B  ...  \\\n0       anderjo01    1899      1    BRO   NL  117  439  65  118  18  ...   \n1        becker01    1899      1    BRO   NL    8   24   2    4   2  ...   \n2       caseydo01    1899      2    BRO   NL  134  525  75  141  14  ...   \n3       cassipe01    1899      1    BRO   NL    6   20   2    3   1  ...   \n4       dahlebi01    1899      1    BRO   NL  121  428  87  121  22  ...   \n...           ...     ...    ...    ...  ...  ...  ...  ..  ...  ..  ...   \n102924  wainwad01    2021      1    SLN   NL   34   57   1    7   2  ...   \n102925   webbty01    2021      1    SLN   NL   22    1   0    0   0  ...   \n102926  whitlko01    2021      1    SLN   NL   25    0   0    0   0  ...   \n102927  williju02    2021      1    SLN   NL   51  119  10   19   0  ...   \n102928  woodfja01    2021      1    SLN   NL   26   18   0    2   0  ...   \n\n          SB   CS  BB    SO  IBB   HBP    SH   SF  GIDP  minAB  \n0       25.0  NaN  27  24.0  NaN   4.0   2.0  NaN   NaN  458.8  \n1        0.0  NaN   0   4.0  NaN   0.0   0.0  NaN   NaN  458.8  \n2       27.0  NaN  25  16.0  NaN   9.0   6.0  NaN   NaN  458.8  \n3        1.0  NaN   1   4.0  NaN   2.0   0.0  NaN   NaN  458.8  \n4       29.0  NaN  67  23.0  NaN  15.0   4.0  NaN   NaN  458.8  \n...      ...  ...  ..   ...  ...   ...   ...  ...   ...    ...  \n102924   0.0  0.0   3  25.0  0.0   0.0  14.0  0.0   2.0  502.2  \n102925   0.0  0.0   0   1.0  0.0   0.0   0.0  0.0   0.0  502.2  \n102926   0.0  0.0   0   0.0  0.0   0.0   0.0  0.0   0.0  502.2  \n102927   0.0  1.0  17  46.0  5.0   1.0   0.0  0.0   2.0  502.2  \n102928   0.0  0.0   0   9.0  0.0   0.0   2.0  0.0   0.0  502.2  \n\n[102929 rows x 23 columns]",
      "text/html": "<div>\n<style scoped>\n    .dataframe tbody tr th:only-of-type {\n        vertical-align: middle;\n    }\n\n    .dataframe tbody tr th {\n        vertical-align: top;\n    }\n\n    .dataframe thead th {\n        text-align: right;\n    }\n</style>\n<table border=\"1\" class=\"dataframe\">\n  <thead>\n    <tr style=\"text-align: right;\">\n      <th></th>\n      <th>playerID</th>\n      <th>yearID</th>\n      <th>stint</th>\n      <th>teamID</th>\n      <th>lgID</th>\n      <th>G</th>\n      <th>AB</th>\n      <th>R</th>\n      <th>H</th>\n      <th>2B</th>\n      <th>...</th>\n      <th>SB</th>\n      <th>CS</th>\n      <th>BB</th>\n      <th>SO</th>\n      <th>IBB</th>\n      <th>HBP</th>\n      <th>SH</th>\n      <th>SF</th>\n      <th>GIDP</th>\n      <th>minAB</th>\n    </tr>\n  </thead>\n  <tbody>\n    <tr>\n      <th>0</th>\n      <td>anderjo01</td>\n      <td>1899</td>\n      <td>1</td>\n      <td>BRO</td>\n      <td>NL</td>\n      <td>117</td>\n      <td>439</td>\n      <td>65</td>\n      <td>118</td>\n      <td>18</td>\n      <td>...</td>\n      <td>25.0</td>\n      <td>NaN</td>\n      <td>27</td>\n      <td>24.0</td>\n      <td>NaN</td>\n      <td>4.0</td>\n      <td>2.0</td>\n      <td>NaN</td>\n      <td>NaN</td>\n      <td>458.8</td>\n    </tr>\n    <tr>\n      <th>1</th>\n      <td>becker01</td>\n      <td>1899</td>\n      <td>1</td>\n      <td>BRO</td>\n      <td>NL</td>\n      <td>8</td>\n      <td>24</td>\n      <td>2</td>\n      <td>4</td>\n      <td>2</td>\n      <td>...</td>\n      <td>0.0</td>\n      <td>NaN</td>\n      <td>0</td>\n      <td>4.0</td>\n      <td>NaN</td>\n      <td>0.0</td>\n      <td>0.0</td>\n      <td>NaN</td>\n      <td>NaN</td>\n      <td>458.8</td>\n    </tr>\n    <tr>\n      <th>2</th>\n      <td>caseydo01</td>\n      <td>1899</td>\n      <td>2</td>\n      <td>BRO</td>\n      <td>NL</td>\n      <td>134</td>\n      <td>525</td>\n      <td>75</td>\n      <td>141</td>\n      <td>14</td>\n      <td>...</td>\n      <td>27.0</td>\n      <td>NaN</td>\n      <td>25</td>\n      <td>16.0</td>\n      <td>NaN</td>\n      <td>9.0</td>\n      <td>6.0</td>\n      <td>NaN</td>\n      <td>NaN</td>\n      <td>458.8</td>\n    </tr>\n    <tr>\n      <th>3</th>\n      <td>cassipe01</td>\n      <td>1899</td>\n      <td>1</td>\n      <td>BRO</td>\n      <td>NL</td>\n      <td>6</td>\n      <td>20</td>\n      <td>2</td>\n      <td>3</td>\n      <td>1</td>\n      <td>...</td>\n      <td>1.0</td>\n      <td>NaN</td>\n      <td>1</td>\n      <td>4.0</td>\n      <td>NaN</td>\n      <td>2.0</td>\n      <td>0.0</td>\n      <td>NaN</td>\n      <td>NaN</td>\n      <td>458.8</td>\n    </tr>\n    <tr>\n      <th>4</th>\n      <td>dahlebi01</td>\n      <td>1899</td>\n      <td>1</td>\n      <td>BRO</td>\n      <td>NL</td>\n      <td>121</td>\n      <td>428</td>\n      <td>87</td>\n      <td>121</td>\n      <td>22</td>\n      <td>...</td>\n      <td>29.0</td>\n      <td>NaN</td>\n      <td>67</td>\n      <td>23.0</td>\n      <td>NaN</td>\n      <td>15.0</td>\n      <td>4.0</td>\n      <td>NaN</td>\n      <td>NaN</td>\n      <td>458.8</td>\n    </tr>\n    <tr>\n      <th>...</th>\n      <td>...</td>\n      <td>...</td>\n      <td>...</td>\n      <td>...</td>\n      <td>...</td>\n      <td>...</td>\n      <td>...</td>\n      <td>...</td>\n      <td>...</td>\n      <td>...</td>\n      <td>...</td>\n      <td>...</td>\n      <td>...</td>\n      <td>...</td>\n      <td>...</td>\n      <td>...</td>\n      <td>...</td>\n      <td>...</td>\n      <td>...</td>\n      <td>...</td>\n      <td>...</td>\n    </tr>\n    <tr>\n      <th>102924</th>\n      <td>wainwad01</td>\n      <td>2021</td>\n      <td>1</td>\n      <td>SLN</td>\n      <td>NL</td>\n      <td>34</td>\n      <td>57</td>\n      <td>1</td>\n      <td>7</td>\n      <td>2</td>\n      <td>...</td>\n      <td>0.0</td>\n      <td>0.0</td>\n      <td>3</td>\n      <td>25.0</td>\n      <td>0.0</td>\n      <td>0.0</td>\n      <td>14.0</td>\n      <td>0.0</td>\n      <td>2.0</td>\n      <td>502.2</td>\n    </tr>\n    <tr>\n      <th>102925</th>\n      <td>webbty01</td>\n      <td>2021</td>\n      <td>1</td>\n      <td>SLN</td>\n      <td>NL</td>\n      <td>22</td>\n      <td>1</td>\n      <td>0</td>\n      <td>0</td>\n      <td>0</td>\n      <td>...</td>\n      <td>0.0</td>\n      <td>0.0</td>\n      <td>0</td>\n      <td>1.0</td>\n      <td>0.0</td>\n      <td>0.0</td>\n      <td>0.0</td>\n      <td>0.0</td>\n      <td>0.0</td>\n      <td>502.2</td>\n    </tr>\n    <tr>\n      <th>102926</th>\n      <td>whitlko01</td>\n      <td>2021</td>\n      <td>1</td>\n      <td>SLN</td>\n      <td>NL</td>\n      <td>25</td>\n      <td>0</td>\n      <td>0</td>\n      <td>0</td>\n      <td>0</td>\n      <td>...</td>\n      <td>0.0</td>\n      <td>0.0</td>\n      <td>0</td>\n      <td>0.0</td>\n      <td>0.0</td>\n      <td>0.0</td>\n      <td>0.0</td>\n      <td>0.0</td>\n      <td>0.0</td>\n      <td>502.2</td>\n    </tr>\n    <tr>\n      <th>102927</th>\n      <td>williju02</td>\n      <td>2021</td>\n      <td>1</td>\n      <td>SLN</td>\n      <td>NL</td>\n      <td>51</td>\n      <td>119</td>\n      <td>10</td>\n      <td>19</td>\n      <td>0</td>\n      <td>...</td>\n      <td>0.0</td>\n      <td>1.0</td>\n      <td>17</td>\n      <td>46.0</td>\n      <td>5.0</td>\n      <td>1.0</td>\n      <td>0.0</td>\n      <td>0.0</td>\n      <td>2.0</td>\n      <td>502.2</td>\n    </tr>\n    <tr>\n      <th>102928</th>\n      <td>woodfja01</td>\n      <td>2021</td>\n      <td>1</td>\n      <td>SLN</td>\n      <td>NL</td>\n      <td>26</td>\n      <td>18</td>\n      <td>0</td>\n      <td>2</td>\n      <td>0</td>\n      <td>...</td>\n      <td>0.0</td>\n      <td>0.0</td>\n      <td>0</td>\n      <td>9.0</td>\n      <td>0.0</td>\n      <td>0.0</td>\n      <td>2.0</td>\n      <td>0.0</td>\n      <td>0.0</td>\n      <td>502.2</td>\n    </tr>\n  </tbody>\n</table>\n<p>102929 rows × 23 columns</p>\n</div>"
     },
     "execution_count": 8,
     "metadata": {},
     "output_type": "execute_result"
    }
   ],
   "source": [
    "batting_heavy_min"
   ],
   "metadata": {
    "collapsed": false,
    "pycharm": {
     "name": "#%%\n"
    }
   }
  },
  {
   "cell_type": "code",
   "execution_count": 9,
   "outputs": [],
   "source": [
    "batting_heavy_min = batting_heavy_min[batting_heavy_min[\"minAB\"] < batting_heavy_min[\"AB\"]]"
   ],
   "metadata": {
    "collapsed": false,
    "pycharm": {
     "name": "#%%\n"
    }
   }
  },
  {
   "cell_type": "code",
   "execution_count": 10,
   "outputs": [
    {
     "data": {
      "text/plain": "         playerID  yearID  stint teamID lgID    G   AB    R    H  2B  ...  \\\n2       caseydo01    1899      2    BRO   NL  134  525   75  141  14  ...   \n5        dalyto01    1899      1    BRO   NL  141  498   95  156  24  ...   \n16      keelewi01    1899      1    BRO   NL  141  570  140  216  12  ...   \n17      kellejo01    1899      1    BRO   NL  143  538  108  175  21  ...   \n45      freembu01    1899      1    WAS   NL  155  588  107  187  19  ...   \n...           ...     ...    ...    ...  ...  ...  ...  ...  ...  ..  ...   \n102873  verdual01    2021      1    BOS   AL  146  544   88  157  32  ...   \n102878  arenano01    2021      1    SLN   NL  157  593   81  151  34  ...   \n102881  carlsdy01    2021      1    SLN   NL  149  542   79  144  31  ...   \n102886  edmanto01    2021      1    SLN   NL  159  641   91  168  41  ...   \n102894  goldspa01    2021      1    SLN   NL  158  603  102  177  36  ...   \n\n          SB   CS  BB     SO  IBB   HBP    SH   SF  GIDP  minAB  \n2       27.0  NaN  25   16.0  NaN   9.0   6.0  NaN   NaN  458.8  \n5       43.0  NaN  69   34.0  NaN  12.0   8.0  NaN   NaN  458.8  \n16      45.0  NaN  37    2.0  NaN   9.0  17.0  NaN   NaN  458.8  \n17      31.0  NaN  70   23.0  NaN   7.0  11.0  NaN   NaN  458.8  \n45      21.0  NaN  23   25.0  NaN  18.0   5.0  NaN   NaN  480.5  \n...      ...  ...  ..    ...  ...   ...   ...  ...   ...    ...  \n102873   6.0  2.0  51   96.0  6.0   4.0   0.0  5.0  11.0  502.2  \n102878   2.0  0.0  50   96.0  8.0   3.0   0.0  7.0  20.0  502.2  \n102881   2.0  1.0  57  152.0  2.0  11.0   1.0  8.0   5.0  502.2  \n102886  30.0  5.0  38   95.0  1.0   6.0   2.0  4.0   4.0  502.2  \n102894  12.0  0.0  67  136.0  2.0   4.0   0.0  5.0  13.0  502.2  \n\n[9528 rows x 23 columns]",
      "text/html": "<div>\n<style scoped>\n    .dataframe tbody tr th:only-of-type {\n        vertical-align: middle;\n    }\n\n    .dataframe tbody tr th {\n        vertical-align: top;\n    }\n\n    .dataframe thead th {\n        text-align: right;\n    }\n</style>\n<table border=\"1\" class=\"dataframe\">\n  <thead>\n    <tr style=\"text-align: right;\">\n      <th></th>\n      <th>playerID</th>\n      <th>yearID</th>\n      <th>stint</th>\n      <th>teamID</th>\n      <th>lgID</th>\n      <th>G</th>\n      <th>AB</th>\n      <th>R</th>\n      <th>H</th>\n      <th>2B</th>\n      <th>...</th>\n      <th>SB</th>\n      <th>CS</th>\n      <th>BB</th>\n      <th>SO</th>\n      <th>IBB</th>\n      <th>HBP</th>\n      <th>SH</th>\n      <th>SF</th>\n      <th>GIDP</th>\n      <th>minAB</th>\n    </tr>\n  </thead>\n  <tbody>\n    <tr>\n      <th>2</th>\n      <td>caseydo01</td>\n      <td>1899</td>\n      <td>2</td>\n      <td>BRO</td>\n      <td>NL</td>\n      <td>134</td>\n      <td>525</td>\n      <td>75</td>\n      <td>141</td>\n      <td>14</td>\n      <td>...</td>\n      <td>27.0</td>\n      <td>NaN</td>\n      <td>25</td>\n      <td>16.0</td>\n      <td>NaN</td>\n      <td>9.0</td>\n      <td>6.0</td>\n      <td>NaN</td>\n      <td>NaN</td>\n      <td>458.8</td>\n    </tr>\n    <tr>\n      <th>5</th>\n      <td>dalyto01</td>\n      <td>1899</td>\n      <td>1</td>\n      <td>BRO</td>\n      <td>NL</td>\n      <td>141</td>\n      <td>498</td>\n      <td>95</td>\n      <td>156</td>\n      <td>24</td>\n      <td>...</td>\n      <td>43.0</td>\n      <td>NaN</td>\n      <td>69</td>\n      <td>34.0</td>\n      <td>NaN</td>\n      <td>12.0</td>\n      <td>8.0</td>\n      <td>NaN</td>\n      <td>NaN</td>\n      <td>458.8</td>\n    </tr>\n    <tr>\n      <th>16</th>\n      <td>keelewi01</td>\n      <td>1899</td>\n      <td>1</td>\n      <td>BRO</td>\n      <td>NL</td>\n      <td>141</td>\n      <td>570</td>\n      <td>140</td>\n      <td>216</td>\n      <td>12</td>\n      <td>...</td>\n      <td>45.0</td>\n      <td>NaN</td>\n      <td>37</td>\n      <td>2.0</td>\n      <td>NaN</td>\n      <td>9.0</td>\n      <td>17.0</td>\n      <td>NaN</td>\n      <td>NaN</td>\n      <td>458.8</td>\n    </tr>\n    <tr>\n      <th>17</th>\n      <td>kellejo01</td>\n      <td>1899</td>\n      <td>1</td>\n      <td>BRO</td>\n      <td>NL</td>\n      <td>143</td>\n      <td>538</td>\n      <td>108</td>\n      <td>175</td>\n      <td>21</td>\n      <td>...</td>\n      <td>31.0</td>\n      <td>NaN</td>\n      <td>70</td>\n      <td>23.0</td>\n      <td>NaN</td>\n      <td>7.0</td>\n      <td>11.0</td>\n      <td>NaN</td>\n      <td>NaN</td>\n      <td>458.8</td>\n    </tr>\n    <tr>\n      <th>45</th>\n      <td>freembu01</td>\n      <td>1899</td>\n      <td>1</td>\n      <td>WAS</td>\n      <td>NL</td>\n      <td>155</td>\n      <td>588</td>\n      <td>107</td>\n      <td>187</td>\n      <td>19</td>\n      <td>...</td>\n      <td>21.0</td>\n      <td>NaN</td>\n      <td>23</td>\n      <td>25.0</td>\n      <td>NaN</td>\n      <td>18.0</td>\n      <td>5.0</td>\n      <td>NaN</td>\n      <td>NaN</td>\n      <td>480.5</td>\n    </tr>\n    <tr>\n      <th>...</th>\n      <td>...</td>\n      <td>...</td>\n      <td>...</td>\n      <td>...</td>\n      <td>...</td>\n      <td>...</td>\n      <td>...</td>\n      <td>...</td>\n      <td>...</td>\n      <td>...</td>\n      <td>...</td>\n      <td>...</td>\n      <td>...</td>\n      <td>...</td>\n      <td>...</td>\n      <td>...</td>\n      <td>...</td>\n      <td>...</td>\n      <td>...</td>\n      <td>...</td>\n      <td>...</td>\n    </tr>\n    <tr>\n      <th>102873</th>\n      <td>verdual01</td>\n      <td>2021</td>\n      <td>1</td>\n      <td>BOS</td>\n      <td>AL</td>\n      <td>146</td>\n      <td>544</td>\n      <td>88</td>\n      <td>157</td>\n      <td>32</td>\n      <td>...</td>\n      <td>6.0</td>\n      <td>2.0</td>\n      <td>51</td>\n      <td>96.0</td>\n      <td>6.0</td>\n      <td>4.0</td>\n      <td>0.0</td>\n      <td>5.0</td>\n      <td>11.0</td>\n      <td>502.2</td>\n    </tr>\n    <tr>\n      <th>102878</th>\n      <td>arenano01</td>\n      <td>2021</td>\n      <td>1</td>\n      <td>SLN</td>\n      <td>NL</td>\n      <td>157</td>\n      <td>593</td>\n      <td>81</td>\n      <td>151</td>\n      <td>34</td>\n      <td>...</td>\n      <td>2.0</td>\n      <td>0.0</td>\n      <td>50</td>\n      <td>96.0</td>\n      <td>8.0</td>\n      <td>3.0</td>\n      <td>0.0</td>\n      <td>7.0</td>\n      <td>20.0</td>\n      <td>502.2</td>\n    </tr>\n    <tr>\n      <th>102881</th>\n      <td>carlsdy01</td>\n      <td>2021</td>\n      <td>1</td>\n      <td>SLN</td>\n      <td>NL</td>\n      <td>149</td>\n      <td>542</td>\n      <td>79</td>\n      <td>144</td>\n      <td>31</td>\n      <td>...</td>\n      <td>2.0</td>\n      <td>1.0</td>\n      <td>57</td>\n      <td>152.0</td>\n      <td>2.0</td>\n      <td>11.0</td>\n      <td>1.0</td>\n      <td>8.0</td>\n      <td>5.0</td>\n      <td>502.2</td>\n    </tr>\n    <tr>\n      <th>102886</th>\n      <td>edmanto01</td>\n      <td>2021</td>\n      <td>1</td>\n      <td>SLN</td>\n      <td>NL</td>\n      <td>159</td>\n      <td>641</td>\n      <td>91</td>\n      <td>168</td>\n      <td>41</td>\n      <td>...</td>\n      <td>30.0</td>\n      <td>5.0</td>\n      <td>38</td>\n      <td>95.0</td>\n      <td>1.0</td>\n      <td>6.0</td>\n      <td>2.0</td>\n      <td>4.0</td>\n      <td>4.0</td>\n      <td>502.2</td>\n    </tr>\n    <tr>\n      <th>102894</th>\n      <td>goldspa01</td>\n      <td>2021</td>\n      <td>1</td>\n      <td>SLN</td>\n      <td>NL</td>\n      <td>158</td>\n      <td>603</td>\n      <td>102</td>\n      <td>177</td>\n      <td>36</td>\n      <td>...</td>\n      <td>12.0</td>\n      <td>0.0</td>\n      <td>67</td>\n      <td>136.0</td>\n      <td>2.0</td>\n      <td>4.0</td>\n      <td>0.0</td>\n      <td>5.0</td>\n      <td>13.0</td>\n      <td>502.2</td>\n    </tr>\n  </tbody>\n</table>\n<p>9528 rows × 23 columns</p>\n</div>"
     },
     "execution_count": 10,
     "metadata": {},
     "output_type": "execute_result"
    }
   ],
   "source": [
    "batting_heavy_min"
   ],
   "metadata": {
    "collapsed": false,
    "pycharm": {
     "name": "#%%\n"
    }
   }
  },
  {
   "cell_type": "code",
   "execution_count": 34,
   "outputs": [],
   "source": [
    "batting_heavy_data = pd.merge(batting_heavy_min, players_df, on=[\"playerID\"])\n",
    "batting_heavy_data[\"fullName\"] = batting_heavy_data[\"nameFirst\"] + \" \" + batting_heavy_data[\"nameLast\"]"
   ],
   "metadata": {
    "collapsed": false,
    "pycharm": {
     "name": "#%%\n"
    }
   }
  },
  {
   "cell_type": "code",
   "execution_count": 35,
   "outputs": [
    {
     "data": {
      "text/plain": "       playerID  yearID  stint teamID lgID    G   AB    R    H  2B  ...  \\\n0     caseydo01    1899      2    BRO   NL  134  525   75  141  14  ...   \n1     caseydo01    1901      1    DET   AL  128  540  105  153  16  ...   \n2     caseydo01    1902      1    DET   AL  132  520   69  142  18  ...   \n3     caseydo01    1903      1    CHN   NL  112  435   56  126   8  ...   \n4     caseydo01    1904      1    CHN   NL  136  548   71  147  20  ...   \n...         ...     ...    ...    ...  ...  ...  ...  ...  ...  ..  ...   \n9523  reynobr01    2021      1    PIT   NL  159  559   93  169  35  ...   \n9524  francty01    2021      1    SEA   AL  152  571   85  166  32  ...   \n9525  hernaen02    2021      1    BOS   AL  134  508   84  127  35  ...   \n9526  renfrhu01    2021      1    BOS   AL  144  521   89  135  33  ...   \n9527  carlsdy01    2021      1    SLN   NL  149  542   79  144  31  ...   \n\n           nameGiven  weight  height  bats  throws       debut   finalGame  \\\n0      James Patrick   157.0    66.0     B       R  1898-09-14  1907-10-05   \n1      James Patrick   157.0    66.0     B       R  1898-09-14  1907-10-05   \n2      James Patrick   157.0    66.0     B       R  1898-09-14  1907-10-05   \n3      James Patrick   157.0    66.0     B       R  1898-09-14  1907-10-05   \n4      James Patrick   157.0    66.0     B       R  1898-09-14  1907-10-05   \n...              ...     ...     ...   ...     ...         ...         ...   \n9523   Bryan Patrick   205.0    75.0     B       R  2019-04-20  2021-10-03   \n9524  Tyler Lawrence   217.0    71.0     R       R  2019-04-26  2021-10-03   \n9525      Enrique J.   190.0    71.0     R       R  2014-07-01  2021-10-03   \n9526   Dustin Hunter   230.0    73.0     R       R  2016-09-21  2021-10-03   \n9527     Dylan James   205.0    74.0     B       L  2020-08-15  2021-10-03   \n\n       retroID    bbrefID           fullName  \n0     cased101  caseydo01          Doc Casey  \n1     cased101  caseydo01          Doc Casey  \n2     cased101  caseydo01          Doc Casey  \n3     cased101  caseydo01          Doc Casey  \n4     cased101  caseydo01          Doc Casey  \n...        ...        ...                ...  \n9523  reynb001  reynobr01     Bryan Reynolds  \n9524  frant002  francty01          Ty France  \n9525  herne001  hernaen02  Enrique Hernandez  \n9526  renfh001  renfrhu01     Hunter Renfroe  \n9527  carld002  carlsdy01      Dylan Carlson  \n\n[9528 rows x 47 columns]",
      "text/html": "<div>\n<style scoped>\n    .dataframe tbody tr th:only-of-type {\n        vertical-align: middle;\n    }\n\n    .dataframe tbody tr th {\n        vertical-align: top;\n    }\n\n    .dataframe thead th {\n        text-align: right;\n    }\n</style>\n<table border=\"1\" class=\"dataframe\">\n  <thead>\n    <tr style=\"text-align: right;\">\n      <th></th>\n      <th>playerID</th>\n      <th>yearID</th>\n      <th>stint</th>\n      <th>teamID</th>\n      <th>lgID</th>\n      <th>G</th>\n      <th>AB</th>\n      <th>R</th>\n      <th>H</th>\n      <th>2B</th>\n      <th>...</th>\n      <th>nameGiven</th>\n      <th>weight</th>\n      <th>height</th>\n      <th>bats</th>\n      <th>throws</th>\n      <th>debut</th>\n      <th>finalGame</th>\n      <th>retroID</th>\n      <th>bbrefID</th>\n      <th>fullName</th>\n    </tr>\n  </thead>\n  <tbody>\n    <tr>\n      <th>0</th>\n      <td>caseydo01</td>\n      <td>1899</td>\n      <td>2</td>\n      <td>BRO</td>\n      <td>NL</td>\n      <td>134</td>\n      <td>525</td>\n      <td>75</td>\n      <td>141</td>\n      <td>14</td>\n      <td>...</td>\n      <td>James Patrick</td>\n      <td>157.0</td>\n      <td>66.0</td>\n      <td>B</td>\n      <td>R</td>\n      <td>1898-09-14</td>\n      <td>1907-10-05</td>\n      <td>cased101</td>\n      <td>caseydo01</td>\n      <td>Doc Casey</td>\n    </tr>\n    <tr>\n      <th>1</th>\n      <td>caseydo01</td>\n      <td>1901</td>\n      <td>1</td>\n      <td>DET</td>\n      <td>AL</td>\n      <td>128</td>\n      <td>540</td>\n      <td>105</td>\n      <td>153</td>\n      <td>16</td>\n      <td>...</td>\n      <td>James Patrick</td>\n      <td>157.0</td>\n      <td>66.0</td>\n      <td>B</td>\n      <td>R</td>\n      <td>1898-09-14</td>\n      <td>1907-10-05</td>\n      <td>cased101</td>\n      <td>caseydo01</td>\n      <td>Doc Casey</td>\n    </tr>\n    <tr>\n      <th>2</th>\n      <td>caseydo01</td>\n      <td>1902</td>\n      <td>1</td>\n      <td>DET</td>\n      <td>AL</td>\n      <td>132</td>\n      <td>520</td>\n      <td>69</td>\n      <td>142</td>\n      <td>18</td>\n      <td>...</td>\n      <td>James Patrick</td>\n      <td>157.0</td>\n      <td>66.0</td>\n      <td>B</td>\n      <td>R</td>\n      <td>1898-09-14</td>\n      <td>1907-10-05</td>\n      <td>cased101</td>\n      <td>caseydo01</td>\n      <td>Doc Casey</td>\n    </tr>\n    <tr>\n      <th>3</th>\n      <td>caseydo01</td>\n      <td>1903</td>\n      <td>1</td>\n      <td>CHN</td>\n      <td>NL</td>\n      <td>112</td>\n      <td>435</td>\n      <td>56</td>\n      <td>126</td>\n      <td>8</td>\n      <td>...</td>\n      <td>James Patrick</td>\n      <td>157.0</td>\n      <td>66.0</td>\n      <td>B</td>\n      <td>R</td>\n      <td>1898-09-14</td>\n      <td>1907-10-05</td>\n      <td>cased101</td>\n      <td>caseydo01</td>\n      <td>Doc Casey</td>\n    </tr>\n    <tr>\n      <th>4</th>\n      <td>caseydo01</td>\n      <td>1904</td>\n      <td>1</td>\n      <td>CHN</td>\n      <td>NL</td>\n      <td>136</td>\n      <td>548</td>\n      <td>71</td>\n      <td>147</td>\n      <td>20</td>\n      <td>...</td>\n      <td>James Patrick</td>\n      <td>157.0</td>\n      <td>66.0</td>\n      <td>B</td>\n      <td>R</td>\n      <td>1898-09-14</td>\n      <td>1907-10-05</td>\n      <td>cased101</td>\n      <td>caseydo01</td>\n      <td>Doc Casey</td>\n    </tr>\n    <tr>\n      <th>...</th>\n      <td>...</td>\n      <td>...</td>\n      <td>...</td>\n      <td>...</td>\n      <td>...</td>\n      <td>...</td>\n      <td>...</td>\n      <td>...</td>\n      <td>...</td>\n      <td>...</td>\n      <td>...</td>\n      <td>...</td>\n      <td>...</td>\n      <td>...</td>\n      <td>...</td>\n      <td>...</td>\n      <td>...</td>\n      <td>...</td>\n      <td>...</td>\n      <td>...</td>\n      <td>...</td>\n    </tr>\n    <tr>\n      <th>9523</th>\n      <td>reynobr01</td>\n      <td>2021</td>\n      <td>1</td>\n      <td>PIT</td>\n      <td>NL</td>\n      <td>159</td>\n      <td>559</td>\n      <td>93</td>\n      <td>169</td>\n      <td>35</td>\n      <td>...</td>\n      <td>Bryan Patrick</td>\n      <td>205.0</td>\n      <td>75.0</td>\n      <td>B</td>\n      <td>R</td>\n      <td>2019-04-20</td>\n      <td>2021-10-03</td>\n      <td>reynb001</td>\n      <td>reynobr01</td>\n      <td>Bryan Reynolds</td>\n    </tr>\n    <tr>\n      <th>9524</th>\n      <td>francty01</td>\n      <td>2021</td>\n      <td>1</td>\n      <td>SEA</td>\n      <td>AL</td>\n      <td>152</td>\n      <td>571</td>\n      <td>85</td>\n      <td>166</td>\n      <td>32</td>\n      <td>...</td>\n      <td>Tyler Lawrence</td>\n      <td>217.0</td>\n      <td>71.0</td>\n      <td>R</td>\n      <td>R</td>\n      <td>2019-04-26</td>\n      <td>2021-10-03</td>\n      <td>frant002</td>\n      <td>francty01</td>\n      <td>Ty France</td>\n    </tr>\n    <tr>\n      <th>9525</th>\n      <td>hernaen02</td>\n      <td>2021</td>\n      <td>1</td>\n      <td>BOS</td>\n      <td>AL</td>\n      <td>134</td>\n      <td>508</td>\n      <td>84</td>\n      <td>127</td>\n      <td>35</td>\n      <td>...</td>\n      <td>Enrique J.</td>\n      <td>190.0</td>\n      <td>71.0</td>\n      <td>R</td>\n      <td>R</td>\n      <td>2014-07-01</td>\n      <td>2021-10-03</td>\n      <td>herne001</td>\n      <td>hernaen02</td>\n      <td>Enrique Hernandez</td>\n    </tr>\n    <tr>\n      <th>9526</th>\n      <td>renfrhu01</td>\n      <td>2021</td>\n      <td>1</td>\n      <td>BOS</td>\n      <td>AL</td>\n      <td>144</td>\n      <td>521</td>\n      <td>89</td>\n      <td>135</td>\n      <td>33</td>\n      <td>...</td>\n      <td>Dustin Hunter</td>\n      <td>230.0</td>\n      <td>73.0</td>\n      <td>R</td>\n      <td>R</td>\n      <td>2016-09-21</td>\n      <td>2021-10-03</td>\n      <td>renfh001</td>\n      <td>renfrhu01</td>\n      <td>Hunter Renfroe</td>\n    </tr>\n    <tr>\n      <th>9527</th>\n      <td>carlsdy01</td>\n      <td>2021</td>\n      <td>1</td>\n      <td>SLN</td>\n      <td>NL</td>\n      <td>149</td>\n      <td>542</td>\n      <td>79</td>\n      <td>144</td>\n      <td>31</td>\n      <td>...</td>\n      <td>Dylan James</td>\n      <td>205.0</td>\n      <td>74.0</td>\n      <td>B</td>\n      <td>L</td>\n      <td>2020-08-15</td>\n      <td>2021-10-03</td>\n      <td>carld002</td>\n      <td>carlsdy01</td>\n      <td>Dylan Carlson</td>\n    </tr>\n  </tbody>\n</table>\n<p>9528 rows × 47 columns</p>\n</div>"
     },
     "execution_count": 35,
     "metadata": {},
     "output_type": "execute_result"
    }
   ],
   "source": [
    "batting_heavy_data"
   ],
   "metadata": {
    "collapsed": false,
    "pycharm": {
     "name": "#%%\n"
    }
   }
  },
  {
   "cell_type": "code",
   "execution_count": 69,
   "outputs": [
    {
     "data": {
      "text/plain": "       yearID  Age   Tm  Lg      G     PA  Rbat  Rbaser  Rdp  Rfield  ...  \\\n0        1898   28  WHS  NL   28.0  117.0  -4.0     2.0  0.0    -2.0  ...   \n1        1899   29  WHS  NL    9.0   37.0  -5.0     0.0  0.0    -2.0  ...   \n2        1899   29  BRO  NL  134.0  565.0 -18.0     0.0  0.0    -2.0  ...   \n3        1900   30  BRO  NL    1.0    4.0   0.0     0.0  0.0     0.0  ...   \n4        1901   31  DET  AL  128.0  593.0  -8.0     1.0  0.0     7.0  ...   \n...       ...  ...  ...  ..    ...    ...   ...     ...  ...     ...  ...   \n28234    2021   29  BOS  AL  144.0  572.0   9.0    -2.0  1.0    -1.0  ...   \n28235    2022   30  MIL  NL   13.0   51.0  -1.0     0.0  0.0     1.0  ...   \n28236    2020   21  STL  NL   35.0  119.0  -6.0    -1.0  0.0     4.0  ...   \n28237    2021   22  STL  NL  149.0  619.0  13.0     0.0  1.0     1.0  ...   \n28238    2022   23  STL  NL   11.0   52.0  -3.0     1.0  0.0     0.0  ...   \n\n       waaWL%  162WL%  oWAR  dWAR  oRAR      Salary     Pos  Awards  \\\n0       0.490   0.498   0.3  -0.1   3.0         NaN    5/62     NaN   \n1       0.432   0.496  -0.3  -0.2  -3.0         NaN      /5     NaN   \n2       0.489   0.491   0.8   0.2   6.0         NaN      *5     NaN   \n3       0.530   0.500   0.0   0.0   0.0         NaN      /5     NaN   \n4       0.503   0.502   1.7   1.0  17.0         NaN    *5/H     NaN   \n...       ...     ...   ...   ...   ...         ...     ...     ...   \n28234   0.502   0.502   2.3  -0.5  23.0  $3,100,000  *9/8HD     NaN   \n28235   0.488   0.499  -0.1   0.1  -1.0  $7,650,000    *9/3     NaN   \n28236   0.491   0.498  -0.3   0.4  -3.0         NaN   987/H     NaN   \n28237   0.509   0.508   3.2  -0.2  33.0         NaN  *98/7H   RoY-3   \n28238   0.470   0.498  -0.2   0.0  -1.0         NaN      *9     NaN   \n\n         bbrefID  teamID  \n0      caseydo01     WHS  \n1      caseydo01     WHS  \n2      caseydo01     BRO  \n3      caseydo01     BRO  \n4      caseydo01     DET  \n...          ...     ...  \n28234  renfrhu01     BOS  \n28235  renfrhu01     MIL  \n28236  carlsdy01     STL  \n28237  carlsdy01     STL  \n28238  carlsdy01     STL  \n\n[28239 rows x 26 columns]",
      "text/html": "<div>\n<style scoped>\n    .dataframe tbody tr th:only-of-type {\n        vertical-align: middle;\n    }\n\n    .dataframe tbody tr th {\n        vertical-align: top;\n    }\n\n    .dataframe thead th {\n        text-align: right;\n    }\n</style>\n<table border=\"1\" class=\"dataframe\">\n  <thead>\n    <tr style=\"text-align: right;\">\n      <th></th>\n      <th>yearID</th>\n      <th>Age</th>\n      <th>Tm</th>\n      <th>Lg</th>\n      <th>G</th>\n      <th>PA</th>\n      <th>Rbat</th>\n      <th>Rbaser</th>\n      <th>Rdp</th>\n      <th>Rfield</th>\n      <th>...</th>\n      <th>waaWL%</th>\n      <th>162WL%</th>\n      <th>oWAR</th>\n      <th>dWAR</th>\n      <th>oRAR</th>\n      <th>Salary</th>\n      <th>Pos</th>\n      <th>Awards</th>\n      <th>bbrefID</th>\n      <th>teamID</th>\n    </tr>\n  </thead>\n  <tbody>\n    <tr>\n      <th>0</th>\n      <td>1898</td>\n      <td>28</td>\n      <td>WHS</td>\n      <td>NL</td>\n      <td>28.0</td>\n      <td>117.0</td>\n      <td>-4.0</td>\n      <td>2.0</td>\n      <td>0.0</td>\n      <td>-2.0</td>\n      <td>...</td>\n      <td>0.490</td>\n      <td>0.498</td>\n      <td>0.3</td>\n      <td>-0.1</td>\n      <td>3.0</td>\n      <td>NaN</td>\n      <td>5/62</td>\n      <td>NaN</td>\n      <td>caseydo01</td>\n      <td>WHS</td>\n    </tr>\n    <tr>\n      <th>1</th>\n      <td>1899</td>\n      <td>29</td>\n      <td>WHS</td>\n      <td>NL</td>\n      <td>9.0</td>\n      <td>37.0</td>\n      <td>-5.0</td>\n      <td>0.0</td>\n      <td>0.0</td>\n      <td>-2.0</td>\n      <td>...</td>\n      <td>0.432</td>\n      <td>0.496</td>\n      <td>-0.3</td>\n      <td>-0.2</td>\n      <td>-3.0</td>\n      <td>NaN</td>\n      <td>/5</td>\n      <td>NaN</td>\n      <td>caseydo01</td>\n      <td>WHS</td>\n    </tr>\n    <tr>\n      <th>2</th>\n      <td>1899</td>\n      <td>29</td>\n      <td>BRO</td>\n      <td>NL</td>\n      <td>134.0</td>\n      <td>565.0</td>\n      <td>-18.0</td>\n      <td>0.0</td>\n      <td>0.0</td>\n      <td>-2.0</td>\n      <td>...</td>\n      <td>0.489</td>\n      <td>0.491</td>\n      <td>0.8</td>\n      <td>0.2</td>\n      <td>6.0</td>\n      <td>NaN</td>\n      <td>*5</td>\n      <td>NaN</td>\n      <td>caseydo01</td>\n      <td>BRO</td>\n    </tr>\n    <tr>\n      <th>3</th>\n      <td>1900</td>\n      <td>30</td>\n      <td>BRO</td>\n      <td>NL</td>\n      <td>1.0</td>\n      <td>4.0</td>\n      <td>0.0</td>\n      <td>0.0</td>\n      <td>0.0</td>\n      <td>0.0</td>\n      <td>...</td>\n      <td>0.530</td>\n      <td>0.500</td>\n      <td>0.0</td>\n      <td>0.0</td>\n      <td>0.0</td>\n      <td>NaN</td>\n      <td>/5</td>\n      <td>NaN</td>\n      <td>caseydo01</td>\n      <td>BRO</td>\n    </tr>\n    <tr>\n      <th>4</th>\n      <td>1901</td>\n      <td>31</td>\n      <td>DET</td>\n      <td>AL</td>\n      <td>128.0</td>\n      <td>593.0</td>\n      <td>-8.0</td>\n      <td>1.0</td>\n      <td>0.0</td>\n      <td>7.0</td>\n      <td>...</td>\n      <td>0.503</td>\n      <td>0.502</td>\n      <td>1.7</td>\n      <td>1.0</td>\n      <td>17.0</td>\n      <td>NaN</td>\n      <td>*5/H</td>\n      <td>NaN</td>\n      <td>caseydo01</td>\n      <td>DET</td>\n    </tr>\n    <tr>\n      <th>...</th>\n      <td>...</td>\n      <td>...</td>\n      <td>...</td>\n      <td>...</td>\n      <td>...</td>\n      <td>...</td>\n      <td>...</td>\n      <td>...</td>\n      <td>...</td>\n      <td>...</td>\n      <td>...</td>\n      <td>...</td>\n      <td>...</td>\n      <td>...</td>\n      <td>...</td>\n      <td>...</td>\n      <td>...</td>\n      <td>...</td>\n      <td>...</td>\n      <td>...</td>\n      <td>...</td>\n    </tr>\n    <tr>\n      <th>28234</th>\n      <td>2021</td>\n      <td>29</td>\n      <td>BOS</td>\n      <td>AL</td>\n      <td>144.0</td>\n      <td>572.0</td>\n      <td>9.0</td>\n      <td>-2.0</td>\n      <td>1.0</td>\n      <td>-1.0</td>\n      <td>...</td>\n      <td>0.502</td>\n      <td>0.502</td>\n      <td>2.3</td>\n      <td>-0.5</td>\n      <td>23.0</td>\n      <td>$3,100,000</td>\n      <td>*9/8HD</td>\n      <td>NaN</td>\n      <td>renfrhu01</td>\n      <td>BOS</td>\n    </tr>\n    <tr>\n      <th>28235</th>\n      <td>2022</td>\n      <td>30</td>\n      <td>MIL</td>\n      <td>NL</td>\n      <td>13.0</td>\n      <td>51.0</td>\n      <td>-1.0</td>\n      <td>0.0</td>\n      <td>0.0</td>\n      <td>1.0</td>\n      <td>...</td>\n      <td>0.488</td>\n      <td>0.499</td>\n      <td>-0.1</td>\n      <td>0.1</td>\n      <td>-1.0</td>\n      <td>$7,650,000</td>\n      <td>*9/3</td>\n      <td>NaN</td>\n      <td>renfrhu01</td>\n      <td>MIL</td>\n    </tr>\n    <tr>\n      <th>28236</th>\n      <td>2020</td>\n      <td>21</td>\n      <td>STL</td>\n      <td>NL</td>\n      <td>35.0</td>\n      <td>119.0</td>\n      <td>-6.0</td>\n      <td>-1.0</td>\n      <td>0.0</td>\n      <td>4.0</td>\n      <td>...</td>\n      <td>0.491</td>\n      <td>0.498</td>\n      <td>-0.3</td>\n      <td>0.4</td>\n      <td>-3.0</td>\n      <td>NaN</td>\n      <td>987/H</td>\n      <td>NaN</td>\n      <td>carlsdy01</td>\n      <td>STL</td>\n    </tr>\n    <tr>\n      <th>28237</th>\n      <td>2021</td>\n      <td>22</td>\n      <td>STL</td>\n      <td>NL</td>\n      <td>149.0</td>\n      <td>619.0</td>\n      <td>13.0</td>\n      <td>0.0</td>\n      <td>1.0</td>\n      <td>1.0</td>\n      <td>...</td>\n      <td>0.509</td>\n      <td>0.508</td>\n      <td>3.2</td>\n      <td>-0.2</td>\n      <td>33.0</td>\n      <td>NaN</td>\n      <td>*98/7H</td>\n      <td>RoY-3</td>\n      <td>carlsdy01</td>\n      <td>STL</td>\n    </tr>\n    <tr>\n      <th>28238</th>\n      <td>2022</td>\n      <td>23</td>\n      <td>STL</td>\n      <td>NL</td>\n      <td>11.0</td>\n      <td>52.0</td>\n      <td>-3.0</td>\n      <td>1.0</td>\n      <td>0.0</td>\n      <td>0.0</td>\n      <td>...</td>\n      <td>0.470</td>\n      <td>0.498</td>\n      <td>-0.2</td>\n      <td>0.0</td>\n      <td>-1.0</td>\n      <td>NaN</td>\n      <td>*9</td>\n      <td>NaN</td>\n      <td>carlsdy01</td>\n      <td>STL</td>\n    </tr>\n  </tbody>\n</table>\n<p>28239 rows × 26 columns</p>\n</div>"
     },
     "execution_count": 69,
     "metadata": {},
     "output_type": "execute_result"
    }
   ],
   "source": [
    "batting_advanced_df"
   ],
   "metadata": {
    "collapsed": false,
    "pycharm": {
     "name": "#%%\n"
    }
   }
  },
  {
   "cell_type": "code",
   "execution_count": 70,
   "outputs": [],
   "source": [
    "batting_advanced_df['teamID'] = batting_advanced_df['Tm']"
   ],
   "metadata": {
    "collapsed": false,
    "pycharm": {
     "name": "#%%\n"
    }
   }
  },
  {
   "cell_type": "code",
   "execution_count": 71,
   "outputs": [
    {
     "data": {
      "text/plain": "       yearID  Age   Tm  Lg      G     PA  Rbat  Rbaser  Rdp  Rfield  ...  \\\n0        1898   28  WHS  NL   28.0  117.0  -4.0     2.0  0.0    -2.0  ...   \n1        1899   29  WHS  NL    9.0   37.0  -5.0     0.0  0.0    -2.0  ...   \n2        1899   29  BRO  NL  134.0  565.0 -18.0     0.0  0.0    -2.0  ...   \n3        1900   30  BRO  NL    1.0    4.0   0.0     0.0  0.0     0.0  ...   \n4        1901   31  DET  AL  128.0  593.0  -8.0     1.0  0.0     7.0  ...   \n...       ...  ...  ...  ..    ...    ...   ...     ...  ...     ...  ...   \n28234    2021   29  BOS  AL  144.0  572.0   9.0    -2.0  1.0    -1.0  ...   \n28235    2022   30  MIL  NL   13.0   51.0  -1.0     0.0  0.0     1.0  ...   \n28236    2020   21  STL  NL   35.0  119.0  -6.0    -1.0  0.0     4.0  ...   \n28237    2021   22  STL  NL  149.0  619.0  13.0     0.0  1.0     1.0  ...   \n28238    2022   23  STL  NL   11.0   52.0  -3.0     1.0  0.0     0.0  ...   \n\n       waaWL%  162WL%  oWAR  dWAR  oRAR      Salary     Pos  Awards  \\\n0       0.490   0.498   0.3  -0.1   3.0         NaN    5/62     NaN   \n1       0.432   0.496  -0.3  -0.2  -3.0         NaN      /5     NaN   \n2       0.489   0.491   0.8   0.2   6.0         NaN      *5     NaN   \n3       0.530   0.500   0.0   0.0   0.0         NaN      /5     NaN   \n4       0.503   0.502   1.7   1.0  17.0         NaN    *5/H     NaN   \n...       ...     ...   ...   ...   ...         ...     ...     ...   \n28234   0.502   0.502   2.3  -0.5  23.0  $3,100,000  *9/8HD     NaN   \n28235   0.488   0.499  -0.1   0.1  -1.0  $7,650,000    *9/3     NaN   \n28236   0.491   0.498  -0.3   0.4  -3.0         NaN   987/H     NaN   \n28237   0.509   0.508   3.2  -0.2  33.0         NaN  *98/7H   RoY-3   \n28238   0.470   0.498  -0.2   0.0  -1.0         NaN      *9     NaN   \n\n         bbrefID  teamID  \n0      caseydo01     WHS  \n1      caseydo01     WHS  \n2      caseydo01     BRO  \n3      caseydo01     BRO  \n4      caseydo01     DET  \n...          ...     ...  \n28234  renfrhu01     BOS  \n28235  renfrhu01     MIL  \n28236  carlsdy01     STL  \n28237  carlsdy01     STL  \n28238  carlsdy01     STL  \n\n[28239 rows x 26 columns]",
      "text/html": "<div>\n<style scoped>\n    .dataframe tbody tr th:only-of-type {\n        vertical-align: middle;\n    }\n\n    .dataframe tbody tr th {\n        vertical-align: top;\n    }\n\n    .dataframe thead th {\n        text-align: right;\n    }\n</style>\n<table border=\"1\" class=\"dataframe\">\n  <thead>\n    <tr style=\"text-align: right;\">\n      <th></th>\n      <th>yearID</th>\n      <th>Age</th>\n      <th>Tm</th>\n      <th>Lg</th>\n      <th>G</th>\n      <th>PA</th>\n      <th>Rbat</th>\n      <th>Rbaser</th>\n      <th>Rdp</th>\n      <th>Rfield</th>\n      <th>...</th>\n      <th>waaWL%</th>\n      <th>162WL%</th>\n      <th>oWAR</th>\n      <th>dWAR</th>\n      <th>oRAR</th>\n      <th>Salary</th>\n      <th>Pos</th>\n      <th>Awards</th>\n      <th>bbrefID</th>\n      <th>teamID</th>\n    </tr>\n  </thead>\n  <tbody>\n    <tr>\n      <th>0</th>\n      <td>1898</td>\n      <td>28</td>\n      <td>WHS</td>\n      <td>NL</td>\n      <td>28.0</td>\n      <td>117.0</td>\n      <td>-4.0</td>\n      <td>2.0</td>\n      <td>0.0</td>\n      <td>-2.0</td>\n      <td>...</td>\n      <td>0.490</td>\n      <td>0.498</td>\n      <td>0.3</td>\n      <td>-0.1</td>\n      <td>3.0</td>\n      <td>NaN</td>\n      <td>5/62</td>\n      <td>NaN</td>\n      <td>caseydo01</td>\n      <td>WHS</td>\n    </tr>\n    <tr>\n      <th>1</th>\n      <td>1899</td>\n      <td>29</td>\n      <td>WHS</td>\n      <td>NL</td>\n      <td>9.0</td>\n      <td>37.0</td>\n      <td>-5.0</td>\n      <td>0.0</td>\n      <td>0.0</td>\n      <td>-2.0</td>\n      <td>...</td>\n      <td>0.432</td>\n      <td>0.496</td>\n      <td>-0.3</td>\n      <td>-0.2</td>\n      <td>-3.0</td>\n      <td>NaN</td>\n      <td>/5</td>\n      <td>NaN</td>\n      <td>caseydo01</td>\n      <td>WHS</td>\n    </tr>\n    <tr>\n      <th>2</th>\n      <td>1899</td>\n      <td>29</td>\n      <td>BRO</td>\n      <td>NL</td>\n      <td>134.0</td>\n      <td>565.0</td>\n      <td>-18.0</td>\n      <td>0.0</td>\n      <td>0.0</td>\n      <td>-2.0</td>\n      <td>...</td>\n      <td>0.489</td>\n      <td>0.491</td>\n      <td>0.8</td>\n      <td>0.2</td>\n      <td>6.0</td>\n      <td>NaN</td>\n      <td>*5</td>\n      <td>NaN</td>\n      <td>caseydo01</td>\n      <td>BRO</td>\n    </tr>\n    <tr>\n      <th>3</th>\n      <td>1900</td>\n      <td>30</td>\n      <td>BRO</td>\n      <td>NL</td>\n      <td>1.0</td>\n      <td>4.0</td>\n      <td>0.0</td>\n      <td>0.0</td>\n      <td>0.0</td>\n      <td>0.0</td>\n      <td>...</td>\n      <td>0.530</td>\n      <td>0.500</td>\n      <td>0.0</td>\n      <td>0.0</td>\n      <td>0.0</td>\n      <td>NaN</td>\n      <td>/5</td>\n      <td>NaN</td>\n      <td>caseydo01</td>\n      <td>BRO</td>\n    </tr>\n    <tr>\n      <th>4</th>\n      <td>1901</td>\n      <td>31</td>\n      <td>DET</td>\n      <td>AL</td>\n      <td>128.0</td>\n      <td>593.0</td>\n      <td>-8.0</td>\n      <td>1.0</td>\n      <td>0.0</td>\n      <td>7.0</td>\n      <td>...</td>\n      <td>0.503</td>\n      <td>0.502</td>\n      <td>1.7</td>\n      <td>1.0</td>\n      <td>17.0</td>\n      <td>NaN</td>\n      <td>*5/H</td>\n      <td>NaN</td>\n      <td>caseydo01</td>\n      <td>DET</td>\n    </tr>\n    <tr>\n      <th>...</th>\n      <td>...</td>\n      <td>...</td>\n      <td>...</td>\n      <td>...</td>\n      <td>...</td>\n      <td>...</td>\n      <td>...</td>\n      <td>...</td>\n      <td>...</td>\n      <td>...</td>\n      <td>...</td>\n      <td>...</td>\n      <td>...</td>\n      <td>...</td>\n      <td>...</td>\n      <td>...</td>\n      <td>...</td>\n      <td>...</td>\n      <td>...</td>\n      <td>...</td>\n      <td>...</td>\n    </tr>\n    <tr>\n      <th>28234</th>\n      <td>2021</td>\n      <td>29</td>\n      <td>BOS</td>\n      <td>AL</td>\n      <td>144.0</td>\n      <td>572.0</td>\n      <td>9.0</td>\n      <td>-2.0</td>\n      <td>1.0</td>\n      <td>-1.0</td>\n      <td>...</td>\n      <td>0.502</td>\n      <td>0.502</td>\n      <td>2.3</td>\n      <td>-0.5</td>\n      <td>23.0</td>\n      <td>$3,100,000</td>\n      <td>*9/8HD</td>\n      <td>NaN</td>\n      <td>renfrhu01</td>\n      <td>BOS</td>\n    </tr>\n    <tr>\n      <th>28235</th>\n      <td>2022</td>\n      <td>30</td>\n      <td>MIL</td>\n      <td>NL</td>\n      <td>13.0</td>\n      <td>51.0</td>\n      <td>-1.0</td>\n      <td>0.0</td>\n      <td>0.0</td>\n      <td>1.0</td>\n      <td>...</td>\n      <td>0.488</td>\n      <td>0.499</td>\n      <td>-0.1</td>\n      <td>0.1</td>\n      <td>-1.0</td>\n      <td>$7,650,000</td>\n      <td>*9/3</td>\n      <td>NaN</td>\n      <td>renfrhu01</td>\n      <td>MIL</td>\n    </tr>\n    <tr>\n      <th>28236</th>\n      <td>2020</td>\n      <td>21</td>\n      <td>STL</td>\n      <td>NL</td>\n      <td>35.0</td>\n      <td>119.0</td>\n      <td>-6.0</td>\n      <td>-1.0</td>\n      <td>0.0</td>\n      <td>4.0</td>\n      <td>...</td>\n      <td>0.491</td>\n      <td>0.498</td>\n      <td>-0.3</td>\n      <td>0.4</td>\n      <td>-3.0</td>\n      <td>NaN</td>\n      <td>987/H</td>\n      <td>NaN</td>\n      <td>carlsdy01</td>\n      <td>STL</td>\n    </tr>\n    <tr>\n      <th>28237</th>\n      <td>2021</td>\n      <td>22</td>\n      <td>STL</td>\n      <td>NL</td>\n      <td>149.0</td>\n      <td>619.0</td>\n      <td>13.0</td>\n      <td>0.0</td>\n      <td>1.0</td>\n      <td>1.0</td>\n      <td>...</td>\n      <td>0.509</td>\n      <td>0.508</td>\n      <td>3.2</td>\n      <td>-0.2</td>\n      <td>33.0</td>\n      <td>NaN</td>\n      <td>*98/7H</td>\n      <td>RoY-3</td>\n      <td>carlsdy01</td>\n      <td>STL</td>\n    </tr>\n    <tr>\n      <th>28238</th>\n      <td>2022</td>\n      <td>23</td>\n      <td>STL</td>\n      <td>NL</td>\n      <td>11.0</td>\n      <td>52.0</td>\n      <td>-3.0</td>\n      <td>1.0</td>\n      <td>0.0</td>\n      <td>0.0</td>\n      <td>...</td>\n      <td>0.470</td>\n      <td>0.498</td>\n      <td>-0.2</td>\n      <td>0.0</td>\n      <td>-1.0</td>\n      <td>NaN</td>\n      <td>*9</td>\n      <td>NaN</td>\n      <td>carlsdy01</td>\n      <td>STL</td>\n    </tr>\n  </tbody>\n</table>\n<p>28239 rows × 26 columns</p>\n</div>"
     },
     "execution_count": 71,
     "metadata": {},
     "output_type": "execute_result"
    }
   ],
   "source": [
    "batting_advanced_df"
   ],
   "metadata": {
    "collapsed": false,
    "pycharm": {
     "name": "#%%\n"
    }
   }
  },
  {
   "cell_type": "code",
   "execution_count": 72,
   "outputs": [],
   "source": [
    "batting_heavy_abvanced = pd.merge(batting_heavy_data,batting_advanced_df, on=['yearID','bbrefID','teamID','G'])"
   ],
   "metadata": {
    "collapsed": false,
    "pycharm": {
     "name": "#%%\n"
    }
   }
  },
  {
   "cell_type": "code",
   "execution_count": 73,
   "outputs": [
    {
     "data": {
      "text/plain": "       playerID  yearID  stint teamID lgID    G   AB    R    H  2B  ...   RAR  \\\n0     caseydo01    1899      2    BRO   NL  134  525   75  141  14  ...   4.0   \n1     caseydo01    1901      1    DET   AL  128  540  105  153  16  ...  24.0   \n2     caseydo01    1902      1    DET   AL  132  520   69  142  18  ...  20.0   \n3     caseydo01    1906      1    BRO   NL  149  571   71  133  17  ...  17.0   \n4     caseydo01    1907      1    BRO   NL  141  527   55  122  19  ...  18.0   \n...         ...     ...    ...    ...  ...  ...  ...  ...  ...  ..  ...   ...   \n5606  newmake01    2021      1    PIT   NL  148  517   50  117  22  ...   7.0   \n5607  reynobr01    2021      1    PIT   NL  159  559   93  169  35  ...  61.0   \n5608  francty01    2021      1    SEA   AL  152  571   85  166  32  ...  43.0   \n5609  hernaen02    2021      1    BOS   AL  134  508   84  127  35  ...  48.0   \n5610  renfrhu01    2021      1    BOS   AL  144  521   89  135  33  ...  22.0   \n\n      WAR  waaWL%  162WL%  oWAR  dWAR  oRAR      Salary     Pos     Awards  \n0     0.5   0.489   0.491   0.8   0.2   6.0         NaN      *5        NaN  \n1     2.3   0.503   0.502   1.7   1.0  17.0         NaN    *5/H        NaN  \n2     1.9   0.500   0.500   1.8   0.6  18.0         NaN      *5        NaN  \n3     1.6   0.498   0.498   2.4  -0.1  22.0         NaN      *5        NaN  \n4     1.9   0.500   0.500   1.5   1.0  14.0         NaN    *5/H        NaN  \n...   ...     ...     ...   ...   ...   ...         ...     ...        ...  \n5606  0.5   0.492   0.492  -0.1   1.3   1.0         NaN    *64H        NaN  \n5607  6.0   0.525   0.524   6.5  -0.3  66.0         NaN  *87/HD  AS,MVP-11  \n5608  4.3   0.514   0.513   4.1  -0.5  41.0         NaN  3D4/5H        NaN  \n5609  4.9   0.521   0.518   3.2   2.1  32.0  $6,000,000   84/6H        NaN  \n5610  2.3   0.502   0.502   2.3  -0.5  23.0  $3,100,000  *9/8HD        NaN  \n\n[5611 rows x 69 columns]",
      "text/html": "<div>\n<style scoped>\n    .dataframe tbody tr th:only-of-type {\n        vertical-align: middle;\n    }\n\n    .dataframe tbody tr th {\n        vertical-align: top;\n    }\n\n    .dataframe thead th {\n        text-align: right;\n    }\n</style>\n<table border=\"1\" class=\"dataframe\">\n  <thead>\n    <tr style=\"text-align: right;\">\n      <th></th>\n      <th>playerID</th>\n      <th>yearID</th>\n      <th>stint</th>\n      <th>teamID</th>\n      <th>lgID</th>\n      <th>G</th>\n      <th>AB</th>\n      <th>R</th>\n      <th>H</th>\n      <th>2B</th>\n      <th>...</th>\n      <th>RAR</th>\n      <th>WAR</th>\n      <th>waaWL%</th>\n      <th>162WL%</th>\n      <th>oWAR</th>\n      <th>dWAR</th>\n      <th>oRAR</th>\n      <th>Salary</th>\n      <th>Pos</th>\n      <th>Awards</th>\n    </tr>\n  </thead>\n  <tbody>\n    <tr>\n      <th>0</th>\n      <td>caseydo01</td>\n      <td>1899</td>\n      <td>2</td>\n      <td>BRO</td>\n      <td>NL</td>\n      <td>134</td>\n      <td>525</td>\n      <td>75</td>\n      <td>141</td>\n      <td>14</td>\n      <td>...</td>\n      <td>4.0</td>\n      <td>0.5</td>\n      <td>0.489</td>\n      <td>0.491</td>\n      <td>0.8</td>\n      <td>0.2</td>\n      <td>6.0</td>\n      <td>NaN</td>\n      <td>*5</td>\n      <td>NaN</td>\n    </tr>\n    <tr>\n      <th>1</th>\n      <td>caseydo01</td>\n      <td>1901</td>\n      <td>1</td>\n      <td>DET</td>\n      <td>AL</td>\n      <td>128</td>\n      <td>540</td>\n      <td>105</td>\n      <td>153</td>\n      <td>16</td>\n      <td>...</td>\n      <td>24.0</td>\n      <td>2.3</td>\n      <td>0.503</td>\n      <td>0.502</td>\n      <td>1.7</td>\n      <td>1.0</td>\n      <td>17.0</td>\n      <td>NaN</td>\n      <td>*5/H</td>\n      <td>NaN</td>\n    </tr>\n    <tr>\n      <th>2</th>\n      <td>caseydo01</td>\n      <td>1902</td>\n      <td>1</td>\n      <td>DET</td>\n      <td>AL</td>\n      <td>132</td>\n      <td>520</td>\n      <td>69</td>\n      <td>142</td>\n      <td>18</td>\n      <td>...</td>\n      <td>20.0</td>\n      <td>1.9</td>\n      <td>0.500</td>\n      <td>0.500</td>\n      <td>1.8</td>\n      <td>0.6</td>\n      <td>18.0</td>\n      <td>NaN</td>\n      <td>*5</td>\n      <td>NaN</td>\n    </tr>\n    <tr>\n      <th>3</th>\n      <td>caseydo01</td>\n      <td>1906</td>\n      <td>1</td>\n      <td>BRO</td>\n      <td>NL</td>\n      <td>149</td>\n      <td>571</td>\n      <td>71</td>\n      <td>133</td>\n      <td>17</td>\n      <td>...</td>\n      <td>17.0</td>\n      <td>1.6</td>\n      <td>0.498</td>\n      <td>0.498</td>\n      <td>2.4</td>\n      <td>-0.1</td>\n      <td>22.0</td>\n      <td>NaN</td>\n      <td>*5</td>\n      <td>NaN</td>\n    </tr>\n    <tr>\n      <th>4</th>\n      <td>caseydo01</td>\n      <td>1907</td>\n      <td>1</td>\n      <td>BRO</td>\n      <td>NL</td>\n      <td>141</td>\n      <td>527</td>\n      <td>55</td>\n      <td>122</td>\n      <td>19</td>\n      <td>...</td>\n      <td>18.0</td>\n      <td>1.9</td>\n      <td>0.500</td>\n      <td>0.500</td>\n      <td>1.5</td>\n      <td>1.0</td>\n      <td>14.0</td>\n      <td>NaN</td>\n      <td>*5/H</td>\n      <td>NaN</td>\n    </tr>\n    <tr>\n      <th>...</th>\n      <td>...</td>\n      <td>...</td>\n      <td>...</td>\n      <td>...</td>\n      <td>...</td>\n      <td>...</td>\n      <td>...</td>\n      <td>...</td>\n      <td>...</td>\n      <td>...</td>\n      <td>...</td>\n      <td>...</td>\n      <td>...</td>\n      <td>...</td>\n      <td>...</td>\n      <td>...</td>\n      <td>...</td>\n      <td>...</td>\n      <td>...</td>\n      <td>...</td>\n      <td>...</td>\n    </tr>\n    <tr>\n      <th>5606</th>\n      <td>newmake01</td>\n      <td>2021</td>\n      <td>1</td>\n      <td>PIT</td>\n      <td>NL</td>\n      <td>148</td>\n      <td>517</td>\n      <td>50</td>\n      <td>117</td>\n      <td>22</td>\n      <td>...</td>\n      <td>7.0</td>\n      <td>0.5</td>\n      <td>0.492</td>\n      <td>0.492</td>\n      <td>-0.1</td>\n      <td>1.3</td>\n      <td>1.0</td>\n      <td>NaN</td>\n      <td>*64H</td>\n      <td>NaN</td>\n    </tr>\n    <tr>\n      <th>5607</th>\n      <td>reynobr01</td>\n      <td>2021</td>\n      <td>1</td>\n      <td>PIT</td>\n      <td>NL</td>\n      <td>159</td>\n      <td>559</td>\n      <td>93</td>\n      <td>169</td>\n      <td>35</td>\n      <td>...</td>\n      <td>61.0</td>\n      <td>6.0</td>\n      <td>0.525</td>\n      <td>0.524</td>\n      <td>6.5</td>\n      <td>-0.3</td>\n      <td>66.0</td>\n      <td>NaN</td>\n      <td>*87/HD</td>\n      <td>AS,MVP-11</td>\n    </tr>\n    <tr>\n      <th>5608</th>\n      <td>francty01</td>\n      <td>2021</td>\n      <td>1</td>\n      <td>SEA</td>\n      <td>AL</td>\n      <td>152</td>\n      <td>571</td>\n      <td>85</td>\n      <td>166</td>\n      <td>32</td>\n      <td>...</td>\n      <td>43.0</td>\n      <td>4.3</td>\n      <td>0.514</td>\n      <td>0.513</td>\n      <td>4.1</td>\n      <td>-0.5</td>\n      <td>41.0</td>\n      <td>NaN</td>\n      <td>3D4/5H</td>\n      <td>NaN</td>\n    </tr>\n    <tr>\n      <th>5609</th>\n      <td>hernaen02</td>\n      <td>2021</td>\n      <td>1</td>\n      <td>BOS</td>\n      <td>AL</td>\n      <td>134</td>\n      <td>508</td>\n      <td>84</td>\n      <td>127</td>\n      <td>35</td>\n      <td>...</td>\n      <td>48.0</td>\n      <td>4.9</td>\n      <td>0.521</td>\n      <td>0.518</td>\n      <td>3.2</td>\n      <td>2.1</td>\n      <td>32.0</td>\n      <td>$6,000,000</td>\n      <td>84/6H</td>\n      <td>NaN</td>\n    </tr>\n    <tr>\n      <th>5610</th>\n      <td>renfrhu01</td>\n      <td>2021</td>\n      <td>1</td>\n      <td>BOS</td>\n      <td>AL</td>\n      <td>144</td>\n      <td>521</td>\n      <td>89</td>\n      <td>135</td>\n      <td>33</td>\n      <td>...</td>\n      <td>22.0</td>\n      <td>2.3</td>\n      <td>0.502</td>\n      <td>0.502</td>\n      <td>2.3</td>\n      <td>-0.5</td>\n      <td>23.0</td>\n      <td>$3,100,000</td>\n      <td>*9/8HD</td>\n      <td>NaN</td>\n    </tr>\n  </tbody>\n</table>\n<p>5611 rows × 69 columns</p>\n</div>"
     },
     "execution_count": 73,
     "metadata": {},
     "output_type": "execute_result"
    }
   ],
   "source": [
    "batting_heavy_abvanced"
   ],
   "metadata": {
    "collapsed": false,
    "pycharm": {
     "name": "#%%\n"
    }
   }
  },
  {
   "cell_type": "code",
   "execution_count": 105,
   "outputs": [],
   "source": [
    "batting_heavy_abvanced_final = batting_heavy_abvanced[['playerID', 'bbrefID', 'yearID', 'fullName', 'teamID', 'birthState', 'birthCountry', 'G','AB', 'R', 'H', '2B', '3B', 'HR', 'RBI', 'SB', 'CS', 'BB', 'SO', 'HBP', 'SH', 'SF', 'WAR', 'oWAR', 'dWAR']]"
   ],
   "metadata": {
    "collapsed": false,
    "pycharm": {
     "name": "#%%\n"
    }
   }
  },
  {
   "cell_type": "code",
   "execution_count": 106,
   "outputs": [
    {
     "data": {
      "text/plain": "       playerID    bbrefID  yearID           fullName teamID birthState  \\\n0     caseydo01  caseydo01    1899          Doc Casey    BRO         MA   \n1     caseydo01  caseydo01    1901          Doc Casey    DET         MA   \n2     caseydo01  caseydo01    1902          Doc Casey    DET         MA   \n3     caseydo01  caseydo01    1906          Doc Casey    BRO         MA   \n4     caseydo01  caseydo01    1907          Doc Casey    BRO         MA   \n...         ...        ...     ...                ...    ...        ...   \n5606  newmake01  newmake01    2021       Kevin Newman    PIT         CA   \n5607  reynobr01  reynobr01    2021     Bryan Reynolds    PIT         MD   \n5608  francty01  francty01    2021          Ty France    SEA         CA   \n5609  hernaen02  hernaen02    2021  Enrique Hernandez    BOS        NaN   \n5610  renfrhu01  renfrhu01    2021     Hunter Renfroe    BOS         MS   \n\n     birthCountry    G   AB    R  ...    SB   CS  BB     SO   HBP    SH   SF  \\\n0             USA  134  525   75  ...  27.0  NaN  25   16.0   9.0   6.0  NaN   \n1             USA  128  540  105  ...  34.0  NaN  32   28.0  10.0  12.0  NaN   \n2             USA  132  520   69  ...  22.0  NaN  44   17.0   7.0   9.0  NaN   \n3             USA  149  571   71  ...  22.0  NaN  52   51.0   8.0  17.0  NaN   \n4             USA  141  527   55  ...  16.0  NaN  34   32.0   3.0  32.0  NaN   \n...           ...  ...  ...  ...  ...   ...  ...  ..    ...   ...   ...  ...   \n5606          USA  148  517   50  ...   6.0  1.0  27   41.0   1.0   6.0  3.0   \n5607          USA  159  559   93  ...   5.0  2.0  75  119.0   8.0   0.0  4.0   \n5608          USA  152  571   85  ...   0.0  0.0  46  106.0  27.0   0.0  6.0   \n5609         P.R.  134  508   84  ...   1.0  0.0  61  110.0   9.0   0.0  7.0   \n5610          USA  144  521   89  ...   1.0  2.0  44  130.0   1.0   0.0  6.0   \n\n      WAR  oWAR  dWAR  \n0     0.5   0.8   0.2  \n1     2.3   1.7   1.0  \n2     1.9   1.8   0.6  \n3     1.6   2.4  -0.1  \n4     1.9   1.5   1.0  \n...   ...   ...   ...  \n5606  0.5  -0.1   1.3  \n5607  6.0   6.5  -0.3  \n5608  4.3   4.1  -0.5  \n5609  4.9   3.2   2.1  \n5610  2.3   2.3  -0.5  \n\n[5611 rows x 25 columns]",
      "text/html": "<div>\n<style scoped>\n    .dataframe tbody tr th:only-of-type {\n        vertical-align: middle;\n    }\n\n    .dataframe tbody tr th {\n        vertical-align: top;\n    }\n\n    .dataframe thead th {\n        text-align: right;\n    }\n</style>\n<table border=\"1\" class=\"dataframe\">\n  <thead>\n    <tr style=\"text-align: right;\">\n      <th></th>\n      <th>playerID</th>\n      <th>bbrefID</th>\n      <th>yearID</th>\n      <th>fullName</th>\n      <th>teamID</th>\n      <th>birthState</th>\n      <th>birthCountry</th>\n      <th>G</th>\n      <th>AB</th>\n      <th>R</th>\n      <th>...</th>\n      <th>SB</th>\n      <th>CS</th>\n      <th>BB</th>\n      <th>SO</th>\n      <th>HBP</th>\n      <th>SH</th>\n      <th>SF</th>\n      <th>WAR</th>\n      <th>oWAR</th>\n      <th>dWAR</th>\n    </tr>\n  </thead>\n  <tbody>\n    <tr>\n      <th>0</th>\n      <td>caseydo01</td>\n      <td>caseydo01</td>\n      <td>1899</td>\n      <td>Doc Casey</td>\n      <td>BRO</td>\n      <td>MA</td>\n      <td>USA</td>\n      <td>134</td>\n      <td>525</td>\n      <td>75</td>\n      <td>...</td>\n      <td>27.0</td>\n      <td>NaN</td>\n      <td>25</td>\n      <td>16.0</td>\n      <td>9.0</td>\n      <td>6.0</td>\n      <td>NaN</td>\n      <td>0.5</td>\n      <td>0.8</td>\n      <td>0.2</td>\n    </tr>\n    <tr>\n      <th>1</th>\n      <td>caseydo01</td>\n      <td>caseydo01</td>\n      <td>1901</td>\n      <td>Doc Casey</td>\n      <td>DET</td>\n      <td>MA</td>\n      <td>USA</td>\n      <td>128</td>\n      <td>540</td>\n      <td>105</td>\n      <td>...</td>\n      <td>34.0</td>\n      <td>NaN</td>\n      <td>32</td>\n      <td>28.0</td>\n      <td>10.0</td>\n      <td>12.0</td>\n      <td>NaN</td>\n      <td>2.3</td>\n      <td>1.7</td>\n      <td>1.0</td>\n    </tr>\n    <tr>\n      <th>2</th>\n      <td>caseydo01</td>\n      <td>caseydo01</td>\n      <td>1902</td>\n      <td>Doc Casey</td>\n      <td>DET</td>\n      <td>MA</td>\n      <td>USA</td>\n      <td>132</td>\n      <td>520</td>\n      <td>69</td>\n      <td>...</td>\n      <td>22.0</td>\n      <td>NaN</td>\n      <td>44</td>\n      <td>17.0</td>\n      <td>7.0</td>\n      <td>9.0</td>\n      <td>NaN</td>\n      <td>1.9</td>\n      <td>1.8</td>\n      <td>0.6</td>\n    </tr>\n    <tr>\n      <th>3</th>\n      <td>caseydo01</td>\n      <td>caseydo01</td>\n      <td>1906</td>\n      <td>Doc Casey</td>\n      <td>BRO</td>\n      <td>MA</td>\n      <td>USA</td>\n      <td>149</td>\n      <td>571</td>\n      <td>71</td>\n      <td>...</td>\n      <td>22.0</td>\n      <td>NaN</td>\n      <td>52</td>\n      <td>51.0</td>\n      <td>8.0</td>\n      <td>17.0</td>\n      <td>NaN</td>\n      <td>1.6</td>\n      <td>2.4</td>\n      <td>-0.1</td>\n    </tr>\n    <tr>\n      <th>4</th>\n      <td>caseydo01</td>\n      <td>caseydo01</td>\n      <td>1907</td>\n      <td>Doc Casey</td>\n      <td>BRO</td>\n      <td>MA</td>\n      <td>USA</td>\n      <td>141</td>\n      <td>527</td>\n      <td>55</td>\n      <td>...</td>\n      <td>16.0</td>\n      <td>NaN</td>\n      <td>34</td>\n      <td>32.0</td>\n      <td>3.0</td>\n      <td>32.0</td>\n      <td>NaN</td>\n      <td>1.9</td>\n      <td>1.5</td>\n      <td>1.0</td>\n    </tr>\n    <tr>\n      <th>...</th>\n      <td>...</td>\n      <td>...</td>\n      <td>...</td>\n      <td>...</td>\n      <td>...</td>\n      <td>...</td>\n      <td>...</td>\n      <td>...</td>\n      <td>...</td>\n      <td>...</td>\n      <td>...</td>\n      <td>...</td>\n      <td>...</td>\n      <td>...</td>\n      <td>...</td>\n      <td>...</td>\n      <td>...</td>\n      <td>...</td>\n      <td>...</td>\n      <td>...</td>\n      <td>...</td>\n    </tr>\n    <tr>\n      <th>5606</th>\n      <td>newmake01</td>\n      <td>newmake01</td>\n      <td>2021</td>\n      <td>Kevin Newman</td>\n      <td>PIT</td>\n      <td>CA</td>\n      <td>USA</td>\n      <td>148</td>\n      <td>517</td>\n      <td>50</td>\n      <td>...</td>\n      <td>6.0</td>\n      <td>1.0</td>\n      <td>27</td>\n      <td>41.0</td>\n      <td>1.0</td>\n      <td>6.0</td>\n      <td>3.0</td>\n      <td>0.5</td>\n      <td>-0.1</td>\n      <td>1.3</td>\n    </tr>\n    <tr>\n      <th>5607</th>\n      <td>reynobr01</td>\n      <td>reynobr01</td>\n      <td>2021</td>\n      <td>Bryan Reynolds</td>\n      <td>PIT</td>\n      <td>MD</td>\n      <td>USA</td>\n      <td>159</td>\n      <td>559</td>\n      <td>93</td>\n      <td>...</td>\n      <td>5.0</td>\n      <td>2.0</td>\n      <td>75</td>\n      <td>119.0</td>\n      <td>8.0</td>\n      <td>0.0</td>\n      <td>4.0</td>\n      <td>6.0</td>\n      <td>6.5</td>\n      <td>-0.3</td>\n    </tr>\n    <tr>\n      <th>5608</th>\n      <td>francty01</td>\n      <td>francty01</td>\n      <td>2021</td>\n      <td>Ty France</td>\n      <td>SEA</td>\n      <td>CA</td>\n      <td>USA</td>\n      <td>152</td>\n      <td>571</td>\n      <td>85</td>\n      <td>...</td>\n      <td>0.0</td>\n      <td>0.0</td>\n      <td>46</td>\n      <td>106.0</td>\n      <td>27.0</td>\n      <td>0.0</td>\n      <td>6.0</td>\n      <td>4.3</td>\n      <td>4.1</td>\n      <td>-0.5</td>\n    </tr>\n    <tr>\n      <th>5609</th>\n      <td>hernaen02</td>\n      <td>hernaen02</td>\n      <td>2021</td>\n      <td>Enrique Hernandez</td>\n      <td>BOS</td>\n      <td>NaN</td>\n      <td>P.R.</td>\n      <td>134</td>\n      <td>508</td>\n      <td>84</td>\n      <td>...</td>\n      <td>1.0</td>\n      <td>0.0</td>\n      <td>61</td>\n      <td>110.0</td>\n      <td>9.0</td>\n      <td>0.0</td>\n      <td>7.0</td>\n      <td>4.9</td>\n      <td>3.2</td>\n      <td>2.1</td>\n    </tr>\n    <tr>\n      <th>5610</th>\n      <td>renfrhu01</td>\n      <td>renfrhu01</td>\n      <td>2021</td>\n      <td>Hunter Renfroe</td>\n      <td>BOS</td>\n      <td>MS</td>\n      <td>USA</td>\n      <td>144</td>\n      <td>521</td>\n      <td>89</td>\n      <td>...</td>\n      <td>1.0</td>\n      <td>2.0</td>\n      <td>44</td>\n      <td>130.0</td>\n      <td>1.0</td>\n      <td>0.0</td>\n      <td>6.0</td>\n      <td>2.3</td>\n      <td>2.3</td>\n      <td>-0.5</td>\n    </tr>\n  </tbody>\n</table>\n<p>5611 rows × 25 columns</p>\n</div>"
     },
     "execution_count": 106,
     "metadata": {},
     "output_type": "execute_result"
    }
   ],
   "source": [
    "batting_heavy_abvanced_final"
   ],
   "metadata": {
    "collapsed": false,
    "pycharm": {
     "name": "#%%\n"
    }
   }
  },
  {
   "cell_type": "code",
   "execution_count": 175,
   "outputs": [
    {
     "data": {
      "application/vnd.plotly.v1+json": {
       "data": [
        {
         "coloraxis": "coloraxis",
         "name": "0",
         "texttemplate": "%{z}",
         "x": [
          "yearID",
          "G",
          "AB",
          "R",
          "H",
          "2B",
          "3B",
          "HR",
          "RBI",
          "SB",
          "CS",
          "BB",
          "SO",
          "HBP",
          "SH",
          "SF",
          "WAR",
          "oWAR",
          "dWAR"
         ],
         "y": [
          "yearID",
          "G",
          "AB",
          "R",
          "H",
          "2B",
          "3B",
          "HR",
          "RBI",
          "SB",
          "CS",
          "BB",
          "SO",
          "HBP",
          "SH",
          "SF",
          "WAR",
          "oWAR",
          "dWAR"
         ],
         "z": [
          [
           1.0,
           0.0974965918153435,
           0.06975919539420591,
           0.07936006707885582,
           -0.03806710164346039,
           0.24166279037407976,
           -0.5422277572554333,
           0.5026727071509016,
           0.1769347174005416,
           -0.13589770979116034,
           -0.2740703121993059,
           0.1144908235337861,
           0.644829106520566,
           0.16447493839917746,
           -0.6651472973052779,
           -0.01840496997529496,
           0.0519484211758164,
           0.05036828307214978,
           0.03424403428056896
          ],
          [
           0.0974965918153435,
           1.0,
           0.8750145248315417,
           0.42372465363671685,
           0.5946424310850678,
           0.3767326956958273,
           0.04407592288893804,
           0.2807209158157483,
           0.3683384525990209,
           0.06046031760766003,
           0.10863601538652032,
           0.31993132556924747,
           0.3057886176298548,
           0.12913999326151523,
           -0.048175315748638786,
           0.22666361631029075,
           0.23527567002328778,
           0.24108021401904034,
           0.04049669394329895
          ],
          [
           0.06975919539420591,
           0.8750145248315417,
           1.0,
           0.5344286537181363,
           0.7716622577424477,
           0.44715047852475326,
           0.1456462040912286,
           0.19874277420330383,
           0.3240733756839985,
           0.1383321401640337,
           0.16892323617862895,
           0.13510227179208553,
           0.1926963067406221,
           0.09370952298499309,
           -0.04616936414009885,
           0.1893455182232966,
           0.22234224971812067,
           0.22396393456802047,
           0.06234219285876558
          ],
          [
           0.07936006707885582,
           0.42372465363671685,
           0.5344286537181363,
           1.0,
           0.6979115880206698,
           0.5032788756690759,
           0.19874096835144706,
           0.4426369136843713,
           0.4995855618752239,
           0.251621582479701,
           0.1325202134552059,
           0.5364020891522955,
           0.19772830605337033,
           0.22819787601423347,
           -0.12868707374865263,
           0.17701030816108831,
           0.625963999473983,
           0.6785439433247394,
           -0.02090354013440167
          ],
          [
           -0.03806710164346039,
           0.5946424310850678,
           0.7716622577424477,
           0.6979115880206698,
           1.0,
           0.6023128047897411,
           0.2983892028151717,
           0.18252601147452993,
           0.45693851163821664,
           0.16653824325772665,
           0.17670197401207713,
           0.16560384830166552,
           -0.04910106231439701,
           0.09227923087471017,
           -0.022780022767271552,
           0.20231636846499435,
           0.5259941377388129,
           0.5696252778618907,
           -0.021166052487041752
          ],
          [
           0.24166279037407976,
           0.3767326956958273,
           0.44715047852475326,
           0.5032788756690759,
           0.6023128047897411,
           1.0,
           -0.0062831229573537236,
           0.3274148361227831,
           0.503201244534448,
           -0.06265893457422819,
           -0.08049292506526087,
           0.2017147876133292,
           0.1684712336971916,
           0.1296952654828075,
           -0.24237192614825795,
           0.228964251231533,
           0.4229926523203956,
           0.45654962070311245,
           -0.0179726039617165
          ],
          [
           -0.5422277572554333,
           0.04407592288893804,
           0.1456462040912286,
           0.19874096835144706,
           0.2983892028151717,
           -0.0062831229573537236,
           1.0,
           -0.3442278474965637,
           -0.04716710068683219,
           0.33063246977308286,
           0.4067629337645792,
           -0.09449032362059026,
           -0.34467646501830346,
           -0.07555676342254763,
           0.40449108839031456,
           -0.06670888145091199,
           0.1857072669543521,
           0.18046422862562114,
           0.03851998992207168
          ],
          [
           0.5026727071509016,
           0.2807209158157483,
           0.19874277420330383,
           0.4426369136843713,
           0.18252601147452993,
           0.3274148361227831,
           -0.3442278474965637,
           1.0,
           0.7691882531824719,
           -0.26699806512243934,
           -0.3502132537797614,
           0.38576669172155986,
           0.649742856140859,
           0.20667735343566446,
           -0.5643738353861926,
           0.22839382876387493,
           0.3862358595400775,
           0.4484970920020889,
           -0.18030112877770588
          ],
          [
           0.1769347174005416,
           0.3683384525990209,
           0.3240733756839985,
           0.4995855618752239,
           0.45693851163821664,
           0.503201244534448,
           -0.04716710068683219,
           0.7691882531824719,
           1.0,
           -0.2322129249211576,
           -0.28363385541600183,
           0.3266215032782816,
           0.3459259910502915,
           0.1317421441788983,
           -0.3370252485615874,
           0.4360610558874565,
           0.4474469304875144,
           0.5167748232905202,
           -0.2019265201421245
          ],
          [
           -0.13589770979116034,
           0.06046031760766003,
           0.1383321401640337,
           0.251621582479701,
           0.16653824325772665,
           -0.06265893457422819,
           0.33063246977308286,
           -0.26699806512243934,
           -0.2322129249211576,
           1.0,
           0.6810608972289858,
           0.01693667250849519,
           -0.06814176972363999,
           0.09702961982653346,
           0.21058973204362647,
           -0.09996147487997609,
           0.19592265999192462,
           0.17730292512596849,
           0.13166365452418183
          ],
          [
           -0.2740703121993059,
           0.10863601538652032,
           0.16892323617862895,
           0.1325202134552059,
           0.17670197401207713,
           -0.08049292506526087,
           0.4067629337645792,
           -0.3502132537797614,
           -0.28363385541600183,
           0.6810608972289858,
           1.0,
           -0.018174418055346583,
           -0.19837223417580813,
           -0.015736702425952265,
           0.3578104839548026,
           -0.10902508812655134,
           0.06073494576356776,
           0.0336443771122771,
           0.128632890346002
          ],
          [
           0.1144908235337861,
           0.31993132556924747,
           0.13510227179208553,
           0.5364020891522955,
           0.16560384830166552,
           0.2017147876133292,
           -0.09449032362059026,
           0.38576669172155986,
           0.3266215032782816,
           0.01693667250849519,
           -0.018174418055346583,
           1.0,
           0.2610962703844403,
           0.09324371928279188,
           -0.19460596345391232,
           0.12353798615990527,
           0.471309576293875,
           0.5327979624847595,
           -0.10172191723539968
          ],
          [
           0.644829106520566,
           0.3057886176298548,
           0.1926963067406221,
           0.19772830605337033,
           -0.04910106231439701,
           0.1684712336971916,
           -0.34467646501830346,
           0.649742856140859,
           0.3459259910502915,
           -0.06814176972363999,
           -0.19837223417580813,
           0.2610962703844403,
           1.0,
           0.23104260950862843,
           -0.4971572663266407,
           0.03055888675052524,
           0.08900325428208491,
           0.12393687695586247,
           -0.10716581653377255
          ],
          [
           0.16447493839917746,
           0.12913999326151523,
           0.09370952298499309,
           0.22819787601423347,
           0.09227923087471017,
           0.1296952654828075,
           -0.07555676342254763,
           0.20667735343566446,
           0.1317421441788983,
           0.09702961982653346,
           -0.015736702425952265,
           0.09324371928279188,
           0.23104260950862843,
           1.0,
           -0.10557366206568473,
           0.019852897649177807,
           0.18475199801135764,
           0.21278468342874982,
           -0.036330355620631305
          ],
          [
           -0.6651472973052779,
           -0.048175315748638786,
           -0.04616936414009885,
           -0.12868707374865263,
           -0.022780022767271552,
           -0.24237192614825795,
           0.40449108839031456,
           -0.5643738353861926,
           -0.3370252485615874,
           0.21058973204362647,
           0.3578104839548026,
           -0.19460596345391232,
           -0.4971572663266407,
           -0.10557366206568473,
           1.0,
           -0.1359602996545943,
           -0.1204687531549336,
           -0.14398652979405632,
           0.11510311588021802
          ],
          [
           -0.01840496997529496,
           0.22666361631029075,
           0.1893455182232966,
           0.17701030816108831,
           0.20231636846499435,
           0.228964251231533,
           -0.06670888145091199,
           0.22839382876387493,
           0.4360610558874565,
           -0.09996147487997609,
           -0.10902508812655134,
           0.12353798615990527,
           0.03055888675052524,
           0.019852897649177807,
           -0.1359602996545943,
           1.0,
           0.0990118902866066,
           0.1244748983835328,
           -0.0696683534693447
          ],
          [
           0.0519484211758164,
           0.23527567002328778,
           0.22234224971812067,
           0.625963999473983,
           0.5259941377388129,
           0.4229926523203956,
           0.1857072669543521,
           0.3862358595400775,
           0.4474469304875144,
           0.19592265999192462,
           0.06073494576356776,
           0.471309576293875,
           0.08900325428208491,
           0.18475199801135764,
           -0.1204687531549336,
           0.0990118902866066,
           1.0,
           0.9104191155364929,
           0.3732988598992077
          ],
          [
           0.05036828307214978,
           0.24108021401904034,
           0.22396393456802047,
           0.6785439433247394,
           0.5696252778618907,
           0.45654962070311245,
           0.18046422862562114,
           0.4484970920020889,
           0.5167748232905202,
           0.17730292512596849,
           0.0336443771122771,
           0.5327979624847595,
           0.12393687695586247,
           0.21278468342874982,
           -0.14398652979405632,
           0.1244748983835328,
           0.9104191155364929,
           1.0,
           0.03374343277662481
          ],
          [
           0.03424403428056896,
           0.04049669394329895,
           0.06234219285876558,
           -0.02090354013440167,
           -0.021166052487041752,
           -0.0179726039617165,
           0.03851998992207168,
           -0.18030112877770588,
           -0.2019265201421245,
           0.13166365452418183,
           0.128632890346002,
           -0.10172191723539968,
           -0.10716581653377255,
           -0.036330355620631305,
           0.11510311588021802,
           -0.0696683534693447,
           0.3732988598992077,
           0.03374343277662481,
           1.0
          ]
         ],
         "type": "heatmap",
         "xaxis": "x",
         "yaxis": "y",
         "hovertemplate": "x: %{x}<br>y: %{y}<br>color: %{z}<extra></extra>"
        }
       ],
       "layout": {
        "template": {
         "data": {
          "histogram2dcontour": [
           {
            "type": "histogram2dcontour",
            "colorbar": {
             "outlinewidth": 0,
             "ticks": ""
            },
            "colorscale": [
             [
              0.0,
              "#0d0887"
             ],
             [
              0.1111111111111111,
              "#46039f"
             ],
             [
              0.2222222222222222,
              "#7201a8"
             ],
             [
              0.3333333333333333,
              "#9c179e"
             ],
             [
              0.4444444444444444,
              "#bd3786"
             ],
             [
              0.5555555555555556,
              "#d8576b"
             ],
             [
              0.6666666666666666,
              "#ed7953"
             ],
             [
              0.7777777777777778,
              "#fb9f3a"
             ],
             [
              0.8888888888888888,
              "#fdca26"
             ],
             [
              1.0,
              "#f0f921"
             ]
            ]
           }
          ],
          "choropleth": [
           {
            "type": "choropleth",
            "colorbar": {
             "outlinewidth": 0,
             "ticks": ""
            }
           }
          ],
          "histogram2d": [
           {
            "type": "histogram2d",
            "colorbar": {
             "outlinewidth": 0,
             "ticks": ""
            },
            "colorscale": [
             [
              0.0,
              "#0d0887"
             ],
             [
              0.1111111111111111,
              "#46039f"
             ],
             [
              0.2222222222222222,
              "#7201a8"
             ],
             [
              0.3333333333333333,
              "#9c179e"
             ],
             [
              0.4444444444444444,
              "#bd3786"
             ],
             [
              0.5555555555555556,
              "#d8576b"
             ],
             [
              0.6666666666666666,
              "#ed7953"
             ],
             [
              0.7777777777777778,
              "#fb9f3a"
             ],
             [
              0.8888888888888888,
              "#fdca26"
             ],
             [
              1.0,
              "#f0f921"
             ]
            ]
           }
          ],
          "heatmap": [
           {
            "type": "heatmap",
            "colorbar": {
             "outlinewidth": 0,
             "ticks": ""
            },
            "colorscale": [
             [
              0.0,
              "#0d0887"
             ],
             [
              0.1111111111111111,
              "#46039f"
             ],
             [
              0.2222222222222222,
              "#7201a8"
             ],
             [
              0.3333333333333333,
              "#9c179e"
             ],
             [
              0.4444444444444444,
              "#bd3786"
             ],
             [
              0.5555555555555556,
              "#d8576b"
             ],
             [
              0.6666666666666666,
              "#ed7953"
             ],
             [
              0.7777777777777778,
              "#fb9f3a"
             ],
             [
              0.8888888888888888,
              "#fdca26"
             ],
             [
              1.0,
              "#f0f921"
             ]
            ]
           }
          ],
          "heatmapgl": [
           {
            "type": "heatmapgl",
            "colorbar": {
             "outlinewidth": 0,
             "ticks": ""
            },
            "colorscale": [
             [
              0.0,
              "#0d0887"
             ],
             [
              0.1111111111111111,
              "#46039f"
             ],
             [
              0.2222222222222222,
              "#7201a8"
             ],
             [
              0.3333333333333333,
              "#9c179e"
             ],
             [
              0.4444444444444444,
              "#bd3786"
             ],
             [
              0.5555555555555556,
              "#d8576b"
             ],
             [
              0.6666666666666666,
              "#ed7953"
             ],
             [
              0.7777777777777778,
              "#fb9f3a"
             ],
             [
              0.8888888888888888,
              "#fdca26"
             ],
             [
              1.0,
              "#f0f921"
             ]
            ]
           }
          ],
          "contourcarpet": [
           {
            "type": "contourcarpet",
            "colorbar": {
             "outlinewidth": 0,
             "ticks": ""
            }
           }
          ],
          "contour": [
           {
            "type": "contour",
            "colorbar": {
             "outlinewidth": 0,
             "ticks": ""
            },
            "colorscale": [
             [
              0.0,
              "#0d0887"
             ],
             [
              0.1111111111111111,
              "#46039f"
             ],
             [
              0.2222222222222222,
              "#7201a8"
             ],
             [
              0.3333333333333333,
              "#9c179e"
             ],
             [
              0.4444444444444444,
              "#bd3786"
             ],
             [
              0.5555555555555556,
              "#d8576b"
             ],
             [
              0.6666666666666666,
              "#ed7953"
             ],
             [
              0.7777777777777778,
              "#fb9f3a"
             ],
             [
              0.8888888888888888,
              "#fdca26"
             ],
             [
              1.0,
              "#f0f921"
             ]
            ]
           }
          ],
          "surface": [
           {
            "type": "surface",
            "colorbar": {
             "outlinewidth": 0,
             "ticks": ""
            },
            "colorscale": [
             [
              0.0,
              "#0d0887"
             ],
             [
              0.1111111111111111,
              "#46039f"
             ],
             [
              0.2222222222222222,
              "#7201a8"
             ],
             [
              0.3333333333333333,
              "#9c179e"
             ],
             [
              0.4444444444444444,
              "#bd3786"
             ],
             [
              0.5555555555555556,
              "#d8576b"
             ],
             [
              0.6666666666666666,
              "#ed7953"
             ],
             [
              0.7777777777777778,
              "#fb9f3a"
             ],
             [
              0.8888888888888888,
              "#fdca26"
             ],
             [
              1.0,
              "#f0f921"
             ]
            ]
           }
          ],
          "mesh3d": [
           {
            "type": "mesh3d",
            "colorbar": {
             "outlinewidth": 0,
             "ticks": ""
            }
           }
          ],
          "scatter": [
           {
            "marker": {
             "line": {
              "color": "#283442"
             }
            },
            "type": "scatter"
           }
          ],
          "parcoords": [
           {
            "type": "parcoords",
            "line": {
             "colorbar": {
              "outlinewidth": 0,
              "ticks": ""
             }
            }
           }
          ],
          "scatterpolargl": [
           {
            "type": "scatterpolargl",
            "marker": {
             "colorbar": {
              "outlinewidth": 0,
              "ticks": ""
             }
            }
           }
          ],
          "bar": [
           {
            "error_x": {
             "color": "#f2f5fa"
            },
            "error_y": {
             "color": "#f2f5fa"
            },
            "marker": {
             "line": {
              "color": "rgb(17,17,17)",
              "width": 0.5
             },
             "pattern": {
              "fillmode": "overlay",
              "size": 10,
              "solidity": 0.2
             }
            },
            "type": "bar"
           }
          ],
          "scattergeo": [
           {
            "type": "scattergeo",
            "marker": {
             "colorbar": {
              "outlinewidth": 0,
              "ticks": ""
             }
            }
           }
          ],
          "scatterpolar": [
           {
            "type": "scatterpolar",
            "marker": {
             "colorbar": {
              "outlinewidth": 0,
              "ticks": ""
             }
            }
           }
          ],
          "histogram": [
           {
            "marker": {
             "pattern": {
              "fillmode": "overlay",
              "size": 10,
              "solidity": 0.2
             }
            },
            "type": "histogram"
           }
          ],
          "scattergl": [
           {
            "marker": {
             "line": {
              "color": "#283442"
             }
            },
            "type": "scattergl"
           }
          ],
          "scatter3d": [
           {
            "type": "scatter3d",
            "line": {
             "colorbar": {
              "outlinewidth": 0,
              "ticks": ""
             }
            },
            "marker": {
             "colorbar": {
              "outlinewidth": 0,
              "ticks": ""
             }
            }
           }
          ],
          "scattermapbox": [
           {
            "type": "scattermapbox",
            "marker": {
             "colorbar": {
              "outlinewidth": 0,
              "ticks": ""
             }
            }
           }
          ],
          "scatterternary": [
           {
            "type": "scatterternary",
            "marker": {
             "colorbar": {
              "outlinewidth": 0,
              "ticks": ""
             }
            }
           }
          ],
          "scattercarpet": [
           {
            "type": "scattercarpet",
            "marker": {
             "colorbar": {
              "outlinewidth": 0,
              "ticks": ""
             }
            }
           }
          ],
          "carpet": [
           {
            "aaxis": {
             "endlinecolor": "#A2B1C6",
             "gridcolor": "#506784",
             "linecolor": "#506784",
             "minorgridcolor": "#506784",
             "startlinecolor": "#A2B1C6"
            },
            "baxis": {
             "endlinecolor": "#A2B1C6",
             "gridcolor": "#506784",
             "linecolor": "#506784",
             "minorgridcolor": "#506784",
             "startlinecolor": "#A2B1C6"
            },
            "type": "carpet"
           }
          ],
          "table": [
           {
            "cells": {
             "fill": {
              "color": "#506784"
             },
             "line": {
              "color": "rgb(17,17,17)"
             }
            },
            "header": {
             "fill": {
              "color": "#2a3f5f"
             },
             "line": {
              "color": "rgb(17,17,17)"
             }
            },
            "type": "table"
           }
          ],
          "barpolar": [
           {
            "marker": {
             "line": {
              "color": "rgb(17,17,17)",
              "width": 0.5
             },
             "pattern": {
              "fillmode": "overlay",
              "size": 10,
              "solidity": 0.2
             }
            },
            "type": "barpolar"
           }
          ],
          "pie": [
           {
            "automargin": true,
            "type": "pie"
           }
          ]
         },
         "layout": {
          "autotypenumbers": "strict",
          "colorway": [
           "#636efa",
           "#EF553B",
           "#00cc96",
           "#ab63fa",
           "#FFA15A",
           "#19d3f3",
           "#FF6692",
           "#B6E880",
           "#FF97FF",
           "#FECB52"
          ],
          "font": {
           "color": "#f2f5fa"
          },
          "hovermode": "closest",
          "hoverlabel": {
           "align": "left"
          },
          "paper_bgcolor": "rgb(17,17,17)",
          "plot_bgcolor": "rgb(17,17,17)",
          "polar": {
           "bgcolor": "rgb(17,17,17)",
           "angularaxis": {
            "gridcolor": "#506784",
            "linecolor": "#506784",
            "ticks": ""
           },
           "radialaxis": {
            "gridcolor": "#506784",
            "linecolor": "#506784",
            "ticks": ""
           }
          },
          "ternary": {
           "bgcolor": "rgb(17,17,17)",
           "aaxis": {
            "gridcolor": "#506784",
            "linecolor": "#506784",
            "ticks": ""
           },
           "baxis": {
            "gridcolor": "#506784",
            "linecolor": "#506784",
            "ticks": ""
           },
           "caxis": {
            "gridcolor": "#506784",
            "linecolor": "#506784",
            "ticks": ""
           }
          },
          "coloraxis": {
           "colorbar": {
            "outlinewidth": 0,
            "ticks": ""
           }
          },
          "colorscale": {
           "sequential": [
            [
             0.0,
             "#0d0887"
            ],
            [
             0.1111111111111111,
             "#46039f"
            ],
            [
             0.2222222222222222,
             "#7201a8"
            ],
            [
             0.3333333333333333,
             "#9c179e"
            ],
            [
             0.4444444444444444,
             "#bd3786"
            ],
            [
             0.5555555555555556,
             "#d8576b"
            ],
            [
             0.6666666666666666,
             "#ed7953"
            ],
            [
             0.7777777777777778,
             "#fb9f3a"
            ],
            [
             0.8888888888888888,
             "#fdca26"
            ],
            [
             1.0,
             "#f0f921"
            ]
           ],
           "sequentialminus": [
            [
             0.0,
             "#0d0887"
            ],
            [
             0.1111111111111111,
             "#46039f"
            ],
            [
             0.2222222222222222,
             "#7201a8"
            ],
            [
             0.3333333333333333,
             "#9c179e"
            ],
            [
             0.4444444444444444,
             "#bd3786"
            ],
            [
             0.5555555555555556,
             "#d8576b"
            ],
            [
             0.6666666666666666,
             "#ed7953"
            ],
            [
             0.7777777777777778,
             "#fb9f3a"
            ],
            [
             0.8888888888888888,
             "#fdca26"
            ],
            [
             1.0,
             "#f0f921"
            ]
           ],
           "diverging": [
            [
             0,
             "#8e0152"
            ],
            [
             0.1,
             "#c51b7d"
            ],
            [
             0.2,
             "#de77ae"
            ],
            [
             0.3,
             "#f1b6da"
            ],
            [
             0.4,
             "#fde0ef"
            ],
            [
             0.5,
             "#f7f7f7"
            ],
            [
             0.6,
             "#e6f5d0"
            ],
            [
             0.7,
             "#b8e186"
            ],
            [
             0.8,
             "#7fbc41"
            ],
            [
             0.9,
             "#4d9221"
            ],
            [
             1,
             "#276419"
            ]
           ]
          },
          "xaxis": {
           "gridcolor": "#283442",
           "linecolor": "#506784",
           "ticks": "",
           "title": {
            "standoff": 15
           },
           "zerolinecolor": "#283442",
           "automargin": true,
           "zerolinewidth": 2
          },
          "yaxis": {
           "gridcolor": "#283442",
           "linecolor": "#506784",
           "ticks": "",
           "title": {
            "standoff": 15
           },
           "zerolinecolor": "#283442",
           "automargin": true,
           "zerolinewidth": 2
          },
          "scene": {
           "xaxis": {
            "backgroundcolor": "rgb(17,17,17)",
            "gridcolor": "#506784",
            "linecolor": "#506784",
            "showbackground": true,
            "ticks": "",
            "zerolinecolor": "#C8D4E3",
            "gridwidth": 2
           },
           "yaxis": {
            "backgroundcolor": "rgb(17,17,17)",
            "gridcolor": "#506784",
            "linecolor": "#506784",
            "showbackground": true,
            "ticks": "",
            "zerolinecolor": "#C8D4E3",
            "gridwidth": 2
           },
           "zaxis": {
            "backgroundcolor": "rgb(17,17,17)",
            "gridcolor": "#506784",
            "linecolor": "#506784",
            "showbackground": true,
            "ticks": "",
            "zerolinecolor": "#C8D4E3",
            "gridwidth": 2
           }
          },
          "shapedefaults": {
           "line": {
            "color": "#f2f5fa"
           }
          },
          "annotationdefaults": {
           "arrowcolor": "#f2f5fa",
           "arrowhead": 0,
           "arrowwidth": 1
          },
          "geo": {
           "bgcolor": "rgb(17,17,17)",
           "landcolor": "rgb(17,17,17)",
           "subunitcolor": "#506784",
           "showland": true,
           "showlakes": true,
           "lakecolor": "rgb(17,17,17)"
          },
          "title": {
           "x": 0.05
          },
          "updatemenudefaults": {
           "bgcolor": "#506784",
           "borderwidth": 0
          },
          "sliderdefaults": {
           "bgcolor": "#C8D4E3",
           "borderwidth": 1,
           "bordercolor": "rgb(17,17,17)",
           "tickwidth": 0
          },
          "mapbox": {
           "style": "dark"
          }
         }
        },
        "xaxis": {
         "anchor": "y",
         "domain": [
          0.0,
          1.0
         ]
        },
        "yaxis": {
         "anchor": "x",
         "domain": [
          0.0,
          1.0
         ],
         "autorange": "reversed"
        },
        "coloraxis": {
         "colorscale": [
          [
           0.0,
           "rgb(61, 89, 65)"
          ],
          [
           0.16666666666666666,
           "rgb(119, 136, 104)"
          ],
          [
           0.3333333333333333,
           "rgb(181, 185, 145)"
          ],
          [
           0.5,
           "rgb(246, 237, 189)"
          ],
          [
           0.6666666666666666,
           "rgb(237, 187, 138)"
          ],
          [
           0.8333333333333334,
           "rgb(222, 138, 90)"
          ],
          [
           1.0,
           "rgb(202, 86, 44)"
          ]
         ],
         "cmin": -1,
         "cmax": 1
        },
        "margin": {
         "t": 60
        }
       },
       "config": {
        "plotlyServerURL": "https://plot.ly"
       }
      },
      "text/html": "<div>                            <div id=\"4e4f7e8a-eb9c-46c9-92d7-eab154036c42\" class=\"plotly-graph-div\" style=\"height:525px; width:100%;\"></div>            <script type=\"text/javascript\">                require([\"plotly\"], function(Plotly) {                    window.PLOTLYENV=window.PLOTLYENV || {};                                    if (document.getElementById(\"4e4f7e8a-eb9c-46c9-92d7-eab154036c42\")) {                    Plotly.newPlot(                        \"4e4f7e8a-eb9c-46c9-92d7-eab154036c42\",                        [{\"coloraxis\":\"coloraxis\",\"name\":\"0\",\"texttemplate\":\"%{z}\",\"x\":[\"yearID\",\"G\",\"AB\",\"R\",\"H\",\"2B\",\"3B\",\"HR\",\"RBI\",\"SB\",\"CS\",\"BB\",\"SO\",\"HBP\",\"SH\",\"SF\",\"WAR\",\"oWAR\",\"dWAR\"],\"y\":[\"yearID\",\"G\",\"AB\",\"R\",\"H\",\"2B\",\"3B\",\"HR\",\"RBI\",\"SB\",\"CS\",\"BB\",\"SO\",\"HBP\",\"SH\",\"SF\",\"WAR\",\"oWAR\",\"dWAR\"],\"z\":[[1.0,0.0974965918153435,0.06975919539420591,0.07936006707885582,-0.03806710164346039,0.24166279037407976,-0.5422277572554333,0.5026727071509016,0.1769347174005416,-0.13589770979116034,-0.2740703121993059,0.1144908235337861,0.644829106520566,0.16447493839917746,-0.6651472973052779,-0.01840496997529496,0.0519484211758164,0.05036828307214978,0.03424403428056896],[0.0974965918153435,1.0,0.8750145248315417,0.42372465363671685,0.5946424310850678,0.3767326956958273,0.04407592288893804,0.2807209158157483,0.3683384525990209,0.06046031760766003,0.10863601538652032,0.31993132556924747,0.3057886176298548,0.12913999326151523,-0.048175315748638786,0.22666361631029075,0.23527567002328778,0.24108021401904034,0.04049669394329895],[0.06975919539420591,0.8750145248315417,1.0,0.5344286537181363,0.7716622577424477,0.44715047852475326,0.1456462040912286,0.19874277420330383,0.3240733756839985,0.1383321401640337,0.16892323617862895,0.13510227179208553,0.1926963067406221,0.09370952298499309,-0.04616936414009885,0.1893455182232966,0.22234224971812067,0.22396393456802047,0.06234219285876558],[0.07936006707885582,0.42372465363671685,0.5344286537181363,1.0,0.6979115880206698,0.5032788756690759,0.19874096835144706,0.4426369136843713,0.4995855618752239,0.251621582479701,0.1325202134552059,0.5364020891522955,0.19772830605337033,0.22819787601423347,-0.12868707374865263,0.17701030816108831,0.625963999473983,0.6785439433247394,-0.02090354013440167],[-0.03806710164346039,0.5946424310850678,0.7716622577424477,0.6979115880206698,1.0,0.6023128047897411,0.2983892028151717,0.18252601147452993,0.45693851163821664,0.16653824325772665,0.17670197401207713,0.16560384830166552,-0.04910106231439701,0.09227923087471017,-0.022780022767271552,0.20231636846499435,0.5259941377388129,0.5696252778618907,-0.021166052487041752],[0.24166279037407976,0.3767326956958273,0.44715047852475326,0.5032788756690759,0.6023128047897411,1.0,-0.0062831229573537236,0.3274148361227831,0.503201244534448,-0.06265893457422819,-0.08049292506526087,0.2017147876133292,0.1684712336971916,0.1296952654828075,-0.24237192614825795,0.228964251231533,0.4229926523203956,0.45654962070311245,-0.0179726039617165],[-0.5422277572554333,0.04407592288893804,0.1456462040912286,0.19874096835144706,0.2983892028151717,-0.0062831229573537236,1.0,-0.3442278474965637,-0.04716710068683219,0.33063246977308286,0.4067629337645792,-0.09449032362059026,-0.34467646501830346,-0.07555676342254763,0.40449108839031456,-0.06670888145091199,0.1857072669543521,0.18046422862562114,0.03851998992207168],[0.5026727071509016,0.2807209158157483,0.19874277420330383,0.4426369136843713,0.18252601147452993,0.3274148361227831,-0.3442278474965637,1.0,0.7691882531824719,-0.26699806512243934,-0.3502132537797614,0.38576669172155986,0.649742856140859,0.20667735343566446,-0.5643738353861926,0.22839382876387493,0.3862358595400775,0.4484970920020889,-0.18030112877770588],[0.1769347174005416,0.3683384525990209,0.3240733756839985,0.4995855618752239,0.45693851163821664,0.503201244534448,-0.04716710068683219,0.7691882531824719,1.0,-0.2322129249211576,-0.28363385541600183,0.3266215032782816,0.3459259910502915,0.1317421441788983,-0.3370252485615874,0.4360610558874565,0.4474469304875144,0.5167748232905202,-0.2019265201421245],[-0.13589770979116034,0.06046031760766003,0.1383321401640337,0.251621582479701,0.16653824325772665,-0.06265893457422819,0.33063246977308286,-0.26699806512243934,-0.2322129249211576,1.0,0.6810608972289858,0.01693667250849519,-0.06814176972363999,0.09702961982653346,0.21058973204362647,-0.09996147487997609,0.19592265999192462,0.17730292512596849,0.13166365452418183],[-0.2740703121993059,0.10863601538652032,0.16892323617862895,0.1325202134552059,0.17670197401207713,-0.08049292506526087,0.4067629337645792,-0.3502132537797614,-0.28363385541600183,0.6810608972289858,1.0,-0.018174418055346583,-0.19837223417580813,-0.015736702425952265,0.3578104839548026,-0.10902508812655134,0.06073494576356776,0.0336443771122771,0.128632890346002],[0.1144908235337861,0.31993132556924747,0.13510227179208553,0.5364020891522955,0.16560384830166552,0.2017147876133292,-0.09449032362059026,0.38576669172155986,0.3266215032782816,0.01693667250849519,-0.018174418055346583,1.0,0.2610962703844403,0.09324371928279188,-0.19460596345391232,0.12353798615990527,0.471309576293875,0.5327979624847595,-0.10172191723539968],[0.644829106520566,0.3057886176298548,0.1926963067406221,0.19772830605337033,-0.04910106231439701,0.1684712336971916,-0.34467646501830346,0.649742856140859,0.3459259910502915,-0.06814176972363999,-0.19837223417580813,0.2610962703844403,1.0,0.23104260950862843,-0.4971572663266407,0.03055888675052524,0.08900325428208491,0.12393687695586247,-0.10716581653377255],[0.16447493839917746,0.12913999326151523,0.09370952298499309,0.22819787601423347,0.09227923087471017,0.1296952654828075,-0.07555676342254763,0.20667735343566446,0.1317421441788983,0.09702961982653346,-0.015736702425952265,0.09324371928279188,0.23104260950862843,1.0,-0.10557366206568473,0.019852897649177807,0.18475199801135764,0.21278468342874982,-0.036330355620631305],[-0.6651472973052779,-0.048175315748638786,-0.04616936414009885,-0.12868707374865263,-0.022780022767271552,-0.24237192614825795,0.40449108839031456,-0.5643738353861926,-0.3370252485615874,0.21058973204362647,0.3578104839548026,-0.19460596345391232,-0.4971572663266407,-0.10557366206568473,1.0,-0.1359602996545943,-0.1204687531549336,-0.14398652979405632,0.11510311588021802],[-0.01840496997529496,0.22666361631029075,0.1893455182232966,0.17701030816108831,0.20231636846499435,0.228964251231533,-0.06670888145091199,0.22839382876387493,0.4360610558874565,-0.09996147487997609,-0.10902508812655134,0.12353798615990527,0.03055888675052524,0.019852897649177807,-0.1359602996545943,1.0,0.0990118902866066,0.1244748983835328,-0.0696683534693447],[0.0519484211758164,0.23527567002328778,0.22234224971812067,0.625963999473983,0.5259941377388129,0.4229926523203956,0.1857072669543521,0.3862358595400775,0.4474469304875144,0.19592265999192462,0.06073494576356776,0.471309576293875,0.08900325428208491,0.18475199801135764,-0.1204687531549336,0.0990118902866066,1.0,0.9104191155364929,0.3732988598992077],[0.05036828307214978,0.24108021401904034,0.22396393456802047,0.6785439433247394,0.5696252778618907,0.45654962070311245,0.18046422862562114,0.4484970920020889,0.5167748232905202,0.17730292512596849,0.0336443771122771,0.5327979624847595,0.12393687695586247,0.21278468342874982,-0.14398652979405632,0.1244748983835328,0.9104191155364929,1.0,0.03374343277662481],[0.03424403428056896,0.04049669394329895,0.06234219285876558,-0.02090354013440167,-0.021166052487041752,-0.0179726039617165,0.03851998992207168,-0.18030112877770588,-0.2019265201421245,0.13166365452418183,0.128632890346002,-0.10172191723539968,-0.10716581653377255,-0.036330355620631305,0.11510311588021802,-0.0696683534693447,0.3732988598992077,0.03374343277662481,1.0]],\"type\":\"heatmap\",\"xaxis\":\"x\",\"yaxis\":\"y\",\"hovertemplate\":\"x: %{x}<br>y: %{y}<br>color: %{z}<extra></extra>\"}],                        {\"template\":{\"data\":{\"histogram2dcontour\":[{\"type\":\"histogram2dcontour\",\"colorbar\":{\"outlinewidth\":0,\"ticks\":\"\"},\"colorscale\":[[0.0,\"#0d0887\"],[0.1111111111111111,\"#46039f\"],[0.2222222222222222,\"#7201a8\"],[0.3333333333333333,\"#9c179e\"],[0.4444444444444444,\"#bd3786\"],[0.5555555555555556,\"#d8576b\"],[0.6666666666666666,\"#ed7953\"],[0.7777777777777778,\"#fb9f3a\"],[0.8888888888888888,\"#fdca26\"],[1.0,\"#f0f921\"]]}],\"choropleth\":[{\"type\":\"choropleth\",\"colorbar\":{\"outlinewidth\":0,\"ticks\":\"\"}}],\"histogram2d\":[{\"type\":\"histogram2d\",\"colorbar\":{\"outlinewidth\":0,\"ticks\":\"\"},\"colorscale\":[[0.0,\"#0d0887\"],[0.1111111111111111,\"#46039f\"],[0.2222222222222222,\"#7201a8\"],[0.3333333333333333,\"#9c179e\"],[0.4444444444444444,\"#bd3786\"],[0.5555555555555556,\"#d8576b\"],[0.6666666666666666,\"#ed7953\"],[0.7777777777777778,\"#fb9f3a\"],[0.8888888888888888,\"#fdca26\"],[1.0,\"#f0f921\"]]}],\"heatmap\":[{\"type\":\"heatmap\",\"colorbar\":{\"outlinewidth\":0,\"ticks\":\"\"},\"colorscale\":[[0.0,\"#0d0887\"],[0.1111111111111111,\"#46039f\"],[0.2222222222222222,\"#7201a8\"],[0.3333333333333333,\"#9c179e\"],[0.4444444444444444,\"#bd3786\"],[0.5555555555555556,\"#d8576b\"],[0.6666666666666666,\"#ed7953\"],[0.7777777777777778,\"#fb9f3a\"],[0.8888888888888888,\"#fdca26\"],[1.0,\"#f0f921\"]]}],\"heatmapgl\":[{\"type\":\"heatmapgl\",\"colorbar\":{\"outlinewidth\":0,\"ticks\":\"\"},\"colorscale\":[[0.0,\"#0d0887\"],[0.1111111111111111,\"#46039f\"],[0.2222222222222222,\"#7201a8\"],[0.3333333333333333,\"#9c179e\"],[0.4444444444444444,\"#bd3786\"],[0.5555555555555556,\"#d8576b\"],[0.6666666666666666,\"#ed7953\"],[0.7777777777777778,\"#fb9f3a\"],[0.8888888888888888,\"#fdca26\"],[1.0,\"#f0f921\"]]}],\"contourcarpet\":[{\"type\":\"contourcarpet\",\"colorbar\":{\"outlinewidth\":0,\"ticks\":\"\"}}],\"contour\":[{\"type\":\"contour\",\"colorbar\":{\"outlinewidth\":0,\"ticks\":\"\"},\"colorscale\":[[0.0,\"#0d0887\"],[0.1111111111111111,\"#46039f\"],[0.2222222222222222,\"#7201a8\"],[0.3333333333333333,\"#9c179e\"],[0.4444444444444444,\"#bd3786\"],[0.5555555555555556,\"#d8576b\"],[0.6666666666666666,\"#ed7953\"],[0.7777777777777778,\"#fb9f3a\"],[0.8888888888888888,\"#fdca26\"],[1.0,\"#f0f921\"]]}],\"surface\":[{\"type\":\"surface\",\"colorbar\":{\"outlinewidth\":0,\"ticks\":\"\"},\"colorscale\":[[0.0,\"#0d0887\"],[0.1111111111111111,\"#46039f\"],[0.2222222222222222,\"#7201a8\"],[0.3333333333333333,\"#9c179e\"],[0.4444444444444444,\"#bd3786\"],[0.5555555555555556,\"#d8576b\"],[0.6666666666666666,\"#ed7953\"],[0.7777777777777778,\"#fb9f3a\"],[0.8888888888888888,\"#fdca26\"],[1.0,\"#f0f921\"]]}],\"mesh3d\":[{\"type\":\"mesh3d\",\"colorbar\":{\"outlinewidth\":0,\"ticks\":\"\"}}],\"scatter\":[{\"marker\":{\"line\":{\"color\":\"#283442\"}},\"type\":\"scatter\"}],\"parcoords\":[{\"type\":\"parcoords\",\"line\":{\"colorbar\":{\"outlinewidth\":0,\"ticks\":\"\"}}}],\"scatterpolargl\":[{\"type\":\"scatterpolargl\",\"marker\":{\"colorbar\":{\"outlinewidth\":0,\"ticks\":\"\"}}}],\"bar\":[{\"error_x\":{\"color\":\"#f2f5fa\"},\"error_y\":{\"color\":\"#f2f5fa\"},\"marker\":{\"line\":{\"color\":\"rgb(17,17,17)\",\"width\":0.5},\"pattern\":{\"fillmode\":\"overlay\",\"size\":10,\"solidity\":0.2}},\"type\":\"bar\"}],\"scattergeo\":[{\"type\":\"scattergeo\",\"marker\":{\"colorbar\":{\"outlinewidth\":0,\"ticks\":\"\"}}}],\"scatterpolar\":[{\"type\":\"scatterpolar\",\"marker\":{\"colorbar\":{\"outlinewidth\":0,\"ticks\":\"\"}}}],\"histogram\":[{\"marker\":{\"pattern\":{\"fillmode\":\"overlay\",\"size\":10,\"solidity\":0.2}},\"type\":\"histogram\"}],\"scattergl\":[{\"marker\":{\"line\":{\"color\":\"#283442\"}},\"type\":\"scattergl\"}],\"scatter3d\":[{\"type\":\"scatter3d\",\"line\":{\"colorbar\":{\"outlinewidth\":0,\"ticks\":\"\"}},\"marker\":{\"colorbar\":{\"outlinewidth\":0,\"ticks\":\"\"}}}],\"scattermapbox\":[{\"type\":\"scattermapbox\",\"marker\":{\"colorbar\":{\"outlinewidth\":0,\"ticks\":\"\"}}}],\"scatterternary\":[{\"type\":\"scatterternary\",\"marker\":{\"colorbar\":{\"outlinewidth\":0,\"ticks\":\"\"}}}],\"scattercarpet\":[{\"type\":\"scattercarpet\",\"marker\":{\"colorbar\":{\"outlinewidth\":0,\"ticks\":\"\"}}}],\"carpet\":[{\"aaxis\":{\"endlinecolor\":\"#A2B1C6\",\"gridcolor\":\"#506784\",\"linecolor\":\"#506784\",\"minorgridcolor\":\"#506784\",\"startlinecolor\":\"#A2B1C6\"},\"baxis\":{\"endlinecolor\":\"#A2B1C6\",\"gridcolor\":\"#506784\",\"linecolor\":\"#506784\",\"minorgridcolor\":\"#506784\",\"startlinecolor\":\"#A2B1C6\"},\"type\":\"carpet\"}],\"table\":[{\"cells\":{\"fill\":{\"color\":\"#506784\"},\"line\":{\"color\":\"rgb(17,17,17)\"}},\"header\":{\"fill\":{\"color\":\"#2a3f5f\"},\"line\":{\"color\":\"rgb(17,17,17)\"}},\"type\":\"table\"}],\"barpolar\":[{\"marker\":{\"line\":{\"color\":\"rgb(17,17,17)\",\"width\":0.5},\"pattern\":{\"fillmode\":\"overlay\",\"size\":10,\"solidity\":0.2}},\"type\":\"barpolar\"}],\"pie\":[{\"automargin\":true,\"type\":\"pie\"}]},\"layout\":{\"autotypenumbers\":\"strict\",\"colorway\":[\"#636efa\",\"#EF553B\",\"#00cc96\",\"#ab63fa\",\"#FFA15A\",\"#19d3f3\",\"#FF6692\",\"#B6E880\",\"#FF97FF\",\"#FECB52\"],\"font\":{\"color\":\"#f2f5fa\"},\"hovermode\":\"closest\",\"hoverlabel\":{\"align\":\"left\"},\"paper_bgcolor\":\"rgb(17,17,17)\",\"plot_bgcolor\":\"rgb(17,17,17)\",\"polar\":{\"bgcolor\":\"rgb(17,17,17)\",\"angularaxis\":{\"gridcolor\":\"#506784\",\"linecolor\":\"#506784\",\"ticks\":\"\"},\"radialaxis\":{\"gridcolor\":\"#506784\",\"linecolor\":\"#506784\",\"ticks\":\"\"}},\"ternary\":{\"bgcolor\":\"rgb(17,17,17)\",\"aaxis\":{\"gridcolor\":\"#506784\",\"linecolor\":\"#506784\",\"ticks\":\"\"},\"baxis\":{\"gridcolor\":\"#506784\",\"linecolor\":\"#506784\",\"ticks\":\"\"},\"caxis\":{\"gridcolor\":\"#506784\",\"linecolor\":\"#506784\",\"ticks\":\"\"}},\"coloraxis\":{\"colorbar\":{\"outlinewidth\":0,\"ticks\":\"\"}},\"colorscale\":{\"sequential\":[[0.0,\"#0d0887\"],[0.1111111111111111,\"#46039f\"],[0.2222222222222222,\"#7201a8\"],[0.3333333333333333,\"#9c179e\"],[0.4444444444444444,\"#bd3786\"],[0.5555555555555556,\"#d8576b\"],[0.6666666666666666,\"#ed7953\"],[0.7777777777777778,\"#fb9f3a\"],[0.8888888888888888,\"#fdca26\"],[1.0,\"#f0f921\"]],\"sequentialminus\":[[0.0,\"#0d0887\"],[0.1111111111111111,\"#46039f\"],[0.2222222222222222,\"#7201a8\"],[0.3333333333333333,\"#9c179e\"],[0.4444444444444444,\"#bd3786\"],[0.5555555555555556,\"#d8576b\"],[0.6666666666666666,\"#ed7953\"],[0.7777777777777778,\"#fb9f3a\"],[0.8888888888888888,\"#fdca26\"],[1.0,\"#f0f921\"]],\"diverging\":[[0,\"#8e0152\"],[0.1,\"#c51b7d\"],[0.2,\"#de77ae\"],[0.3,\"#f1b6da\"],[0.4,\"#fde0ef\"],[0.5,\"#f7f7f7\"],[0.6,\"#e6f5d0\"],[0.7,\"#b8e186\"],[0.8,\"#7fbc41\"],[0.9,\"#4d9221\"],[1,\"#276419\"]]},\"xaxis\":{\"gridcolor\":\"#283442\",\"linecolor\":\"#506784\",\"ticks\":\"\",\"title\":{\"standoff\":15},\"zerolinecolor\":\"#283442\",\"automargin\":true,\"zerolinewidth\":2},\"yaxis\":{\"gridcolor\":\"#283442\",\"linecolor\":\"#506784\",\"ticks\":\"\",\"title\":{\"standoff\":15},\"zerolinecolor\":\"#283442\",\"automargin\":true,\"zerolinewidth\":2},\"scene\":{\"xaxis\":{\"backgroundcolor\":\"rgb(17,17,17)\",\"gridcolor\":\"#506784\",\"linecolor\":\"#506784\",\"showbackground\":true,\"ticks\":\"\",\"zerolinecolor\":\"#C8D4E3\",\"gridwidth\":2},\"yaxis\":{\"backgroundcolor\":\"rgb(17,17,17)\",\"gridcolor\":\"#506784\",\"linecolor\":\"#506784\",\"showbackground\":true,\"ticks\":\"\",\"zerolinecolor\":\"#C8D4E3\",\"gridwidth\":2},\"zaxis\":{\"backgroundcolor\":\"rgb(17,17,17)\",\"gridcolor\":\"#506784\",\"linecolor\":\"#506784\",\"showbackground\":true,\"ticks\":\"\",\"zerolinecolor\":\"#C8D4E3\",\"gridwidth\":2}},\"shapedefaults\":{\"line\":{\"color\":\"#f2f5fa\"}},\"annotationdefaults\":{\"arrowcolor\":\"#f2f5fa\",\"arrowhead\":0,\"arrowwidth\":1},\"geo\":{\"bgcolor\":\"rgb(17,17,17)\",\"landcolor\":\"rgb(17,17,17)\",\"subunitcolor\":\"#506784\",\"showland\":true,\"showlakes\":true,\"lakecolor\":\"rgb(17,17,17)\"},\"title\":{\"x\":0.05},\"updatemenudefaults\":{\"bgcolor\":\"#506784\",\"borderwidth\":0},\"sliderdefaults\":{\"bgcolor\":\"#C8D4E3\",\"borderwidth\":1,\"bordercolor\":\"rgb(17,17,17)\",\"tickwidth\":0},\"mapbox\":{\"style\":\"dark\"}}},\"xaxis\":{\"anchor\":\"y\",\"domain\":[0.0,1.0]},\"yaxis\":{\"anchor\":\"x\",\"domain\":[0.0,1.0],\"autorange\":\"reversed\"},\"coloraxis\":{\"colorscale\":[[0.0,\"rgb(61, 89, 65)\"],[0.16666666666666666,\"rgb(119, 136, 104)\"],[0.3333333333333333,\"rgb(181, 185, 145)\"],[0.5,\"rgb(246, 237, 189)\"],[0.6666666666666666,\"rgb(237, 187, 138)\"],[0.8333333333333334,\"rgb(222, 138, 90)\"],[1.0,\"rgb(202, 86, 44)\"]],\"cmin\":-1,\"cmax\":1},\"margin\":{\"t\":60}},                        {\"responsive\": true}                    ).then(function(){\n                            \nvar gd = document.getElementById('4e4f7e8a-eb9c-46c9-92d7-eab154036c42');\nvar x = new MutationObserver(function (mutations, observer) {{\n        var display = window.getComputedStyle(gd).display;\n        if (!display || display === 'none') {{\n            console.log([gd, 'removed!']);\n            Plotly.purge(gd);\n            observer.disconnect();\n        }}\n}});\n\n// Listen for the removal of the full notebook cells\nvar notebookContainer = gd.closest('#notebook-container');\nif (notebookContainer) {{\n    x.observe(notebookContainer, {childList: true});\n}}\n\n// Listen for the clearing of the current output cell\nvar outputEl = gd.closest('.output');\nif (outputEl) {{\n    x.observe(outputEl, {childList: true});\n}}\n\n                        })                };                });            </script>        </div>"
     },
     "metadata": {},
     "output_type": "display_data"
    }
   ],
   "source": [
    "corrMatrix = batting_heavy_abvanced_final.corr()\n",
    "px.imshow(corrMatrix, text_auto=True, aspect='auto', zmax=1, zmin=-1, color_continuous_scale=px.colors.diverging.Fall)"
   ],
   "metadata": {
    "collapsed": false,
    "pycharm": {
     "name": "#%%\n"
    }
   }
  },
  {
   "cell_type": "markdown",
   "source": [
    "Pitch"
   ],
   "metadata": {
    "collapsed": false,
    "pycharm": {
     "name": "#%% md\n"
    }
   }
  },
  {
   "cell_type": "code",
   "execution_count": 78,
   "outputs": [],
   "source": [
    "pitching_df = pitching_df[pitching_df[\"yearID\"] >= 1899]\n",
    "teams_df[\"minOUT\"] = teams_df[\"G\"] * 3\n",
    "pitching_min = pd.merge(pitching_df, teams_df[['minOUT', 'yearID', 'teamID']], on=['yearID', 'teamID'])\n",
    "pitching_min = pitching_min[pitching_min[\"minOUT\"] < pitching_min[\"IPouts\"]]"
   ],
   "metadata": {
    "collapsed": false,
    "pycharm": {
     "name": "#%%\n"
    }
   }
  },
  {
   "cell_type": "code",
   "execution_count": 79,
   "outputs": [],
   "source": [
    "pitching_full = pd.merge(pitching_min, players_df, on=[\"playerID\"])\n",
    "pitching_full[\"fullName\"] = pitching_full[\"nameFirst\"] + \" \" + pitching_full[\"nameLast\"]"
   ],
   "metadata": {
    "collapsed": false,
    "pycharm": {
     "name": "#%%\n"
    }
   }
  },
  {
   "cell_type": "code",
   "execution_count": 82,
   "outputs": [
    {
     "data": {
      "text/plain": "       playerID  yearID  stint teamID lgID   W   L   G  GS  CG  ...  \\\n0     lewiste01    1899      1    BSN   NL  17  11  29  25  23  ...   \n1     lewiste01    1900      1    BSN   NL  13  12  30  22  19  ...   \n2     lewiste01    1901      1    BOS   AL  16  17  39  34  31  ...   \n3     nichoki01    1899      1    BSN   NL  21  19  42  37  37  ...   \n4     nichoki01    1900      1    BSN   NL  13  16  29  27  25  ...   \n...         ...     ...    ...    ...  ...  ..  ..  ..  ..  ..  ...   \n8547  uriasju01    2021      1    LAN   NL  20   3  32  32   0  ...   \n8548  lylesjo01    2021      1    TEX   AL  10  13  32  30   0  ...   \n8549  burneco01    2021      1    MIL   NL  11   5  28  28   0  ...   \n8550  flexech01    2021      1    SEA   AL  14   6  31  31   0  ...   \n8551  ceasedy01    2021      1    CHA   AL  13   7  32  32   1  ...   \n\n             nameGiven  weight  height  bats  throws       debut   finalGame  \\\n0        Edward Morgan   158.0    70.0     R       R  1896-07-06  1901-09-26   \n1        Edward Morgan   158.0    70.0     R       R  1896-07-06  1901-09-26   \n2        Edward Morgan   158.0    70.0     R       R  1896-07-06  1901-09-26   \n3     Charles Augustus   175.0    70.0     B       R  1890-04-23  1906-05-18   \n4     Charles Augustus   175.0    70.0     B       R  1890-04-23  1906-05-18   \n...                ...     ...     ...   ...     ...         ...         ...   \n8547       Julio Cesar   225.0    72.0     L       L  2016-05-27  2021-10-02   \n8548     Jordan Horton   230.0    77.0     R       R  2011-05-31  2021-10-02   \n8549      Corbin Brian   225.0    75.0     R       R  2018-07-10  2021-10-02   \n8550  Christopher John   250.0    75.0     R       R  2017-07-27  2021-10-02   \n8551      Dylan Edward   195.0    74.0     R       R  2019-07-03  2021-10-03   \n\n       retroID    bbrefID       fullName  \n0     lewit101  lewiste01      Ted Lewis  \n1     lewit101  lewiste01      Ted Lewis  \n2     lewit101  lewiste01      Ted Lewis  \n3     nichk101  nichoki01    Kid Nichols  \n4     nichk101  nichoki01    Kid Nichols  \n...        ...        ...            ...  \n8547  uriaj001  uriasju01    Julio Urias  \n8548  lylej001  lylesjo01   Jordan Lyles  \n8549  burnc002  burneco01  Corbin Burnes  \n8550  flexc001  flexech01   Chris Flexen  \n8551  ceasd001  ceasedy01    Dylan Cease  \n\n[8552 rows x 55 columns]",
      "text/html": "<div>\n<style scoped>\n    .dataframe tbody tr th:only-of-type {\n        vertical-align: middle;\n    }\n\n    .dataframe tbody tr th {\n        vertical-align: top;\n    }\n\n    .dataframe thead th {\n        text-align: right;\n    }\n</style>\n<table border=\"1\" class=\"dataframe\">\n  <thead>\n    <tr style=\"text-align: right;\">\n      <th></th>\n      <th>playerID</th>\n      <th>yearID</th>\n      <th>stint</th>\n      <th>teamID</th>\n      <th>lgID</th>\n      <th>W</th>\n      <th>L</th>\n      <th>G</th>\n      <th>GS</th>\n      <th>CG</th>\n      <th>...</th>\n      <th>nameGiven</th>\n      <th>weight</th>\n      <th>height</th>\n      <th>bats</th>\n      <th>throws</th>\n      <th>debut</th>\n      <th>finalGame</th>\n      <th>retroID</th>\n      <th>bbrefID</th>\n      <th>fullName</th>\n    </tr>\n  </thead>\n  <tbody>\n    <tr>\n      <th>0</th>\n      <td>lewiste01</td>\n      <td>1899</td>\n      <td>1</td>\n      <td>BSN</td>\n      <td>NL</td>\n      <td>17</td>\n      <td>11</td>\n      <td>29</td>\n      <td>25</td>\n      <td>23</td>\n      <td>...</td>\n      <td>Edward Morgan</td>\n      <td>158.0</td>\n      <td>70.0</td>\n      <td>R</td>\n      <td>R</td>\n      <td>1896-07-06</td>\n      <td>1901-09-26</td>\n      <td>lewit101</td>\n      <td>lewiste01</td>\n      <td>Ted Lewis</td>\n    </tr>\n    <tr>\n      <th>1</th>\n      <td>lewiste01</td>\n      <td>1900</td>\n      <td>1</td>\n      <td>BSN</td>\n      <td>NL</td>\n      <td>13</td>\n      <td>12</td>\n      <td>30</td>\n      <td>22</td>\n      <td>19</td>\n      <td>...</td>\n      <td>Edward Morgan</td>\n      <td>158.0</td>\n      <td>70.0</td>\n      <td>R</td>\n      <td>R</td>\n      <td>1896-07-06</td>\n      <td>1901-09-26</td>\n      <td>lewit101</td>\n      <td>lewiste01</td>\n      <td>Ted Lewis</td>\n    </tr>\n    <tr>\n      <th>2</th>\n      <td>lewiste01</td>\n      <td>1901</td>\n      <td>1</td>\n      <td>BOS</td>\n      <td>AL</td>\n      <td>16</td>\n      <td>17</td>\n      <td>39</td>\n      <td>34</td>\n      <td>31</td>\n      <td>...</td>\n      <td>Edward Morgan</td>\n      <td>158.0</td>\n      <td>70.0</td>\n      <td>R</td>\n      <td>R</td>\n      <td>1896-07-06</td>\n      <td>1901-09-26</td>\n      <td>lewit101</td>\n      <td>lewiste01</td>\n      <td>Ted Lewis</td>\n    </tr>\n    <tr>\n      <th>3</th>\n      <td>nichoki01</td>\n      <td>1899</td>\n      <td>1</td>\n      <td>BSN</td>\n      <td>NL</td>\n      <td>21</td>\n      <td>19</td>\n      <td>42</td>\n      <td>37</td>\n      <td>37</td>\n      <td>...</td>\n      <td>Charles Augustus</td>\n      <td>175.0</td>\n      <td>70.0</td>\n      <td>B</td>\n      <td>R</td>\n      <td>1890-04-23</td>\n      <td>1906-05-18</td>\n      <td>nichk101</td>\n      <td>nichoki01</td>\n      <td>Kid Nichols</td>\n    </tr>\n    <tr>\n      <th>4</th>\n      <td>nichoki01</td>\n      <td>1900</td>\n      <td>1</td>\n      <td>BSN</td>\n      <td>NL</td>\n      <td>13</td>\n      <td>16</td>\n      <td>29</td>\n      <td>27</td>\n      <td>25</td>\n      <td>...</td>\n      <td>Charles Augustus</td>\n      <td>175.0</td>\n      <td>70.0</td>\n      <td>B</td>\n      <td>R</td>\n      <td>1890-04-23</td>\n      <td>1906-05-18</td>\n      <td>nichk101</td>\n      <td>nichoki01</td>\n      <td>Kid Nichols</td>\n    </tr>\n    <tr>\n      <th>...</th>\n      <td>...</td>\n      <td>...</td>\n      <td>...</td>\n      <td>...</td>\n      <td>...</td>\n      <td>...</td>\n      <td>...</td>\n      <td>...</td>\n      <td>...</td>\n      <td>...</td>\n      <td>...</td>\n      <td>...</td>\n      <td>...</td>\n      <td>...</td>\n      <td>...</td>\n      <td>...</td>\n      <td>...</td>\n      <td>...</td>\n      <td>...</td>\n      <td>...</td>\n      <td>...</td>\n    </tr>\n    <tr>\n      <th>8547</th>\n      <td>uriasju01</td>\n      <td>2021</td>\n      <td>1</td>\n      <td>LAN</td>\n      <td>NL</td>\n      <td>20</td>\n      <td>3</td>\n      <td>32</td>\n      <td>32</td>\n      <td>0</td>\n      <td>...</td>\n      <td>Julio Cesar</td>\n      <td>225.0</td>\n      <td>72.0</td>\n      <td>L</td>\n      <td>L</td>\n      <td>2016-05-27</td>\n      <td>2021-10-02</td>\n      <td>uriaj001</td>\n      <td>uriasju01</td>\n      <td>Julio Urias</td>\n    </tr>\n    <tr>\n      <th>8548</th>\n      <td>lylesjo01</td>\n      <td>2021</td>\n      <td>1</td>\n      <td>TEX</td>\n      <td>AL</td>\n      <td>10</td>\n      <td>13</td>\n      <td>32</td>\n      <td>30</td>\n      <td>0</td>\n      <td>...</td>\n      <td>Jordan Horton</td>\n      <td>230.0</td>\n      <td>77.0</td>\n      <td>R</td>\n      <td>R</td>\n      <td>2011-05-31</td>\n      <td>2021-10-02</td>\n      <td>lylej001</td>\n      <td>lylesjo01</td>\n      <td>Jordan Lyles</td>\n    </tr>\n    <tr>\n      <th>8549</th>\n      <td>burneco01</td>\n      <td>2021</td>\n      <td>1</td>\n      <td>MIL</td>\n      <td>NL</td>\n      <td>11</td>\n      <td>5</td>\n      <td>28</td>\n      <td>28</td>\n      <td>0</td>\n      <td>...</td>\n      <td>Corbin Brian</td>\n      <td>225.0</td>\n      <td>75.0</td>\n      <td>R</td>\n      <td>R</td>\n      <td>2018-07-10</td>\n      <td>2021-10-02</td>\n      <td>burnc002</td>\n      <td>burneco01</td>\n      <td>Corbin Burnes</td>\n    </tr>\n    <tr>\n      <th>8550</th>\n      <td>flexech01</td>\n      <td>2021</td>\n      <td>1</td>\n      <td>SEA</td>\n      <td>AL</td>\n      <td>14</td>\n      <td>6</td>\n      <td>31</td>\n      <td>31</td>\n      <td>0</td>\n      <td>...</td>\n      <td>Christopher John</td>\n      <td>250.0</td>\n      <td>75.0</td>\n      <td>R</td>\n      <td>R</td>\n      <td>2017-07-27</td>\n      <td>2021-10-02</td>\n      <td>flexc001</td>\n      <td>flexech01</td>\n      <td>Chris Flexen</td>\n    </tr>\n    <tr>\n      <th>8551</th>\n      <td>ceasedy01</td>\n      <td>2021</td>\n      <td>1</td>\n      <td>CHA</td>\n      <td>AL</td>\n      <td>13</td>\n      <td>7</td>\n      <td>32</td>\n      <td>32</td>\n      <td>1</td>\n      <td>...</td>\n      <td>Dylan Edward</td>\n      <td>195.0</td>\n      <td>74.0</td>\n      <td>R</td>\n      <td>R</td>\n      <td>2019-07-03</td>\n      <td>2021-10-03</td>\n      <td>ceasd001</td>\n      <td>ceasedy01</td>\n      <td>Dylan Cease</td>\n    </tr>\n  </tbody>\n</table>\n<p>8552 rows × 55 columns</p>\n</div>"
     },
     "execution_count": 82,
     "metadata": {},
     "output_type": "execute_result"
    }
   ],
   "source": [
    "pitching_full"
   ],
   "metadata": {
    "collapsed": false,
    "pycharm": {
     "name": "#%%\n"
    }
   }
  },
  {
   "cell_type": "code",
   "execution_count": 81,
   "outputs": [
    {
     "data": {
      "text/plain": "       yearID  Age   Tm  Lg     IP     G    GS      R   RA9  RA9opp  ...  \\\n0        1896   23  BSN  NL   41.2   6.0   5.0   32.0  6.91    5.99  ...   \n1        1897   24  BSN  NL  290.0  38.0  34.0  177.0  5.49    5.75  ...   \n2        1898   25  BSN  NL  313.1  41.0  33.0  131.0  3.76    4.89  ...   \n3        1899   26  BSN  NL  234.2  29.0  25.0  119.0  4.56    5.22  ...   \n4        1900   27  BSN  NL  209.0  30.0  22.0  122.0  5.25    5.19  ...   \n...       ...  ...  ...  ..    ...   ...   ...    ...   ...     ...  ...   \n21938    2022   27  SEA  AL   17.1   3.0   3.0    7.0  3.63    4.49  ...   \n21939    2019   23  CHW  AL   73.0  14.0  14.0   51.0  6.29    4.71  ...   \n21940    2020   24  CHW  AL   58.1  12.0  12.0   30.0  4.63    4.23  ...   \n21941    2021   25  CHW  AL  165.2  32.0  32.0   77.0  4.18    4.50  ...   \n21942    2022   26  CHW  AL   16.0   3.0   3.0    6.0  3.38    5.11  ...   \n\n       WAAadj  WAR   RAR  waaWL%  162WL%      Salary  Awards    bbrefID  \\\n0         0.0  0.1   1.0   0.450   0.498         NaN     NaN  lewiste01   \n1        -0.2  3.1  36.0   0.515   0.503         NaN     NaN  lewiste01   \n2        -0.3  6.4  63.0   0.590   0.523         NaN     NaN  lewiste01   \n3        -0.2  3.6  37.0   0.555   0.510         NaN     NaN  lewiste01   \n4        -0.1  2.7  28.0   0.527   0.505         NaN     NaN  lewiste01   \n...       ...  ...   ...     ...     ...         ...     ...        ...   \n21938    -0.1  0.0   2.0   0.469   0.499  $3,050,000     NaN  flexech01   \n21939    -0.1 -0.3  -2.0   0.435   0.494         NaN     NaN  ceasedy01   \n21940    -0.1  0.1   2.0   0.469   0.498         NaN     NaN  ceasedy01   \n21941    -0.1  2.9  31.0   0.546   0.509         NaN     NaN  ceasedy01   \n21942    -0.1  0.5   6.0   0.640   0.503         NaN     NaN  ceasedy01   \n\n       RA9extras  teamID  \n0            NaN     BSN  \n1            NaN     BSN  \n2            NaN     BSN  \n3            NaN     BSN  \n4            NaN     BSN  \n...          ...     ...  \n21938        0.0     SEA  \n21939        NaN     CHW  \n21940        0.0     CHW  \n21941        0.0     CHW  \n21942        0.0     CHW  \n\n[21943 rows x 27 columns]",
      "text/html": "<div>\n<style scoped>\n    .dataframe tbody tr th:only-of-type {\n        vertical-align: middle;\n    }\n\n    .dataframe tbody tr th {\n        vertical-align: top;\n    }\n\n    .dataframe thead th {\n        text-align: right;\n    }\n</style>\n<table border=\"1\" class=\"dataframe\">\n  <thead>\n    <tr style=\"text-align: right;\">\n      <th></th>\n      <th>yearID</th>\n      <th>Age</th>\n      <th>Tm</th>\n      <th>Lg</th>\n      <th>IP</th>\n      <th>G</th>\n      <th>GS</th>\n      <th>R</th>\n      <th>RA9</th>\n      <th>RA9opp</th>\n      <th>...</th>\n      <th>WAAadj</th>\n      <th>WAR</th>\n      <th>RAR</th>\n      <th>waaWL%</th>\n      <th>162WL%</th>\n      <th>Salary</th>\n      <th>Awards</th>\n      <th>bbrefID</th>\n      <th>RA9extras</th>\n      <th>teamID</th>\n    </tr>\n  </thead>\n  <tbody>\n    <tr>\n      <th>0</th>\n      <td>1896</td>\n      <td>23</td>\n      <td>BSN</td>\n      <td>NL</td>\n      <td>41.2</td>\n      <td>6.0</td>\n      <td>5.0</td>\n      <td>32.0</td>\n      <td>6.91</td>\n      <td>5.99</td>\n      <td>...</td>\n      <td>0.0</td>\n      <td>0.1</td>\n      <td>1.0</td>\n      <td>0.450</td>\n      <td>0.498</td>\n      <td>NaN</td>\n      <td>NaN</td>\n      <td>lewiste01</td>\n      <td>NaN</td>\n      <td>BSN</td>\n    </tr>\n    <tr>\n      <th>1</th>\n      <td>1897</td>\n      <td>24</td>\n      <td>BSN</td>\n      <td>NL</td>\n      <td>290.0</td>\n      <td>38.0</td>\n      <td>34.0</td>\n      <td>177.0</td>\n      <td>5.49</td>\n      <td>5.75</td>\n      <td>...</td>\n      <td>-0.2</td>\n      <td>3.1</td>\n      <td>36.0</td>\n      <td>0.515</td>\n      <td>0.503</td>\n      <td>NaN</td>\n      <td>NaN</td>\n      <td>lewiste01</td>\n      <td>NaN</td>\n      <td>BSN</td>\n    </tr>\n    <tr>\n      <th>2</th>\n      <td>1898</td>\n      <td>25</td>\n      <td>BSN</td>\n      <td>NL</td>\n      <td>313.1</td>\n      <td>41.0</td>\n      <td>33.0</td>\n      <td>131.0</td>\n      <td>3.76</td>\n      <td>4.89</td>\n      <td>...</td>\n      <td>-0.3</td>\n      <td>6.4</td>\n      <td>63.0</td>\n      <td>0.590</td>\n      <td>0.523</td>\n      <td>NaN</td>\n      <td>NaN</td>\n      <td>lewiste01</td>\n      <td>NaN</td>\n      <td>BSN</td>\n    </tr>\n    <tr>\n      <th>3</th>\n      <td>1899</td>\n      <td>26</td>\n      <td>BSN</td>\n      <td>NL</td>\n      <td>234.2</td>\n      <td>29.0</td>\n      <td>25.0</td>\n      <td>119.0</td>\n      <td>4.56</td>\n      <td>5.22</td>\n      <td>...</td>\n      <td>-0.2</td>\n      <td>3.6</td>\n      <td>37.0</td>\n      <td>0.555</td>\n      <td>0.510</td>\n      <td>NaN</td>\n      <td>NaN</td>\n      <td>lewiste01</td>\n      <td>NaN</td>\n      <td>BSN</td>\n    </tr>\n    <tr>\n      <th>4</th>\n      <td>1900</td>\n      <td>27</td>\n      <td>BSN</td>\n      <td>NL</td>\n      <td>209.0</td>\n      <td>30.0</td>\n      <td>22.0</td>\n      <td>122.0</td>\n      <td>5.25</td>\n      <td>5.19</td>\n      <td>...</td>\n      <td>-0.1</td>\n      <td>2.7</td>\n      <td>28.0</td>\n      <td>0.527</td>\n      <td>0.505</td>\n      <td>NaN</td>\n      <td>NaN</td>\n      <td>lewiste01</td>\n      <td>NaN</td>\n      <td>BSN</td>\n    </tr>\n    <tr>\n      <th>...</th>\n      <td>...</td>\n      <td>...</td>\n      <td>...</td>\n      <td>...</td>\n      <td>...</td>\n      <td>...</td>\n      <td>...</td>\n      <td>...</td>\n      <td>...</td>\n      <td>...</td>\n      <td>...</td>\n      <td>...</td>\n      <td>...</td>\n      <td>...</td>\n      <td>...</td>\n      <td>...</td>\n      <td>...</td>\n      <td>...</td>\n      <td>...</td>\n      <td>...</td>\n      <td>...</td>\n    </tr>\n    <tr>\n      <th>21938</th>\n      <td>2022</td>\n      <td>27</td>\n      <td>SEA</td>\n      <td>AL</td>\n      <td>17.1</td>\n      <td>3.0</td>\n      <td>3.0</td>\n      <td>7.0</td>\n      <td>3.63</td>\n      <td>4.49</td>\n      <td>...</td>\n      <td>-0.1</td>\n      <td>0.0</td>\n      <td>2.0</td>\n      <td>0.469</td>\n      <td>0.499</td>\n      <td>$3,050,000</td>\n      <td>NaN</td>\n      <td>flexech01</td>\n      <td>0.0</td>\n      <td>SEA</td>\n    </tr>\n    <tr>\n      <th>21939</th>\n      <td>2019</td>\n      <td>23</td>\n      <td>CHW</td>\n      <td>AL</td>\n      <td>73.0</td>\n      <td>14.0</td>\n      <td>14.0</td>\n      <td>51.0</td>\n      <td>6.29</td>\n      <td>4.71</td>\n      <td>...</td>\n      <td>-0.1</td>\n      <td>-0.3</td>\n      <td>-2.0</td>\n      <td>0.435</td>\n      <td>0.494</td>\n      <td>NaN</td>\n      <td>NaN</td>\n      <td>ceasedy01</td>\n      <td>NaN</td>\n      <td>CHW</td>\n    </tr>\n    <tr>\n      <th>21940</th>\n      <td>2020</td>\n      <td>24</td>\n      <td>CHW</td>\n      <td>AL</td>\n      <td>58.1</td>\n      <td>12.0</td>\n      <td>12.0</td>\n      <td>30.0</td>\n      <td>4.63</td>\n      <td>4.23</td>\n      <td>...</td>\n      <td>-0.1</td>\n      <td>0.1</td>\n      <td>2.0</td>\n      <td>0.469</td>\n      <td>0.498</td>\n      <td>NaN</td>\n      <td>NaN</td>\n      <td>ceasedy01</td>\n      <td>0.0</td>\n      <td>CHW</td>\n    </tr>\n    <tr>\n      <th>21941</th>\n      <td>2021</td>\n      <td>25</td>\n      <td>CHW</td>\n      <td>AL</td>\n      <td>165.2</td>\n      <td>32.0</td>\n      <td>32.0</td>\n      <td>77.0</td>\n      <td>4.18</td>\n      <td>4.50</td>\n      <td>...</td>\n      <td>-0.1</td>\n      <td>2.9</td>\n      <td>31.0</td>\n      <td>0.546</td>\n      <td>0.509</td>\n      <td>NaN</td>\n      <td>NaN</td>\n      <td>ceasedy01</td>\n      <td>0.0</td>\n      <td>CHW</td>\n    </tr>\n    <tr>\n      <th>21942</th>\n      <td>2022</td>\n      <td>26</td>\n      <td>CHW</td>\n      <td>AL</td>\n      <td>16.0</td>\n      <td>3.0</td>\n      <td>3.0</td>\n      <td>6.0</td>\n      <td>3.38</td>\n      <td>5.11</td>\n      <td>...</td>\n      <td>-0.1</td>\n      <td>0.5</td>\n      <td>6.0</td>\n      <td>0.640</td>\n      <td>0.503</td>\n      <td>NaN</td>\n      <td>NaN</td>\n      <td>ceasedy01</td>\n      <td>0.0</td>\n      <td>CHW</td>\n    </tr>\n  </tbody>\n</table>\n<p>21943 rows × 27 columns</p>\n</div>"
     },
     "execution_count": 81,
     "metadata": {},
     "output_type": "execute_result"
    }
   ],
   "source": [
    "pitching_advanced_df['teamID'] = pitching_advanced_df['Tm']\n",
    "pitching_advanced_df"
   ],
   "metadata": {
    "collapsed": false,
    "pycharm": {
     "name": "#%%\n"
    }
   }
  },
  {
   "cell_type": "code",
   "execution_count": 86,
   "outputs": [
    {
     "data": {
      "text/plain": "       playerID  yearID  stint teamID lgID   W   L   G  GS  CG  ...  WAA  \\\n0     lewiste01    1899      1    BSN   NL  17  11  29  25  23  ...  1.6   \n1     lewiste01    1900      1    BSN   NL  13  12  30  22  19  ...  0.8   \n2     lewiste01    1901      1    BOS   AL  16  17  39  34  31  ...  0.1   \n3     nichoki01    1899      1    BSN   NL  21  19  42  37  37  ...  4.3   \n4     nichoki01    1900      1    BSN   NL  13  16  29  27  25  ...  2.8   \n...         ...     ...    ...    ...  ...  ..  ..  ..  ..  ..  ...  ...   \n4772  montafr01    2021      1    OAK   AL  13   9  32  32   0  ...  2.0   \n4773  mahlety01    2021      1    CIN   NL  13   6  33  33   0  ...  3.6   \n4774  lylesjo01    2021      1    TEX   AL  10  13  32  30   0  ... -1.6   \n4775  burneco01    2021      1    MIL   NL  11   5  28  28   0  ...  4.1   \n4776  flexech01    2021      1    SEA   AL  14   6  31  31   0  ...  1.9   \n\n      gmLI  WAAadj  WAR   RAR  waaWL%  162WL%      Salary           Awards  \\\n0     1.00    -0.2  3.6  37.0   0.555   0.510         NaN              NaN   \n1     1.00    -0.1  2.7  28.0   0.527   0.505         NaN              NaN   \n2     1.00    -0.2  3.2  40.0   0.504   0.501         NaN              NaN   \n3     1.00    -0.4  7.3  74.0   0.603   0.527      $3,000              NaN   \n4     1.00    -0.2  4.8  50.0   0.596   0.517         NaN              NaN   \n...    ...     ...  ...   ...     ...     ...         ...              ...   \n4772   NaN    -0.1  3.6  39.0   0.563   0.512  $1,800,000            CYA-6   \n4773   NaN    -0.1  5.1  49.0   0.609   0.522  $2,200,000              NaN   \n4774  0.55    -0.1 -0.1   2.0   0.449   0.490  $8,000,000              NaN   \n4775   NaN    -0.1  5.6  52.0   0.648   0.526         NaN  AS,CYA-1,MVP-15   \n4776   NaN    -0.1  3.5  37.0   0.562   0.512  $1,700,000              NaN   \n\n      RA9extras  \n0           NaN  \n1           NaN  \n2           NaN  \n3           NaN  \n4           NaN  \n...         ...  \n4772        0.0  \n4773        0.0  \n4774        0.0  \n4775        0.0  \n4776        0.0  \n\n[4777 rows x 77 columns]",
      "text/html": "<div>\n<style scoped>\n    .dataframe tbody tr th:only-of-type {\n        vertical-align: middle;\n    }\n\n    .dataframe tbody tr th {\n        vertical-align: top;\n    }\n\n    .dataframe thead th {\n        text-align: right;\n    }\n</style>\n<table border=\"1\" class=\"dataframe\">\n  <thead>\n    <tr style=\"text-align: right;\">\n      <th></th>\n      <th>playerID</th>\n      <th>yearID</th>\n      <th>stint</th>\n      <th>teamID</th>\n      <th>lgID</th>\n      <th>W</th>\n      <th>L</th>\n      <th>G</th>\n      <th>GS</th>\n      <th>CG</th>\n      <th>...</th>\n      <th>WAA</th>\n      <th>gmLI</th>\n      <th>WAAadj</th>\n      <th>WAR</th>\n      <th>RAR</th>\n      <th>waaWL%</th>\n      <th>162WL%</th>\n      <th>Salary</th>\n      <th>Awards</th>\n      <th>RA9extras</th>\n    </tr>\n  </thead>\n  <tbody>\n    <tr>\n      <th>0</th>\n      <td>lewiste01</td>\n      <td>1899</td>\n      <td>1</td>\n      <td>BSN</td>\n      <td>NL</td>\n      <td>17</td>\n      <td>11</td>\n      <td>29</td>\n      <td>25</td>\n      <td>23</td>\n      <td>...</td>\n      <td>1.6</td>\n      <td>1.00</td>\n      <td>-0.2</td>\n      <td>3.6</td>\n      <td>37.0</td>\n      <td>0.555</td>\n      <td>0.510</td>\n      <td>NaN</td>\n      <td>NaN</td>\n      <td>NaN</td>\n    </tr>\n    <tr>\n      <th>1</th>\n      <td>lewiste01</td>\n      <td>1900</td>\n      <td>1</td>\n      <td>BSN</td>\n      <td>NL</td>\n      <td>13</td>\n      <td>12</td>\n      <td>30</td>\n      <td>22</td>\n      <td>19</td>\n      <td>...</td>\n      <td>0.8</td>\n      <td>1.00</td>\n      <td>-0.1</td>\n      <td>2.7</td>\n      <td>28.0</td>\n      <td>0.527</td>\n      <td>0.505</td>\n      <td>NaN</td>\n      <td>NaN</td>\n      <td>NaN</td>\n    </tr>\n    <tr>\n      <th>2</th>\n      <td>lewiste01</td>\n      <td>1901</td>\n      <td>1</td>\n      <td>BOS</td>\n      <td>AL</td>\n      <td>16</td>\n      <td>17</td>\n      <td>39</td>\n      <td>34</td>\n      <td>31</td>\n      <td>...</td>\n      <td>0.1</td>\n      <td>1.00</td>\n      <td>-0.2</td>\n      <td>3.2</td>\n      <td>40.0</td>\n      <td>0.504</td>\n      <td>0.501</td>\n      <td>NaN</td>\n      <td>NaN</td>\n      <td>NaN</td>\n    </tr>\n    <tr>\n      <th>3</th>\n      <td>nichoki01</td>\n      <td>1899</td>\n      <td>1</td>\n      <td>BSN</td>\n      <td>NL</td>\n      <td>21</td>\n      <td>19</td>\n      <td>42</td>\n      <td>37</td>\n      <td>37</td>\n      <td>...</td>\n      <td>4.3</td>\n      <td>1.00</td>\n      <td>-0.4</td>\n      <td>7.3</td>\n      <td>74.0</td>\n      <td>0.603</td>\n      <td>0.527</td>\n      <td>$3,000</td>\n      <td>NaN</td>\n      <td>NaN</td>\n    </tr>\n    <tr>\n      <th>4</th>\n      <td>nichoki01</td>\n      <td>1900</td>\n      <td>1</td>\n      <td>BSN</td>\n      <td>NL</td>\n      <td>13</td>\n      <td>16</td>\n      <td>29</td>\n      <td>27</td>\n      <td>25</td>\n      <td>...</td>\n      <td>2.8</td>\n      <td>1.00</td>\n      <td>-0.2</td>\n      <td>4.8</td>\n      <td>50.0</td>\n      <td>0.596</td>\n      <td>0.517</td>\n      <td>NaN</td>\n      <td>NaN</td>\n      <td>NaN</td>\n    </tr>\n    <tr>\n      <th>...</th>\n      <td>...</td>\n      <td>...</td>\n      <td>...</td>\n      <td>...</td>\n      <td>...</td>\n      <td>...</td>\n      <td>...</td>\n      <td>...</td>\n      <td>...</td>\n      <td>...</td>\n      <td>...</td>\n      <td>...</td>\n      <td>...</td>\n      <td>...</td>\n      <td>...</td>\n      <td>...</td>\n      <td>...</td>\n      <td>...</td>\n      <td>...</td>\n      <td>...</td>\n      <td>...</td>\n    </tr>\n    <tr>\n      <th>4772</th>\n      <td>montafr01</td>\n      <td>2021</td>\n      <td>1</td>\n      <td>OAK</td>\n      <td>AL</td>\n      <td>13</td>\n      <td>9</td>\n      <td>32</td>\n      <td>32</td>\n      <td>0</td>\n      <td>...</td>\n      <td>2.0</td>\n      <td>NaN</td>\n      <td>-0.1</td>\n      <td>3.6</td>\n      <td>39.0</td>\n      <td>0.563</td>\n      <td>0.512</td>\n      <td>$1,800,000</td>\n      <td>CYA-6</td>\n      <td>0.0</td>\n    </tr>\n    <tr>\n      <th>4773</th>\n      <td>mahlety01</td>\n      <td>2021</td>\n      <td>1</td>\n      <td>CIN</td>\n      <td>NL</td>\n      <td>13</td>\n      <td>6</td>\n      <td>33</td>\n      <td>33</td>\n      <td>0</td>\n      <td>...</td>\n      <td>3.6</td>\n      <td>NaN</td>\n      <td>-0.1</td>\n      <td>5.1</td>\n      <td>49.0</td>\n      <td>0.609</td>\n      <td>0.522</td>\n      <td>$2,200,000</td>\n      <td>NaN</td>\n      <td>0.0</td>\n    </tr>\n    <tr>\n      <th>4774</th>\n      <td>lylesjo01</td>\n      <td>2021</td>\n      <td>1</td>\n      <td>TEX</td>\n      <td>AL</td>\n      <td>10</td>\n      <td>13</td>\n      <td>32</td>\n      <td>30</td>\n      <td>0</td>\n      <td>...</td>\n      <td>-1.6</td>\n      <td>0.55</td>\n      <td>-0.1</td>\n      <td>-0.1</td>\n      <td>2.0</td>\n      <td>0.449</td>\n      <td>0.490</td>\n      <td>$8,000,000</td>\n      <td>NaN</td>\n      <td>0.0</td>\n    </tr>\n    <tr>\n      <th>4775</th>\n      <td>burneco01</td>\n      <td>2021</td>\n      <td>1</td>\n      <td>MIL</td>\n      <td>NL</td>\n      <td>11</td>\n      <td>5</td>\n      <td>28</td>\n      <td>28</td>\n      <td>0</td>\n      <td>...</td>\n      <td>4.1</td>\n      <td>NaN</td>\n      <td>-0.1</td>\n      <td>5.6</td>\n      <td>52.0</td>\n      <td>0.648</td>\n      <td>0.526</td>\n      <td>NaN</td>\n      <td>AS,CYA-1,MVP-15</td>\n      <td>0.0</td>\n    </tr>\n    <tr>\n      <th>4776</th>\n      <td>flexech01</td>\n      <td>2021</td>\n      <td>1</td>\n      <td>SEA</td>\n      <td>AL</td>\n      <td>14</td>\n      <td>6</td>\n      <td>31</td>\n      <td>31</td>\n      <td>0</td>\n      <td>...</td>\n      <td>1.9</td>\n      <td>NaN</td>\n      <td>-0.1</td>\n      <td>3.5</td>\n      <td>37.0</td>\n      <td>0.562</td>\n      <td>0.512</td>\n      <td>$1,700,000</td>\n      <td>NaN</td>\n      <td>0.0</td>\n    </tr>\n  </tbody>\n</table>\n<p>4777 rows × 77 columns</p>\n</div>"
     },
     "execution_count": 86,
     "metadata": {},
     "output_type": "execute_result"
    }
   ],
   "source": [
    "pitching_full_abvanced = pd.merge(pitching_full,pitching_advanced_df, on=['yearID','bbrefID','teamID','G','GS'])\n",
    "pitching_full_abvanced"
   ],
   "metadata": {
    "collapsed": false,
    "pycharm": {
     "name": "#%%\n"
    }
   }
  },
  {
   "cell_type": "code",
   "execution_count": 87,
   "outputs": [],
   "source": [
    "pitching_full_abvanced_final = pitching_full_abvanced[['playerID', 'bbrefID', 'yearID', 'fullName', 'teamID', 'birthState', 'birthCountry', 'W', 'GS', 'G', 'SV', 'ER', 'SO', 'BB', 'ERA', 'BAOpp', 'WP', 'HR', 'gmLI', 'WAR']]"
   ],
   "metadata": {
    "collapsed": false,
    "pycharm": {
     "name": "#%%\n"
    }
   }
  },
  {
   "cell_type": "code",
   "execution_count": 88,
   "outputs": [
    {
     "data": {
      "text/plain": "       playerID    bbrefID  yearID        fullName teamID     birthState  \\\n0     lewiste01  lewiste01    1899       Ted Lewis    BSN          Powys   \n1     lewiste01  lewiste01    1900       Ted Lewis    BSN          Powys   \n2     lewiste01  lewiste01    1901       Ted Lewis    BOS          Powys   \n3     nichoki01  nichoki01    1899     Kid Nichols    BSN             WI   \n4     nichoki01  nichoki01    1900     Kid Nichols    BSN             WI   \n...         ...        ...     ...             ...    ...            ...   \n4772  montafr01  montafr02    2021  Frankie Montas    OAK  San Cristobal   \n4773  mahlety01  mahlety01    2021     Tyler Mahle    CIN             CA   \n4774  lylesjo01  lylesjo01    2021    Jordan Lyles    TEX             SC   \n4775  burneco01  burneco01    2021   Corbin Burnes    MIL             CA   \n4776  flexech01  flexech01    2021    Chris Flexen    SEA             CA   \n\n        birthCountry   W  GS   G  SV   ER   SO  BB   ERA  BAOpp  WP  HR  gmLI  \\\n0     United Kingdom  17  25  29   0   91   60  73  3.49    NaN   3  10  1.00   \n1     United Kingdom  13  22  30   0   96   66  86  4.13    NaN   8  11  1.00   \n2     United Kingdom  16  34  39   1  124  103  91  3.53    NaN   2  14  1.00   \n3                USA  21  37  42   1  114  108  82  2.99    NaN   8  11  1.00   \n4                USA  13  27  29   0   79   53  72  3.07    NaN   6  11  1.00   \n...              ...  ..  ..  ..  ..  ...  ...  ..   ...    ...  ..  ..   ...   \n4772            D.R.  13  32  32   0   70  207  57  3.37  0.232  11  20   NaN   \n4773             USA  13  33  33   0   75  210  64  3.75  0.234   4  24   NaN   \n4774             USA  10  30  32   0  103  146  56  5.15  0.278   9  38  0.55   \n4775             USA  11  28  28   0   45  234  34  2.43  0.201   5   7   NaN   \n4776             USA  14  31  31   0   72  125  40  3.61  0.268   2  19   NaN   \n\n      WAR  \n0     3.6  \n1     2.7  \n2     3.2  \n3     7.3  \n4     4.8  \n...   ...  \n4772  3.6  \n4773  5.1  \n4774 -0.1  \n4775  5.6  \n4776  3.5  \n\n[4777 rows x 20 columns]",
      "text/html": "<div>\n<style scoped>\n    .dataframe tbody tr th:only-of-type {\n        vertical-align: middle;\n    }\n\n    .dataframe tbody tr th {\n        vertical-align: top;\n    }\n\n    .dataframe thead th {\n        text-align: right;\n    }\n</style>\n<table border=\"1\" class=\"dataframe\">\n  <thead>\n    <tr style=\"text-align: right;\">\n      <th></th>\n      <th>playerID</th>\n      <th>bbrefID</th>\n      <th>yearID</th>\n      <th>fullName</th>\n      <th>teamID</th>\n      <th>birthState</th>\n      <th>birthCountry</th>\n      <th>W</th>\n      <th>GS</th>\n      <th>G</th>\n      <th>SV</th>\n      <th>ER</th>\n      <th>SO</th>\n      <th>BB</th>\n      <th>ERA</th>\n      <th>BAOpp</th>\n      <th>WP</th>\n      <th>HR</th>\n      <th>gmLI</th>\n      <th>WAR</th>\n    </tr>\n  </thead>\n  <tbody>\n    <tr>\n      <th>0</th>\n      <td>lewiste01</td>\n      <td>lewiste01</td>\n      <td>1899</td>\n      <td>Ted Lewis</td>\n      <td>BSN</td>\n      <td>Powys</td>\n      <td>United Kingdom</td>\n      <td>17</td>\n      <td>25</td>\n      <td>29</td>\n      <td>0</td>\n      <td>91</td>\n      <td>60</td>\n      <td>73</td>\n      <td>3.49</td>\n      <td>NaN</td>\n      <td>3</td>\n      <td>10</td>\n      <td>1.00</td>\n      <td>3.6</td>\n    </tr>\n    <tr>\n      <th>1</th>\n      <td>lewiste01</td>\n      <td>lewiste01</td>\n      <td>1900</td>\n      <td>Ted Lewis</td>\n      <td>BSN</td>\n      <td>Powys</td>\n      <td>United Kingdom</td>\n      <td>13</td>\n      <td>22</td>\n      <td>30</td>\n      <td>0</td>\n      <td>96</td>\n      <td>66</td>\n      <td>86</td>\n      <td>4.13</td>\n      <td>NaN</td>\n      <td>8</td>\n      <td>11</td>\n      <td>1.00</td>\n      <td>2.7</td>\n    </tr>\n    <tr>\n      <th>2</th>\n      <td>lewiste01</td>\n      <td>lewiste01</td>\n      <td>1901</td>\n      <td>Ted Lewis</td>\n      <td>BOS</td>\n      <td>Powys</td>\n      <td>United Kingdom</td>\n      <td>16</td>\n      <td>34</td>\n      <td>39</td>\n      <td>1</td>\n      <td>124</td>\n      <td>103</td>\n      <td>91</td>\n      <td>3.53</td>\n      <td>NaN</td>\n      <td>2</td>\n      <td>14</td>\n      <td>1.00</td>\n      <td>3.2</td>\n    </tr>\n    <tr>\n      <th>3</th>\n      <td>nichoki01</td>\n      <td>nichoki01</td>\n      <td>1899</td>\n      <td>Kid Nichols</td>\n      <td>BSN</td>\n      <td>WI</td>\n      <td>USA</td>\n      <td>21</td>\n      <td>37</td>\n      <td>42</td>\n      <td>1</td>\n      <td>114</td>\n      <td>108</td>\n      <td>82</td>\n      <td>2.99</td>\n      <td>NaN</td>\n      <td>8</td>\n      <td>11</td>\n      <td>1.00</td>\n      <td>7.3</td>\n    </tr>\n    <tr>\n      <th>4</th>\n      <td>nichoki01</td>\n      <td>nichoki01</td>\n      <td>1900</td>\n      <td>Kid Nichols</td>\n      <td>BSN</td>\n      <td>WI</td>\n      <td>USA</td>\n      <td>13</td>\n      <td>27</td>\n      <td>29</td>\n      <td>0</td>\n      <td>79</td>\n      <td>53</td>\n      <td>72</td>\n      <td>3.07</td>\n      <td>NaN</td>\n      <td>6</td>\n      <td>11</td>\n      <td>1.00</td>\n      <td>4.8</td>\n    </tr>\n    <tr>\n      <th>...</th>\n      <td>...</td>\n      <td>...</td>\n      <td>...</td>\n      <td>...</td>\n      <td>...</td>\n      <td>...</td>\n      <td>...</td>\n      <td>...</td>\n      <td>...</td>\n      <td>...</td>\n      <td>...</td>\n      <td>...</td>\n      <td>...</td>\n      <td>...</td>\n      <td>...</td>\n      <td>...</td>\n      <td>...</td>\n      <td>...</td>\n      <td>...</td>\n      <td>...</td>\n    </tr>\n    <tr>\n      <th>4772</th>\n      <td>montafr01</td>\n      <td>montafr02</td>\n      <td>2021</td>\n      <td>Frankie Montas</td>\n      <td>OAK</td>\n      <td>San Cristobal</td>\n      <td>D.R.</td>\n      <td>13</td>\n      <td>32</td>\n      <td>32</td>\n      <td>0</td>\n      <td>70</td>\n      <td>207</td>\n      <td>57</td>\n      <td>3.37</td>\n      <td>0.232</td>\n      <td>11</td>\n      <td>20</td>\n      <td>NaN</td>\n      <td>3.6</td>\n    </tr>\n    <tr>\n      <th>4773</th>\n      <td>mahlety01</td>\n      <td>mahlety01</td>\n      <td>2021</td>\n      <td>Tyler Mahle</td>\n      <td>CIN</td>\n      <td>CA</td>\n      <td>USA</td>\n      <td>13</td>\n      <td>33</td>\n      <td>33</td>\n      <td>0</td>\n      <td>75</td>\n      <td>210</td>\n      <td>64</td>\n      <td>3.75</td>\n      <td>0.234</td>\n      <td>4</td>\n      <td>24</td>\n      <td>NaN</td>\n      <td>5.1</td>\n    </tr>\n    <tr>\n      <th>4774</th>\n      <td>lylesjo01</td>\n      <td>lylesjo01</td>\n      <td>2021</td>\n      <td>Jordan Lyles</td>\n      <td>TEX</td>\n      <td>SC</td>\n      <td>USA</td>\n      <td>10</td>\n      <td>30</td>\n      <td>32</td>\n      <td>0</td>\n      <td>103</td>\n      <td>146</td>\n      <td>56</td>\n      <td>5.15</td>\n      <td>0.278</td>\n      <td>9</td>\n      <td>38</td>\n      <td>0.55</td>\n      <td>-0.1</td>\n    </tr>\n    <tr>\n      <th>4775</th>\n      <td>burneco01</td>\n      <td>burneco01</td>\n      <td>2021</td>\n      <td>Corbin Burnes</td>\n      <td>MIL</td>\n      <td>CA</td>\n      <td>USA</td>\n      <td>11</td>\n      <td>28</td>\n      <td>28</td>\n      <td>0</td>\n      <td>45</td>\n      <td>234</td>\n      <td>34</td>\n      <td>2.43</td>\n      <td>0.201</td>\n      <td>5</td>\n      <td>7</td>\n      <td>NaN</td>\n      <td>5.6</td>\n    </tr>\n    <tr>\n      <th>4776</th>\n      <td>flexech01</td>\n      <td>flexech01</td>\n      <td>2021</td>\n      <td>Chris Flexen</td>\n      <td>SEA</td>\n      <td>CA</td>\n      <td>USA</td>\n      <td>14</td>\n      <td>31</td>\n      <td>31</td>\n      <td>0</td>\n      <td>72</td>\n      <td>125</td>\n      <td>40</td>\n      <td>3.61</td>\n      <td>0.268</td>\n      <td>2</td>\n      <td>19</td>\n      <td>NaN</td>\n      <td>3.5</td>\n    </tr>\n  </tbody>\n</table>\n<p>4777 rows × 20 columns</p>\n</div>"
     },
     "execution_count": 88,
     "metadata": {},
     "output_type": "execute_result"
    }
   ],
   "source": [
    "pitching_full_abvanced_final"
   ],
   "metadata": {
    "collapsed": false,
    "pycharm": {
     "name": "#%%\n"
    }
   }
  },
  {
   "cell_type": "code",
   "execution_count": 174,
   "outputs": [
    {
     "data": {
      "application/vnd.plotly.v1+json": {
       "data": [
        {
         "coloraxis": "coloraxis",
         "name": "0",
         "texttemplate": "%{z}",
         "x": [
          "yearID",
          "W",
          "GS",
          "G",
          "SV",
          "ER",
          "SO",
          "BB",
          "ERA",
          "BAOpp",
          "WP",
          "HR",
          "gmLI",
          "WAR"
         ],
         "y": [
          "yearID",
          "W",
          "GS",
          "G",
          "SV",
          "ER",
          "SO",
          "BB",
          "ERA",
          "BAOpp",
          "WP",
          "HR",
          "gmLI",
          "WAR"
         ],
         "z": [
          [
           1.0,
           -0.1304141114503372,
           0.22504342716879835,
           -0.27566325113814133,
           -0.3113266490687113,
           0.05395761448317083,
           0.4518044257359759,
           -0.17519619418984725,
           0.32557947055401576,
           -0.11520239492932828,
           0.16926436242319465,
           0.6840629937618156,
           0.0021950681597371307,
           -0.022397732598399722
          ],
          [
           -0.1304141114503372,
           1.0,
           0.5849747279797542,
           0.3960991215729484,
           0.04966731048979929,
           0.1018331603865105,
           0.4204182089784318,
           0.21393512286911703,
           -0.48488110431010034,
           0.024800917947982812,
           0.08093015675992067,
           -0.003766377225828013,
           0.19796249394661,
           0.6339300348291924
          ],
          [
           0.22504342716879835,
           0.5849747279797542,
           1.0,
           0.3541745755848303,
           -0.2622864242547919,
           0.5182385677834193,
           0.5600681545562107,
           0.3433330543239212,
           -0.08653732313177875,
           -0.007367507842907204,
           0.24228738615946496,
           0.38825235461193813,
           0.17511619082416707,
           0.3699634228835805
          ],
          [
           -0.27566325113814133,
           0.3960991215729484,
           0.3541745755848303,
           1.0,
           0.5147675796156885,
           0.38959788783871385,
           0.15457928924703632,
           0.3785313387819141,
           -0.11168422926236966,
           0.04064358168709732,
           0.05280704558394299,
           0.0013000792816471915,
           0.15612679600815907,
           0.22151971552961466
          ],
          [
           -0.3113266490687113,
           0.04966731048979929,
           -0.2622864242547919,
           0.5147675796156885,
           1.0,
           -0.05309350439690053,
           -0.15233667787376676,
           0.059510303547178324,
           -0.118033529200102,
           0.04518463569060225,
           -0.12297540284177581,
           -0.2241515013278006,
           0.20650160014416916,
           0.07062373951835471
          ],
          [
           0.05395761448317083,
           0.1018331603865105,
           0.5182385677834193,
           0.38959788783871385,
           -0.05309350439690053,
           1.0,
           0.06279959253980767,
           0.3807082037818966,
           0.6493918247440656,
           -0.004141291700501154,
           0.14164958245862883,
           0.45553329885529265,
           0.11874573661961087,
           -0.20496130611451277
          ],
          [
           0.4518044257359759,
           0.4204182089784318,
           0.5600681545562107,
           0.15457928924703632,
           -0.15233667787376676,
           0.06279959253980767,
           1.0,
           0.24149387781864493,
           -0.2308286562425737,
           -0.023918449836135208,
           0.3652629842552089,
           0.3718904468389982,
           0.12671860597670914,
           0.49075629697197715
          ],
          [
           -0.17519619418984725,
           0.21393512286911703,
           0.3433330543239212,
           0.3785313387819141,
           0.059510303547178324,
           0.3807082037818966,
           0.24149387781864493,
           1.0,
           0.03192261172436155,
           0.03899710526747504,
           0.37042760619537685,
           -0.02842179447784492,
           0.08143794508609385,
           0.06200324870612589
          ],
          [
           0.32557947055401576,
           -0.48488110431010034,
           -0.08653732313177875,
           -0.11168422926236966,
           -0.118033529200102,
           0.6493918247440656,
           -0.2308286562425737,
           0.03192261172436155,
           1.0,
           -0.03867398504975774,
           0.0315833804412773,
           0.4696871961623558,
           -0.06383697724606616,
           -0.6464179849047085
          ],
          [
           -0.11520239492932828,
           0.024800917947982812,
           -0.007367507842907204,
           0.04064358168709732,
           0.04518463569060225,
           -0.004141291700501154,
           -0.023918449836135208,
           0.03899710526747504,
           -0.03867398504975774,
           1.0,
           -7.433949422224808E-4,
           -0.08879897866516683,
           -0.043742516637344284,
           -0.030826530137991002
          ],
          [
           0.16926436242319465,
           0.08093015675992067,
           0.24228738615946496,
           0.05280704558394299,
           -0.12297540284177581,
           0.14164958245862883,
           0.3652629842552089,
           0.37042760619537685,
           0.0315833804412773,
           -7.433949422224808E-4,
           1.0,
           0.09554360736734359,
           -0.05984702448534527,
           0.01798874828063012
          ],
          [
           0.6840629937618156,
           -0.003766377225828013,
           0.38825235461193813,
           0.0013000792816471915,
           -0.2241515013278006,
           0.45553329885529265,
           0.3718904468389982,
           -0.02842179447784492,
           0.4696871961623558,
           -0.08879897866516683,
           0.09554360736734359,
           1.0,
           0.09941179600651175,
           -0.07011309496031758
          ],
          [
           0.0021950681597371307,
           0.19796249394661,
           0.17511619082416707,
           0.15612679600815907,
           0.20650160014416916,
           0.11874573661961087,
           0.12671860597670914,
           0.08143794508609385,
           -0.06383697724606616,
           -0.043742516637344284,
           -0.05984702448534527,
           0.09941179600651175,
           1.0,
           0.20092670230439708
          ],
          [
           -0.022397732598399722,
           0.6339300348291924,
           0.3699634228835805,
           0.22151971552961466,
           0.07062373951835471,
           -0.20496130611451277,
           0.49075629697197715,
           0.06200324870612589,
           -0.6464179849047085,
           -0.030826530137991002,
           0.01798874828063012,
           -0.07011309496031758,
           0.20092670230439708,
           1.0
          ]
         ],
         "type": "heatmap",
         "xaxis": "x",
         "yaxis": "y",
         "hovertemplate": "x: %{x}<br>y: %{y}<br>color: %{z}<extra></extra>"
        }
       ],
       "layout": {
        "template": {
         "data": {
          "histogram2dcontour": [
           {
            "type": "histogram2dcontour",
            "colorbar": {
             "outlinewidth": 0,
             "ticks": ""
            },
            "colorscale": [
             [
              0.0,
              "#0d0887"
             ],
             [
              0.1111111111111111,
              "#46039f"
             ],
             [
              0.2222222222222222,
              "#7201a8"
             ],
             [
              0.3333333333333333,
              "#9c179e"
             ],
             [
              0.4444444444444444,
              "#bd3786"
             ],
             [
              0.5555555555555556,
              "#d8576b"
             ],
             [
              0.6666666666666666,
              "#ed7953"
             ],
             [
              0.7777777777777778,
              "#fb9f3a"
             ],
             [
              0.8888888888888888,
              "#fdca26"
             ],
             [
              1.0,
              "#f0f921"
             ]
            ]
           }
          ],
          "choropleth": [
           {
            "type": "choropleth",
            "colorbar": {
             "outlinewidth": 0,
             "ticks": ""
            }
           }
          ],
          "histogram2d": [
           {
            "type": "histogram2d",
            "colorbar": {
             "outlinewidth": 0,
             "ticks": ""
            },
            "colorscale": [
             [
              0.0,
              "#0d0887"
             ],
             [
              0.1111111111111111,
              "#46039f"
             ],
             [
              0.2222222222222222,
              "#7201a8"
             ],
             [
              0.3333333333333333,
              "#9c179e"
             ],
             [
              0.4444444444444444,
              "#bd3786"
             ],
             [
              0.5555555555555556,
              "#d8576b"
             ],
             [
              0.6666666666666666,
              "#ed7953"
             ],
             [
              0.7777777777777778,
              "#fb9f3a"
             ],
             [
              0.8888888888888888,
              "#fdca26"
             ],
             [
              1.0,
              "#f0f921"
             ]
            ]
           }
          ],
          "heatmap": [
           {
            "type": "heatmap",
            "colorbar": {
             "outlinewidth": 0,
             "ticks": ""
            },
            "colorscale": [
             [
              0.0,
              "#0d0887"
             ],
             [
              0.1111111111111111,
              "#46039f"
             ],
             [
              0.2222222222222222,
              "#7201a8"
             ],
             [
              0.3333333333333333,
              "#9c179e"
             ],
             [
              0.4444444444444444,
              "#bd3786"
             ],
             [
              0.5555555555555556,
              "#d8576b"
             ],
             [
              0.6666666666666666,
              "#ed7953"
             ],
             [
              0.7777777777777778,
              "#fb9f3a"
             ],
             [
              0.8888888888888888,
              "#fdca26"
             ],
             [
              1.0,
              "#f0f921"
             ]
            ]
           }
          ],
          "heatmapgl": [
           {
            "type": "heatmapgl",
            "colorbar": {
             "outlinewidth": 0,
             "ticks": ""
            },
            "colorscale": [
             [
              0.0,
              "#0d0887"
             ],
             [
              0.1111111111111111,
              "#46039f"
             ],
             [
              0.2222222222222222,
              "#7201a8"
             ],
             [
              0.3333333333333333,
              "#9c179e"
             ],
             [
              0.4444444444444444,
              "#bd3786"
             ],
             [
              0.5555555555555556,
              "#d8576b"
             ],
             [
              0.6666666666666666,
              "#ed7953"
             ],
             [
              0.7777777777777778,
              "#fb9f3a"
             ],
             [
              0.8888888888888888,
              "#fdca26"
             ],
             [
              1.0,
              "#f0f921"
             ]
            ]
           }
          ],
          "contourcarpet": [
           {
            "type": "contourcarpet",
            "colorbar": {
             "outlinewidth": 0,
             "ticks": ""
            }
           }
          ],
          "contour": [
           {
            "type": "contour",
            "colorbar": {
             "outlinewidth": 0,
             "ticks": ""
            },
            "colorscale": [
             [
              0.0,
              "#0d0887"
             ],
             [
              0.1111111111111111,
              "#46039f"
             ],
             [
              0.2222222222222222,
              "#7201a8"
             ],
             [
              0.3333333333333333,
              "#9c179e"
             ],
             [
              0.4444444444444444,
              "#bd3786"
             ],
             [
              0.5555555555555556,
              "#d8576b"
             ],
             [
              0.6666666666666666,
              "#ed7953"
             ],
             [
              0.7777777777777778,
              "#fb9f3a"
             ],
             [
              0.8888888888888888,
              "#fdca26"
             ],
             [
              1.0,
              "#f0f921"
             ]
            ]
           }
          ],
          "surface": [
           {
            "type": "surface",
            "colorbar": {
             "outlinewidth": 0,
             "ticks": ""
            },
            "colorscale": [
             [
              0.0,
              "#0d0887"
             ],
             [
              0.1111111111111111,
              "#46039f"
             ],
             [
              0.2222222222222222,
              "#7201a8"
             ],
             [
              0.3333333333333333,
              "#9c179e"
             ],
             [
              0.4444444444444444,
              "#bd3786"
             ],
             [
              0.5555555555555556,
              "#d8576b"
             ],
             [
              0.6666666666666666,
              "#ed7953"
             ],
             [
              0.7777777777777778,
              "#fb9f3a"
             ],
             [
              0.8888888888888888,
              "#fdca26"
             ],
             [
              1.0,
              "#f0f921"
             ]
            ]
           }
          ],
          "mesh3d": [
           {
            "type": "mesh3d",
            "colorbar": {
             "outlinewidth": 0,
             "ticks": ""
            }
           }
          ],
          "scatter": [
           {
            "marker": {
             "line": {
              "color": "#283442"
             }
            },
            "type": "scatter"
           }
          ],
          "parcoords": [
           {
            "type": "parcoords",
            "line": {
             "colorbar": {
              "outlinewidth": 0,
              "ticks": ""
             }
            }
           }
          ],
          "scatterpolargl": [
           {
            "type": "scatterpolargl",
            "marker": {
             "colorbar": {
              "outlinewidth": 0,
              "ticks": ""
             }
            }
           }
          ],
          "bar": [
           {
            "error_x": {
             "color": "#f2f5fa"
            },
            "error_y": {
             "color": "#f2f5fa"
            },
            "marker": {
             "line": {
              "color": "rgb(17,17,17)",
              "width": 0.5
             },
             "pattern": {
              "fillmode": "overlay",
              "size": 10,
              "solidity": 0.2
             }
            },
            "type": "bar"
           }
          ],
          "scattergeo": [
           {
            "type": "scattergeo",
            "marker": {
             "colorbar": {
              "outlinewidth": 0,
              "ticks": ""
             }
            }
           }
          ],
          "scatterpolar": [
           {
            "type": "scatterpolar",
            "marker": {
             "colorbar": {
              "outlinewidth": 0,
              "ticks": ""
             }
            }
           }
          ],
          "histogram": [
           {
            "marker": {
             "pattern": {
              "fillmode": "overlay",
              "size": 10,
              "solidity": 0.2
             }
            },
            "type": "histogram"
           }
          ],
          "scattergl": [
           {
            "marker": {
             "line": {
              "color": "#283442"
             }
            },
            "type": "scattergl"
           }
          ],
          "scatter3d": [
           {
            "type": "scatter3d",
            "line": {
             "colorbar": {
              "outlinewidth": 0,
              "ticks": ""
             }
            },
            "marker": {
             "colorbar": {
              "outlinewidth": 0,
              "ticks": ""
             }
            }
           }
          ],
          "scattermapbox": [
           {
            "type": "scattermapbox",
            "marker": {
             "colorbar": {
              "outlinewidth": 0,
              "ticks": ""
             }
            }
           }
          ],
          "scatterternary": [
           {
            "type": "scatterternary",
            "marker": {
             "colorbar": {
              "outlinewidth": 0,
              "ticks": ""
             }
            }
           }
          ],
          "scattercarpet": [
           {
            "type": "scattercarpet",
            "marker": {
             "colorbar": {
              "outlinewidth": 0,
              "ticks": ""
             }
            }
           }
          ],
          "carpet": [
           {
            "aaxis": {
             "endlinecolor": "#A2B1C6",
             "gridcolor": "#506784",
             "linecolor": "#506784",
             "minorgridcolor": "#506784",
             "startlinecolor": "#A2B1C6"
            },
            "baxis": {
             "endlinecolor": "#A2B1C6",
             "gridcolor": "#506784",
             "linecolor": "#506784",
             "minorgridcolor": "#506784",
             "startlinecolor": "#A2B1C6"
            },
            "type": "carpet"
           }
          ],
          "table": [
           {
            "cells": {
             "fill": {
              "color": "#506784"
             },
             "line": {
              "color": "rgb(17,17,17)"
             }
            },
            "header": {
             "fill": {
              "color": "#2a3f5f"
             },
             "line": {
              "color": "rgb(17,17,17)"
             }
            },
            "type": "table"
           }
          ],
          "barpolar": [
           {
            "marker": {
             "line": {
              "color": "rgb(17,17,17)",
              "width": 0.5
             },
             "pattern": {
              "fillmode": "overlay",
              "size": 10,
              "solidity": 0.2
             }
            },
            "type": "barpolar"
           }
          ],
          "pie": [
           {
            "automargin": true,
            "type": "pie"
           }
          ]
         },
         "layout": {
          "autotypenumbers": "strict",
          "colorway": [
           "#636efa",
           "#EF553B",
           "#00cc96",
           "#ab63fa",
           "#FFA15A",
           "#19d3f3",
           "#FF6692",
           "#B6E880",
           "#FF97FF",
           "#FECB52"
          ],
          "font": {
           "color": "#f2f5fa"
          },
          "hovermode": "closest",
          "hoverlabel": {
           "align": "left"
          },
          "paper_bgcolor": "rgb(17,17,17)",
          "plot_bgcolor": "rgb(17,17,17)",
          "polar": {
           "bgcolor": "rgb(17,17,17)",
           "angularaxis": {
            "gridcolor": "#506784",
            "linecolor": "#506784",
            "ticks": ""
           },
           "radialaxis": {
            "gridcolor": "#506784",
            "linecolor": "#506784",
            "ticks": ""
           }
          },
          "ternary": {
           "bgcolor": "rgb(17,17,17)",
           "aaxis": {
            "gridcolor": "#506784",
            "linecolor": "#506784",
            "ticks": ""
           },
           "baxis": {
            "gridcolor": "#506784",
            "linecolor": "#506784",
            "ticks": ""
           },
           "caxis": {
            "gridcolor": "#506784",
            "linecolor": "#506784",
            "ticks": ""
           }
          },
          "coloraxis": {
           "colorbar": {
            "outlinewidth": 0,
            "ticks": ""
           }
          },
          "colorscale": {
           "sequential": [
            [
             0.0,
             "#0d0887"
            ],
            [
             0.1111111111111111,
             "#46039f"
            ],
            [
             0.2222222222222222,
             "#7201a8"
            ],
            [
             0.3333333333333333,
             "#9c179e"
            ],
            [
             0.4444444444444444,
             "#bd3786"
            ],
            [
             0.5555555555555556,
             "#d8576b"
            ],
            [
             0.6666666666666666,
             "#ed7953"
            ],
            [
             0.7777777777777778,
             "#fb9f3a"
            ],
            [
             0.8888888888888888,
             "#fdca26"
            ],
            [
             1.0,
             "#f0f921"
            ]
           ],
           "sequentialminus": [
            [
             0.0,
             "#0d0887"
            ],
            [
             0.1111111111111111,
             "#46039f"
            ],
            [
             0.2222222222222222,
             "#7201a8"
            ],
            [
             0.3333333333333333,
             "#9c179e"
            ],
            [
             0.4444444444444444,
             "#bd3786"
            ],
            [
             0.5555555555555556,
             "#d8576b"
            ],
            [
             0.6666666666666666,
             "#ed7953"
            ],
            [
             0.7777777777777778,
             "#fb9f3a"
            ],
            [
             0.8888888888888888,
             "#fdca26"
            ],
            [
             1.0,
             "#f0f921"
            ]
           ],
           "diverging": [
            [
             0,
             "#8e0152"
            ],
            [
             0.1,
             "#c51b7d"
            ],
            [
             0.2,
             "#de77ae"
            ],
            [
             0.3,
             "#f1b6da"
            ],
            [
             0.4,
             "#fde0ef"
            ],
            [
             0.5,
             "#f7f7f7"
            ],
            [
             0.6,
             "#e6f5d0"
            ],
            [
             0.7,
             "#b8e186"
            ],
            [
             0.8,
             "#7fbc41"
            ],
            [
             0.9,
             "#4d9221"
            ],
            [
             1,
             "#276419"
            ]
           ]
          },
          "xaxis": {
           "gridcolor": "#283442",
           "linecolor": "#506784",
           "ticks": "",
           "title": {
            "standoff": 15
           },
           "zerolinecolor": "#283442",
           "automargin": true,
           "zerolinewidth": 2
          },
          "yaxis": {
           "gridcolor": "#283442",
           "linecolor": "#506784",
           "ticks": "",
           "title": {
            "standoff": 15
           },
           "zerolinecolor": "#283442",
           "automargin": true,
           "zerolinewidth": 2
          },
          "scene": {
           "xaxis": {
            "backgroundcolor": "rgb(17,17,17)",
            "gridcolor": "#506784",
            "linecolor": "#506784",
            "showbackground": true,
            "ticks": "",
            "zerolinecolor": "#C8D4E3",
            "gridwidth": 2
           },
           "yaxis": {
            "backgroundcolor": "rgb(17,17,17)",
            "gridcolor": "#506784",
            "linecolor": "#506784",
            "showbackground": true,
            "ticks": "",
            "zerolinecolor": "#C8D4E3",
            "gridwidth": 2
           },
           "zaxis": {
            "backgroundcolor": "rgb(17,17,17)",
            "gridcolor": "#506784",
            "linecolor": "#506784",
            "showbackground": true,
            "ticks": "",
            "zerolinecolor": "#C8D4E3",
            "gridwidth": 2
           }
          },
          "shapedefaults": {
           "line": {
            "color": "#f2f5fa"
           }
          },
          "annotationdefaults": {
           "arrowcolor": "#f2f5fa",
           "arrowhead": 0,
           "arrowwidth": 1
          },
          "geo": {
           "bgcolor": "rgb(17,17,17)",
           "landcolor": "rgb(17,17,17)",
           "subunitcolor": "#506784",
           "showland": true,
           "showlakes": true,
           "lakecolor": "rgb(17,17,17)"
          },
          "title": {
           "x": 0.05
          },
          "updatemenudefaults": {
           "bgcolor": "#506784",
           "borderwidth": 0
          },
          "sliderdefaults": {
           "bgcolor": "#C8D4E3",
           "borderwidth": 1,
           "bordercolor": "rgb(17,17,17)",
           "tickwidth": 0
          },
          "mapbox": {
           "style": "dark"
          }
         }
        },
        "xaxis": {
         "anchor": "y",
         "domain": [
          0.0,
          1.0
         ]
        },
        "yaxis": {
         "anchor": "x",
         "domain": [
          0.0,
          1.0
         ],
         "autorange": "reversed"
        },
        "coloraxis": {
         "colorscale": [
          [
           0.0,
           "rgb(61, 89, 65)"
          ],
          [
           0.16666666666666666,
           "rgb(119, 136, 104)"
          ],
          [
           0.3333333333333333,
           "rgb(181, 185, 145)"
          ],
          [
           0.5,
           "rgb(246, 237, 189)"
          ],
          [
           0.6666666666666666,
           "rgb(237, 187, 138)"
          ],
          [
           0.8333333333333334,
           "rgb(222, 138, 90)"
          ],
          [
           1.0,
           "rgb(202, 86, 44)"
          ]
         ],
         "cmin": -1,
         "cmax": 1
        },
        "margin": {
         "t": 60
        }
       },
       "config": {
        "plotlyServerURL": "https://plot.ly"
       }
      },
      "text/html": "<div>                            <div id=\"b669dbd8-dd8b-4f2e-a4ab-eb1983c0201a\" class=\"plotly-graph-div\" style=\"height:525px; width:100%;\"></div>            <script type=\"text/javascript\">                require([\"plotly\"], function(Plotly) {                    window.PLOTLYENV=window.PLOTLYENV || {};                                    if (document.getElementById(\"b669dbd8-dd8b-4f2e-a4ab-eb1983c0201a\")) {                    Plotly.newPlot(                        \"b669dbd8-dd8b-4f2e-a4ab-eb1983c0201a\",                        [{\"coloraxis\":\"coloraxis\",\"name\":\"0\",\"texttemplate\":\"%{z}\",\"x\":[\"yearID\",\"W\",\"GS\",\"G\",\"SV\",\"ER\",\"SO\",\"BB\",\"ERA\",\"BAOpp\",\"WP\",\"HR\",\"gmLI\",\"WAR\"],\"y\":[\"yearID\",\"W\",\"GS\",\"G\",\"SV\",\"ER\",\"SO\",\"BB\",\"ERA\",\"BAOpp\",\"WP\",\"HR\",\"gmLI\",\"WAR\"],\"z\":[[1.0,-0.1304141114503372,0.22504342716879835,-0.27566325113814133,-0.3113266490687113,0.05395761448317083,0.4518044257359759,-0.17519619418984725,0.32557947055401576,-0.11520239492932828,0.16926436242319465,0.6840629937618156,0.0021950681597371307,-0.022397732598399722],[-0.1304141114503372,1.0,0.5849747279797542,0.3960991215729484,0.04966731048979929,0.1018331603865105,0.4204182089784318,0.21393512286911703,-0.48488110431010034,0.024800917947982812,0.08093015675992067,-0.003766377225828013,0.19796249394661,0.6339300348291924],[0.22504342716879835,0.5849747279797542,1.0,0.3541745755848303,-0.2622864242547919,0.5182385677834193,0.5600681545562107,0.3433330543239212,-0.08653732313177875,-0.007367507842907204,0.24228738615946496,0.38825235461193813,0.17511619082416707,0.3699634228835805],[-0.27566325113814133,0.3960991215729484,0.3541745755848303,1.0,0.5147675796156885,0.38959788783871385,0.15457928924703632,0.3785313387819141,-0.11168422926236966,0.04064358168709732,0.05280704558394299,0.0013000792816471915,0.15612679600815907,0.22151971552961466],[-0.3113266490687113,0.04966731048979929,-0.2622864242547919,0.5147675796156885,1.0,-0.05309350439690053,-0.15233667787376676,0.059510303547178324,-0.118033529200102,0.04518463569060225,-0.12297540284177581,-0.2241515013278006,0.20650160014416916,0.07062373951835471],[0.05395761448317083,0.1018331603865105,0.5182385677834193,0.38959788783871385,-0.05309350439690053,1.0,0.06279959253980767,0.3807082037818966,0.6493918247440656,-0.004141291700501154,0.14164958245862883,0.45553329885529265,0.11874573661961087,-0.20496130611451277],[0.4518044257359759,0.4204182089784318,0.5600681545562107,0.15457928924703632,-0.15233667787376676,0.06279959253980767,1.0,0.24149387781864493,-0.2308286562425737,-0.023918449836135208,0.3652629842552089,0.3718904468389982,0.12671860597670914,0.49075629697197715],[-0.17519619418984725,0.21393512286911703,0.3433330543239212,0.3785313387819141,0.059510303547178324,0.3807082037818966,0.24149387781864493,1.0,0.03192261172436155,0.03899710526747504,0.37042760619537685,-0.02842179447784492,0.08143794508609385,0.06200324870612589],[0.32557947055401576,-0.48488110431010034,-0.08653732313177875,-0.11168422926236966,-0.118033529200102,0.6493918247440656,-0.2308286562425737,0.03192261172436155,1.0,-0.03867398504975774,0.0315833804412773,0.4696871961623558,-0.06383697724606616,-0.6464179849047085],[-0.11520239492932828,0.024800917947982812,-0.007367507842907204,0.04064358168709732,0.04518463569060225,-0.004141291700501154,-0.023918449836135208,0.03899710526747504,-0.03867398504975774,1.0,-0.0007433949422224808,-0.08879897866516683,-0.043742516637344284,-0.030826530137991002],[0.16926436242319465,0.08093015675992067,0.24228738615946496,0.05280704558394299,-0.12297540284177581,0.14164958245862883,0.3652629842552089,0.37042760619537685,0.0315833804412773,-0.0007433949422224808,1.0,0.09554360736734359,-0.05984702448534527,0.01798874828063012],[0.6840629937618156,-0.003766377225828013,0.38825235461193813,0.0013000792816471915,-0.2241515013278006,0.45553329885529265,0.3718904468389982,-0.02842179447784492,0.4696871961623558,-0.08879897866516683,0.09554360736734359,1.0,0.09941179600651175,-0.07011309496031758],[0.0021950681597371307,0.19796249394661,0.17511619082416707,0.15612679600815907,0.20650160014416916,0.11874573661961087,0.12671860597670914,0.08143794508609385,-0.06383697724606616,-0.043742516637344284,-0.05984702448534527,0.09941179600651175,1.0,0.20092670230439708],[-0.022397732598399722,0.6339300348291924,0.3699634228835805,0.22151971552961466,0.07062373951835471,-0.20496130611451277,0.49075629697197715,0.06200324870612589,-0.6464179849047085,-0.030826530137991002,0.01798874828063012,-0.07011309496031758,0.20092670230439708,1.0]],\"type\":\"heatmap\",\"xaxis\":\"x\",\"yaxis\":\"y\",\"hovertemplate\":\"x: %{x}<br>y: %{y}<br>color: %{z}<extra></extra>\"}],                        {\"template\":{\"data\":{\"histogram2dcontour\":[{\"type\":\"histogram2dcontour\",\"colorbar\":{\"outlinewidth\":0,\"ticks\":\"\"},\"colorscale\":[[0.0,\"#0d0887\"],[0.1111111111111111,\"#46039f\"],[0.2222222222222222,\"#7201a8\"],[0.3333333333333333,\"#9c179e\"],[0.4444444444444444,\"#bd3786\"],[0.5555555555555556,\"#d8576b\"],[0.6666666666666666,\"#ed7953\"],[0.7777777777777778,\"#fb9f3a\"],[0.8888888888888888,\"#fdca26\"],[1.0,\"#f0f921\"]]}],\"choropleth\":[{\"type\":\"choropleth\",\"colorbar\":{\"outlinewidth\":0,\"ticks\":\"\"}}],\"histogram2d\":[{\"type\":\"histogram2d\",\"colorbar\":{\"outlinewidth\":0,\"ticks\":\"\"},\"colorscale\":[[0.0,\"#0d0887\"],[0.1111111111111111,\"#46039f\"],[0.2222222222222222,\"#7201a8\"],[0.3333333333333333,\"#9c179e\"],[0.4444444444444444,\"#bd3786\"],[0.5555555555555556,\"#d8576b\"],[0.6666666666666666,\"#ed7953\"],[0.7777777777777778,\"#fb9f3a\"],[0.8888888888888888,\"#fdca26\"],[1.0,\"#f0f921\"]]}],\"heatmap\":[{\"type\":\"heatmap\",\"colorbar\":{\"outlinewidth\":0,\"ticks\":\"\"},\"colorscale\":[[0.0,\"#0d0887\"],[0.1111111111111111,\"#46039f\"],[0.2222222222222222,\"#7201a8\"],[0.3333333333333333,\"#9c179e\"],[0.4444444444444444,\"#bd3786\"],[0.5555555555555556,\"#d8576b\"],[0.6666666666666666,\"#ed7953\"],[0.7777777777777778,\"#fb9f3a\"],[0.8888888888888888,\"#fdca26\"],[1.0,\"#f0f921\"]]}],\"heatmapgl\":[{\"type\":\"heatmapgl\",\"colorbar\":{\"outlinewidth\":0,\"ticks\":\"\"},\"colorscale\":[[0.0,\"#0d0887\"],[0.1111111111111111,\"#46039f\"],[0.2222222222222222,\"#7201a8\"],[0.3333333333333333,\"#9c179e\"],[0.4444444444444444,\"#bd3786\"],[0.5555555555555556,\"#d8576b\"],[0.6666666666666666,\"#ed7953\"],[0.7777777777777778,\"#fb9f3a\"],[0.8888888888888888,\"#fdca26\"],[1.0,\"#f0f921\"]]}],\"contourcarpet\":[{\"type\":\"contourcarpet\",\"colorbar\":{\"outlinewidth\":0,\"ticks\":\"\"}}],\"contour\":[{\"type\":\"contour\",\"colorbar\":{\"outlinewidth\":0,\"ticks\":\"\"},\"colorscale\":[[0.0,\"#0d0887\"],[0.1111111111111111,\"#46039f\"],[0.2222222222222222,\"#7201a8\"],[0.3333333333333333,\"#9c179e\"],[0.4444444444444444,\"#bd3786\"],[0.5555555555555556,\"#d8576b\"],[0.6666666666666666,\"#ed7953\"],[0.7777777777777778,\"#fb9f3a\"],[0.8888888888888888,\"#fdca26\"],[1.0,\"#f0f921\"]]}],\"surface\":[{\"type\":\"surface\",\"colorbar\":{\"outlinewidth\":0,\"ticks\":\"\"},\"colorscale\":[[0.0,\"#0d0887\"],[0.1111111111111111,\"#46039f\"],[0.2222222222222222,\"#7201a8\"],[0.3333333333333333,\"#9c179e\"],[0.4444444444444444,\"#bd3786\"],[0.5555555555555556,\"#d8576b\"],[0.6666666666666666,\"#ed7953\"],[0.7777777777777778,\"#fb9f3a\"],[0.8888888888888888,\"#fdca26\"],[1.0,\"#f0f921\"]]}],\"mesh3d\":[{\"type\":\"mesh3d\",\"colorbar\":{\"outlinewidth\":0,\"ticks\":\"\"}}],\"scatter\":[{\"marker\":{\"line\":{\"color\":\"#283442\"}},\"type\":\"scatter\"}],\"parcoords\":[{\"type\":\"parcoords\",\"line\":{\"colorbar\":{\"outlinewidth\":0,\"ticks\":\"\"}}}],\"scatterpolargl\":[{\"type\":\"scatterpolargl\",\"marker\":{\"colorbar\":{\"outlinewidth\":0,\"ticks\":\"\"}}}],\"bar\":[{\"error_x\":{\"color\":\"#f2f5fa\"},\"error_y\":{\"color\":\"#f2f5fa\"},\"marker\":{\"line\":{\"color\":\"rgb(17,17,17)\",\"width\":0.5},\"pattern\":{\"fillmode\":\"overlay\",\"size\":10,\"solidity\":0.2}},\"type\":\"bar\"}],\"scattergeo\":[{\"type\":\"scattergeo\",\"marker\":{\"colorbar\":{\"outlinewidth\":0,\"ticks\":\"\"}}}],\"scatterpolar\":[{\"type\":\"scatterpolar\",\"marker\":{\"colorbar\":{\"outlinewidth\":0,\"ticks\":\"\"}}}],\"histogram\":[{\"marker\":{\"pattern\":{\"fillmode\":\"overlay\",\"size\":10,\"solidity\":0.2}},\"type\":\"histogram\"}],\"scattergl\":[{\"marker\":{\"line\":{\"color\":\"#283442\"}},\"type\":\"scattergl\"}],\"scatter3d\":[{\"type\":\"scatter3d\",\"line\":{\"colorbar\":{\"outlinewidth\":0,\"ticks\":\"\"}},\"marker\":{\"colorbar\":{\"outlinewidth\":0,\"ticks\":\"\"}}}],\"scattermapbox\":[{\"type\":\"scattermapbox\",\"marker\":{\"colorbar\":{\"outlinewidth\":0,\"ticks\":\"\"}}}],\"scatterternary\":[{\"type\":\"scatterternary\",\"marker\":{\"colorbar\":{\"outlinewidth\":0,\"ticks\":\"\"}}}],\"scattercarpet\":[{\"type\":\"scattercarpet\",\"marker\":{\"colorbar\":{\"outlinewidth\":0,\"ticks\":\"\"}}}],\"carpet\":[{\"aaxis\":{\"endlinecolor\":\"#A2B1C6\",\"gridcolor\":\"#506784\",\"linecolor\":\"#506784\",\"minorgridcolor\":\"#506784\",\"startlinecolor\":\"#A2B1C6\"},\"baxis\":{\"endlinecolor\":\"#A2B1C6\",\"gridcolor\":\"#506784\",\"linecolor\":\"#506784\",\"minorgridcolor\":\"#506784\",\"startlinecolor\":\"#A2B1C6\"},\"type\":\"carpet\"}],\"table\":[{\"cells\":{\"fill\":{\"color\":\"#506784\"},\"line\":{\"color\":\"rgb(17,17,17)\"}},\"header\":{\"fill\":{\"color\":\"#2a3f5f\"},\"line\":{\"color\":\"rgb(17,17,17)\"}},\"type\":\"table\"}],\"barpolar\":[{\"marker\":{\"line\":{\"color\":\"rgb(17,17,17)\",\"width\":0.5},\"pattern\":{\"fillmode\":\"overlay\",\"size\":10,\"solidity\":0.2}},\"type\":\"barpolar\"}],\"pie\":[{\"automargin\":true,\"type\":\"pie\"}]},\"layout\":{\"autotypenumbers\":\"strict\",\"colorway\":[\"#636efa\",\"#EF553B\",\"#00cc96\",\"#ab63fa\",\"#FFA15A\",\"#19d3f3\",\"#FF6692\",\"#B6E880\",\"#FF97FF\",\"#FECB52\"],\"font\":{\"color\":\"#f2f5fa\"},\"hovermode\":\"closest\",\"hoverlabel\":{\"align\":\"left\"},\"paper_bgcolor\":\"rgb(17,17,17)\",\"plot_bgcolor\":\"rgb(17,17,17)\",\"polar\":{\"bgcolor\":\"rgb(17,17,17)\",\"angularaxis\":{\"gridcolor\":\"#506784\",\"linecolor\":\"#506784\",\"ticks\":\"\"},\"radialaxis\":{\"gridcolor\":\"#506784\",\"linecolor\":\"#506784\",\"ticks\":\"\"}},\"ternary\":{\"bgcolor\":\"rgb(17,17,17)\",\"aaxis\":{\"gridcolor\":\"#506784\",\"linecolor\":\"#506784\",\"ticks\":\"\"},\"baxis\":{\"gridcolor\":\"#506784\",\"linecolor\":\"#506784\",\"ticks\":\"\"},\"caxis\":{\"gridcolor\":\"#506784\",\"linecolor\":\"#506784\",\"ticks\":\"\"}},\"coloraxis\":{\"colorbar\":{\"outlinewidth\":0,\"ticks\":\"\"}},\"colorscale\":{\"sequential\":[[0.0,\"#0d0887\"],[0.1111111111111111,\"#46039f\"],[0.2222222222222222,\"#7201a8\"],[0.3333333333333333,\"#9c179e\"],[0.4444444444444444,\"#bd3786\"],[0.5555555555555556,\"#d8576b\"],[0.6666666666666666,\"#ed7953\"],[0.7777777777777778,\"#fb9f3a\"],[0.8888888888888888,\"#fdca26\"],[1.0,\"#f0f921\"]],\"sequentialminus\":[[0.0,\"#0d0887\"],[0.1111111111111111,\"#46039f\"],[0.2222222222222222,\"#7201a8\"],[0.3333333333333333,\"#9c179e\"],[0.4444444444444444,\"#bd3786\"],[0.5555555555555556,\"#d8576b\"],[0.6666666666666666,\"#ed7953\"],[0.7777777777777778,\"#fb9f3a\"],[0.8888888888888888,\"#fdca26\"],[1.0,\"#f0f921\"]],\"diverging\":[[0,\"#8e0152\"],[0.1,\"#c51b7d\"],[0.2,\"#de77ae\"],[0.3,\"#f1b6da\"],[0.4,\"#fde0ef\"],[0.5,\"#f7f7f7\"],[0.6,\"#e6f5d0\"],[0.7,\"#b8e186\"],[0.8,\"#7fbc41\"],[0.9,\"#4d9221\"],[1,\"#276419\"]]},\"xaxis\":{\"gridcolor\":\"#283442\",\"linecolor\":\"#506784\",\"ticks\":\"\",\"title\":{\"standoff\":15},\"zerolinecolor\":\"#283442\",\"automargin\":true,\"zerolinewidth\":2},\"yaxis\":{\"gridcolor\":\"#283442\",\"linecolor\":\"#506784\",\"ticks\":\"\",\"title\":{\"standoff\":15},\"zerolinecolor\":\"#283442\",\"automargin\":true,\"zerolinewidth\":2},\"scene\":{\"xaxis\":{\"backgroundcolor\":\"rgb(17,17,17)\",\"gridcolor\":\"#506784\",\"linecolor\":\"#506784\",\"showbackground\":true,\"ticks\":\"\",\"zerolinecolor\":\"#C8D4E3\",\"gridwidth\":2},\"yaxis\":{\"backgroundcolor\":\"rgb(17,17,17)\",\"gridcolor\":\"#506784\",\"linecolor\":\"#506784\",\"showbackground\":true,\"ticks\":\"\",\"zerolinecolor\":\"#C8D4E3\",\"gridwidth\":2},\"zaxis\":{\"backgroundcolor\":\"rgb(17,17,17)\",\"gridcolor\":\"#506784\",\"linecolor\":\"#506784\",\"showbackground\":true,\"ticks\":\"\",\"zerolinecolor\":\"#C8D4E3\",\"gridwidth\":2}},\"shapedefaults\":{\"line\":{\"color\":\"#f2f5fa\"}},\"annotationdefaults\":{\"arrowcolor\":\"#f2f5fa\",\"arrowhead\":0,\"arrowwidth\":1},\"geo\":{\"bgcolor\":\"rgb(17,17,17)\",\"landcolor\":\"rgb(17,17,17)\",\"subunitcolor\":\"#506784\",\"showland\":true,\"showlakes\":true,\"lakecolor\":\"rgb(17,17,17)\"},\"title\":{\"x\":0.05},\"updatemenudefaults\":{\"bgcolor\":\"#506784\",\"borderwidth\":0},\"sliderdefaults\":{\"bgcolor\":\"#C8D4E3\",\"borderwidth\":1,\"bordercolor\":\"rgb(17,17,17)\",\"tickwidth\":0},\"mapbox\":{\"style\":\"dark\"}}},\"xaxis\":{\"anchor\":\"y\",\"domain\":[0.0,1.0]},\"yaxis\":{\"anchor\":\"x\",\"domain\":[0.0,1.0],\"autorange\":\"reversed\"},\"coloraxis\":{\"colorscale\":[[0.0,\"rgb(61, 89, 65)\"],[0.16666666666666666,\"rgb(119, 136, 104)\"],[0.3333333333333333,\"rgb(181, 185, 145)\"],[0.5,\"rgb(246, 237, 189)\"],[0.6666666666666666,\"rgb(237, 187, 138)\"],[0.8333333333333334,\"rgb(222, 138, 90)\"],[1.0,\"rgb(202, 86, 44)\"]],\"cmin\":-1,\"cmax\":1},\"margin\":{\"t\":60}},                        {\"responsive\": true}                    ).then(function(){\n                            \nvar gd = document.getElementById('b669dbd8-dd8b-4f2e-a4ab-eb1983c0201a');\nvar x = new MutationObserver(function (mutations, observer) {{\n        var display = window.getComputedStyle(gd).display;\n        if (!display || display === 'none') {{\n            console.log([gd, 'removed!']);\n            Plotly.purge(gd);\n            observer.disconnect();\n        }}\n}});\n\n// Listen for the removal of the full notebook cells\nvar notebookContainer = gd.closest('#notebook-container');\nif (notebookContainer) {{\n    x.observe(notebookContainer, {childList: true});\n}}\n\n// Listen for the clearing of the current output cell\nvar outputEl = gd.closest('.output');\nif (outputEl) {{\n    x.observe(outputEl, {childList: true});\n}}\n\n                        })                };                });            </script>        </div>"
     },
     "metadata": {},
     "output_type": "display_data"
    }
   ],
   "source": [
    "corrMatrix = pitching_full_abvanced_final.corr()\n",
    "px.imshow(corrMatrix, text_auto=True, aspect='auto', zmax=1, zmin=-1, color_continuous_scale=px.colors.diverging.Fall)"
   ],
   "metadata": {
    "collapsed": false,
    "pycharm": {
     "name": "#%%\n"
    }
   }
  },
  {
   "cell_type": "code",
   "execution_count": 90,
   "outputs": [],
   "source": [
    "from sklearn.preprocessing import Normalizer"
   ],
   "metadata": {
    "collapsed": false,
    "pycharm": {
     "name": "#%%\n"
    }
   }
  },
  {
   "cell_type": "code",
   "execution_count": 153,
   "outputs": [
    {
     "data": {
      "text/plain": "        G   AB    R    H  2B  3B  HR   RBI    SB   CS  BB     SO   HBP    SH  \\\n0     134  525   75  141  14   8   1  43.0  27.0  NaN  25   16.0   9.0   6.0   \n1     128  540  105  153  16   9   2  46.0  34.0  NaN  32   28.0  10.0  12.0   \n2     132  520   69  142  18   7   3  55.0  22.0  NaN  44   17.0   7.0   9.0   \n3     149  571   71  133  17   8   0  34.0  22.0  NaN  52   51.0   8.0  17.0   \n4     141  527   55  122  19   3   0  19.0  16.0  NaN  34   32.0   3.0  32.0   \n...   ...  ...  ...  ...  ..  ..  ..   ...   ...  ...  ..    ...   ...   ...   \n5606  148  517   50  117  22   3   5  39.0   6.0  1.0  27   41.0   1.0   6.0   \n5607  159  559   93  169  35   8  24  90.0   5.0  2.0  75  119.0   8.0   0.0   \n5608  152  571   85  166  32   1  18  73.0   0.0  0.0  46  106.0  27.0   0.0   \n5609  134  508   84  127  35   3  20  60.0   1.0  0.0  61  110.0   9.0   0.0   \n5610  144  521   89  135  33   0  31  96.0   1.0  2.0  44  130.0   1.0   0.0   \n\n       SF  WAR  oWAR  dWAR  \n0     NaN  0.5   0.8   0.2  \n1     NaN  2.3   1.7   1.0  \n2     NaN  1.9   1.8   0.6  \n3     NaN  1.6   2.4  -0.1  \n4     NaN  1.9   1.5   1.0  \n...   ...  ...   ...   ...  \n5606  3.0  0.5  -0.1   1.3  \n5607  4.0  6.0   6.5  -0.3  \n5608  6.0  4.3   4.1  -0.5  \n5609  7.0  4.9   3.2   2.1  \n5610  6.0  2.3   2.3  -0.5  \n\n[5611 rows x 18 columns]",
      "text/html": "<div>\n<style scoped>\n    .dataframe tbody tr th:only-of-type {\n        vertical-align: middle;\n    }\n\n    .dataframe tbody tr th {\n        vertical-align: top;\n    }\n\n    .dataframe thead th {\n        text-align: right;\n    }\n</style>\n<table border=\"1\" class=\"dataframe\">\n  <thead>\n    <tr style=\"text-align: right;\">\n      <th></th>\n      <th>G</th>\n      <th>AB</th>\n      <th>R</th>\n      <th>H</th>\n      <th>2B</th>\n      <th>3B</th>\n      <th>HR</th>\n      <th>RBI</th>\n      <th>SB</th>\n      <th>CS</th>\n      <th>BB</th>\n      <th>SO</th>\n      <th>HBP</th>\n      <th>SH</th>\n      <th>SF</th>\n      <th>WAR</th>\n      <th>oWAR</th>\n      <th>dWAR</th>\n    </tr>\n  </thead>\n  <tbody>\n    <tr>\n      <th>0</th>\n      <td>134</td>\n      <td>525</td>\n      <td>75</td>\n      <td>141</td>\n      <td>14</td>\n      <td>8</td>\n      <td>1</td>\n      <td>43.0</td>\n      <td>27.0</td>\n      <td>NaN</td>\n      <td>25</td>\n      <td>16.0</td>\n      <td>9.0</td>\n      <td>6.0</td>\n      <td>NaN</td>\n      <td>0.5</td>\n      <td>0.8</td>\n      <td>0.2</td>\n    </tr>\n    <tr>\n      <th>1</th>\n      <td>128</td>\n      <td>540</td>\n      <td>105</td>\n      <td>153</td>\n      <td>16</td>\n      <td>9</td>\n      <td>2</td>\n      <td>46.0</td>\n      <td>34.0</td>\n      <td>NaN</td>\n      <td>32</td>\n      <td>28.0</td>\n      <td>10.0</td>\n      <td>12.0</td>\n      <td>NaN</td>\n      <td>2.3</td>\n      <td>1.7</td>\n      <td>1.0</td>\n    </tr>\n    <tr>\n      <th>2</th>\n      <td>132</td>\n      <td>520</td>\n      <td>69</td>\n      <td>142</td>\n      <td>18</td>\n      <td>7</td>\n      <td>3</td>\n      <td>55.0</td>\n      <td>22.0</td>\n      <td>NaN</td>\n      <td>44</td>\n      <td>17.0</td>\n      <td>7.0</td>\n      <td>9.0</td>\n      <td>NaN</td>\n      <td>1.9</td>\n      <td>1.8</td>\n      <td>0.6</td>\n    </tr>\n    <tr>\n      <th>3</th>\n      <td>149</td>\n      <td>571</td>\n      <td>71</td>\n      <td>133</td>\n      <td>17</td>\n      <td>8</td>\n      <td>0</td>\n      <td>34.0</td>\n      <td>22.0</td>\n      <td>NaN</td>\n      <td>52</td>\n      <td>51.0</td>\n      <td>8.0</td>\n      <td>17.0</td>\n      <td>NaN</td>\n      <td>1.6</td>\n      <td>2.4</td>\n      <td>-0.1</td>\n    </tr>\n    <tr>\n      <th>4</th>\n      <td>141</td>\n      <td>527</td>\n      <td>55</td>\n      <td>122</td>\n      <td>19</td>\n      <td>3</td>\n      <td>0</td>\n      <td>19.0</td>\n      <td>16.0</td>\n      <td>NaN</td>\n      <td>34</td>\n      <td>32.0</td>\n      <td>3.0</td>\n      <td>32.0</td>\n      <td>NaN</td>\n      <td>1.9</td>\n      <td>1.5</td>\n      <td>1.0</td>\n    </tr>\n    <tr>\n      <th>...</th>\n      <td>...</td>\n      <td>...</td>\n      <td>...</td>\n      <td>...</td>\n      <td>...</td>\n      <td>...</td>\n      <td>...</td>\n      <td>...</td>\n      <td>...</td>\n      <td>...</td>\n      <td>...</td>\n      <td>...</td>\n      <td>...</td>\n      <td>...</td>\n      <td>...</td>\n      <td>...</td>\n      <td>...</td>\n      <td>...</td>\n    </tr>\n    <tr>\n      <th>5606</th>\n      <td>148</td>\n      <td>517</td>\n      <td>50</td>\n      <td>117</td>\n      <td>22</td>\n      <td>3</td>\n      <td>5</td>\n      <td>39.0</td>\n      <td>6.0</td>\n      <td>1.0</td>\n      <td>27</td>\n      <td>41.0</td>\n      <td>1.0</td>\n      <td>6.0</td>\n      <td>3.0</td>\n      <td>0.5</td>\n      <td>-0.1</td>\n      <td>1.3</td>\n    </tr>\n    <tr>\n      <th>5607</th>\n      <td>159</td>\n      <td>559</td>\n      <td>93</td>\n      <td>169</td>\n      <td>35</td>\n      <td>8</td>\n      <td>24</td>\n      <td>90.0</td>\n      <td>5.0</td>\n      <td>2.0</td>\n      <td>75</td>\n      <td>119.0</td>\n      <td>8.0</td>\n      <td>0.0</td>\n      <td>4.0</td>\n      <td>6.0</td>\n      <td>6.5</td>\n      <td>-0.3</td>\n    </tr>\n    <tr>\n      <th>5608</th>\n      <td>152</td>\n      <td>571</td>\n      <td>85</td>\n      <td>166</td>\n      <td>32</td>\n      <td>1</td>\n      <td>18</td>\n      <td>73.0</td>\n      <td>0.0</td>\n      <td>0.0</td>\n      <td>46</td>\n      <td>106.0</td>\n      <td>27.0</td>\n      <td>0.0</td>\n      <td>6.0</td>\n      <td>4.3</td>\n      <td>4.1</td>\n      <td>-0.5</td>\n    </tr>\n    <tr>\n      <th>5609</th>\n      <td>134</td>\n      <td>508</td>\n      <td>84</td>\n      <td>127</td>\n      <td>35</td>\n      <td>3</td>\n      <td>20</td>\n      <td>60.0</td>\n      <td>1.0</td>\n      <td>0.0</td>\n      <td>61</td>\n      <td>110.0</td>\n      <td>9.0</td>\n      <td>0.0</td>\n      <td>7.0</td>\n      <td>4.9</td>\n      <td>3.2</td>\n      <td>2.1</td>\n    </tr>\n    <tr>\n      <th>5610</th>\n      <td>144</td>\n      <td>521</td>\n      <td>89</td>\n      <td>135</td>\n      <td>33</td>\n      <td>0</td>\n      <td>31</td>\n      <td>96.0</td>\n      <td>1.0</td>\n      <td>2.0</td>\n      <td>44</td>\n      <td>130.0</td>\n      <td>1.0</td>\n      <td>0.0</td>\n      <td>6.0</td>\n      <td>2.3</td>\n      <td>2.3</td>\n      <td>-0.5</td>\n    </tr>\n  </tbody>\n</table>\n<p>5611 rows × 18 columns</p>\n</div>"
     },
     "execution_count": 153,
     "metadata": {},
     "output_type": "execute_result"
    }
   ],
   "source": [
    "batting_heavy_abvanced_main = batting_heavy_abvanced_final.iloc[0:5611,7:25]\n",
    "batting_heavy_abvanced_main"
   ],
   "metadata": {
    "collapsed": false,
    "pycharm": {
     "name": "#%%\n"
    }
   }
  },
  {
   "cell_type": "code",
   "execution_count": 154,
   "outputs": [],
   "source": [
    "batting_heavy_abvanced_main = batting_heavy_abvanced_main.fillna(value = 0,axis=0)"
   ],
   "metadata": {
    "collapsed": false,
    "pycharm": {
     "name": "#%%\n"
    }
   }
  },
  {
   "cell_type": "code",
   "execution_count": 155,
   "outputs": [],
   "source": [
    "norm = Normalizer().fit(batting_heavy_abvanced_main)"
   ],
   "metadata": {
    "collapsed": false,
    "pycharm": {
     "name": "#%%\n"
    }
   }
  },
  {
   "cell_type": "code",
   "execution_count": 164,
   "outputs": [
    {
     "data": {
      "text/plain": "             G        AB         R         H        2B        3B        HR  \\\n0     0.235806  0.923865  0.131981  0.248124  0.024636  0.014078  0.001760   \n1     0.216952  0.915265  0.177968  0.259325  0.027119  0.015254  0.003390   \n2     0.233710  0.920675  0.122167  0.251415  0.031870  0.012394  0.005312   \n3     0.242146  0.927957  0.115385  0.216144  0.027627  0.013001  0.000000   \n4     0.249362  0.932012  0.097269  0.215760  0.033602  0.005306  0.000000   \n...        ...       ...       ...       ...       ...       ...       ...   \n5606  0.265852  0.928685  0.089815  0.210167  0.039519  0.005389  0.008981   \n5607  0.249872  0.878481  0.146152  0.265587  0.055003  0.012572  0.037717   \n5608  0.238917  0.897510  0.133605  0.260922  0.050298  0.001572  0.028293   \n5609  0.236722  0.897423  0.148393  0.224356  0.061830  0.005300  0.035332   \n5610  0.243935  0.882572  0.150766  0.228689  0.055902  0.000000  0.052514   \n\n           RBI        SB        CS        BB        SO       HBP        SH  \\\n0     0.075669  0.047513  0.000000  0.043994  0.028156  0.015838  0.010558   \n1     0.077967  0.057628  0.000000  0.054238  0.047458  0.016949  0.020339   \n2     0.097379  0.038952  0.000000  0.077903  0.030099  0.012394  0.015935   \n3     0.055255  0.035753  0.000000  0.084507  0.082882  0.013001  0.027627   \n4     0.033602  0.028296  0.000000  0.060130  0.056593  0.005306  0.056593   \n...        ...       ...       ...       ...       ...       ...       ...   \n5606  0.070056  0.010778  0.001796  0.048500  0.073648  0.001796  0.010778   \n5607  0.141437  0.007858  0.003143  0.117864  0.187011  0.012572  0.000000   \n5608  0.114743  0.000000  0.000000  0.072304  0.166613  0.042439  0.000000   \n5609  0.105995  0.001767  0.000000  0.107761  0.194324  0.015899  0.000000   \n5610  0.162624  0.001694  0.003388  0.074536  0.220220  0.001694  0.000000   \n\n            SF       WAR      oWAR      dWAR  \n0     0.000000  0.000880  0.001408  0.000352  \n1     0.000000  0.003898  0.002881  0.001695  \n2     0.000000  0.003364  0.003187  0.001062  \n3     0.000000  0.002600  0.003900 -0.000163  \n4     0.000000  0.003360  0.002653  0.001769  \n...        ...       ...       ...       ...  \n5606  0.005389  0.000898 -0.000180  0.002335  \n5607  0.006286  0.009429  0.010215 -0.000471  \n5608  0.009431  0.006759  0.006444 -0.000786  \n5609  0.012366  0.008656  0.005653  0.003710  \n5610  0.010164  0.003896  0.003896 -0.000847  \n\n[5611 rows x 18 columns]",
      "text/html": "<div>\n<style scoped>\n    .dataframe tbody tr th:only-of-type {\n        vertical-align: middle;\n    }\n\n    .dataframe tbody tr th {\n        vertical-align: top;\n    }\n\n    .dataframe thead th {\n        text-align: right;\n    }\n</style>\n<table border=\"1\" class=\"dataframe\">\n  <thead>\n    <tr style=\"text-align: right;\">\n      <th></th>\n      <th>G</th>\n      <th>AB</th>\n      <th>R</th>\n      <th>H</th>\n      <th>2B</th>\n      <th>3B</th>\n      <th>HR</th>\n      <th>RBI</th>\n      <th>SB</th>\n      <th>CS</th>\n      <th>BB</th>\n      <th>SO</th>\n      <th>HBP</th>\n      <th>SH</th>\n      <th>SF</th>\n      <th>WAR</th>\n      <th>oWAR</th>\n      <th>dWAR</th>\n    </tr>\n  </thead>\n  <tbody>\n    <tr>\n      <th>0</th>\n      <td>0.235806</td>\n      <td>0.923865</td>\n      <td>0.131981</td>\n      <td>0.248124</td>\n      <td>0.024636</td>\n      <td>0.014078</td>\n      <td>0.001760</td>\n      <td>0.075669</td>\n      <td>0.047513</td>\n      <td>0.000000</td>\n      <td>0.043994</td>\n      <td>0.028156</td>\n      <td>0.015838</td>\n      <td>0.010558</td>\n      <td>0.000000</td>\n      <td>0.000880</td>\n      <td>0.001408</td>\n      <td>0.000352</td>\n    </tr>\n    <tr>\n      <th>1</th>\n      <td>0.216952</td>\n      <td>0.915265</td>\n      <td>0.177968</td>\n      <td>0.259325</td>\n      <td>0.027119</td>\n      <td>0.015254</td>\n      <td>0.003390</td>\n      <td>0.077967</td>\n      <td>0.057628</td>\n      <td>0.000000</td>\n      <td>0.054238</td>\n      <td>0.047458</td>\n      <td>0.016949</td>\n      <td>0.020339</td>\n      <td>0.000000</td>\n      <td>0.003898</td>\n      <td>0.002881</td>\n      <td>0.001695</td>\n    </tr>\n    <tr>\n      <th>2</th>\n      <td>0.233710</td>\n      <td>0.920675</td>\n      <td>0.122167</td>\n      <td>0.251415</td>\n      <td>0.031870</td>\n      <td>0.012394</td>\n      <td>0.005312</td>\n      <td>0.097379</td>\n      <td>0.038952</td>\n      <td>0.000000</td>\n      <td>0.077903</td>\n      <td>0.030099</td>\n      <td>0.012394</td>\n      <td>0.015935</td>\n      <td>0.000000</td>\n      <td>0.003364</td>\n      <td>0.003187</td>\n      <td>0.001062</td>\n    </tr>\n    <tr>\n      <th>3</th>\n      <td>0.242146</td>\n      <td>0.927957</td>\n      <td>0.115385</td>\n      <td>0.216144</td>\n      <td>0.027627</td>\n      <td>0.013001</td>\n      <td>0.000000</td>\n      <td>0.055255</td>\n      <td>0.035753</td>\n      <td>0.000000</td>\n      <td>0.084507</td>\n      <td>0.082882</td>\n      <td>0.013001</td>\n      <td>0.027627</td>\n      <td>0.000000</td>\n      <td>0.002600</td>\n      <td>0.003900</td>\n      <td>-0.000163</td>\n    </tr>\n    <tr>\n      <th>4</th>\n      <td>0.249362</td>\n      <td>0.932012</td>\n      <td>0.097269</td>\n      <td>0.215760</td>\n      <td>0.033602</td>\n      <td>0.005306</td>\n      <td>0.000000</td>\n      <td>0.033602</td>\n      <td>0.028296</td>\n      <td>0.000000</td>\n      <td>0.060130</td>\n      <td>0.056593</td>\n      <td>0.005306</td>\n      <td>0.056593</td>\n      <td>0.000000</td>\n      <td>0.003360</td>\n      <td>0.002653</td>\n      <td>0.001769</td>\n    </tr>\n    <tr>\n      <th>...</th>\n      <td>...</td>\n      <td>...</td>\n      <td>...</td>\n      <td>...</td>\n      <td>...</td>\n      <td>...</td>\n      <td>...</td>\n      <td>...</td>\n      <td>...</td>\n      <td>...</td>\n      <td>...</td>\n      <td>...</td>\n      <td>...</td>\n      <td>...</td>\n      <td>...</td>\n      <td>...</td>\n      <td>...</td>\n      <td>...</td>\n    </tr>\n    <tr>\n      <th>5606</th>\n      <td>0.265852</td>\n      <td>0.928685</td>\n      <td>0.089815</td>\n      <td>0.210167</td>\n      <td>0.039519</td>\n      <td>0.005389</td>\n      <td>0.008981</td>\n      <td>0.070056</td>\n      <td>0.010778</td>\n      <td>0.001796</td>\n      <td>0.048500</td>\n      <td>0.073648</td>\n      <td>0.001796</td>\n      <td>0.010778</td>\n      <td>0.005389</td>\n      <td>0.000898</td>\n      <td>-0.000180</td>\n      <td>0.002335</td>\n    </tr>\n    <tr>\n      <th>5607</th>\n      <td>0.249872</td>\n      <td>0.878481</td>\n      <td>0.146152</td>\n      <td>0.265587</td>\n      <td>0.055003</td>\n      <td>0.012572</td>\n      <td>0.037717</td>\n      <td>0.141437</td>\n      <td>0.007858</td>\n      <td>0.003143</td>\n      <td>0.117864</td>\n      <td>0.187011</td>\n      <td>0.012572</td>\n      <td>0.000000</td>\n      <td>0.006286</td>\n      <td>0.009429</td>\n      <td>0.010215</td>\n      <td>-0.000471</td>\n    </tr>\n    <tr>\n      <th>5608</th>\n      <td>0.238917</td>\n      <td>0.897510</td>\n      <td>0.133605</td>\n      <td>0.260922</td>\n      <td>0.050298</td>\n      <td>0.001572</td>\n      <td>0.028293</td>\n      <td>0.114743</td>\n      <td>0.000000</td>\n      <td>0.000000</td>\n      <td>0.072304</td>\n      <td>0.166613</td>\n      <td>0.042439</td>\n      <td>0.000000</td>\n      <td>0.009431</td>\n      <td>0.006759</td>\n      <td>0.006444</td>\n      <td>-0.000786</td>\n    </tr>\n    <tr>\n      <th>5609</th>\n      <td>0.236722</td>\n      <td>0.897423</td>\n      <td>0.148393</td>\n      <td>0.224356</td>\n      <td>0.061830</td>\n      <td>0.005300</td>\n      <td>0.035332</td>\n      <td>0.105995</td>\n      <td>0.001767</td>\n      <td>0.000000</td>\n      <td>0.107761</td>\n      <td>0.194324</td>\n      <td>0.015899</td>\n      <td>0.000000</td>\n      <td>0.012366</td>\n      <td>0.008656</td>\n      <td>0.005653</td>\n      <td>0.003710</td>\n    </tr>\n    <tr>\n      <th>5610</th>\n      <td>0.243935</td>\n      <td>0.882572</td>\n      <td>0.150766</td>\n      <td>0.228689</td>\n      <td>0.055902</td>\n      <td>0.000000</td>\n      <td>0.052514</td>\n      <td>0.162624</td>\n      <td>0.001694</td>\n      <td>0.003388</td>\n      <td>0.074536</td>\n      <td>0.220220</td>\n      <td>0.001694</td>\n      <td>0.000000</td>\n      <td>0.010164</td>\n      <td>0.003896</td>\n      <td>0.003896</td>\n      <td>-0.000847</td>\n    </tr>\n  </tbody>\n</table>\n<p>5611 rows × 18 columns</p>\n</div>"
     },
     "execution_count": 164,
     "metadata": {},
     "output_type": "execute_result"
    }
   ],
   "source": [
    "batting_heavy_abvanced_main_norm = pd.DataFrame(norm.transform(batting_heavy_abvanced_main),columns=['G','AB', 'R', 'H', '2B', '3B', 'HR', 'RBI', 'SB', 'CS', 'BB', 'SO', 'HBP', 'SH', 'SF', 'WAR', 'oWAR', 'dWAR'])\n",
    "batting_heavy_abvanced_main_norm"
   ],
   "metadata": {
    "collapsed": false,
    "pycharm": {
     "name": "#%%\n"
    }
   }
  },
  {
   "cell_type": "code",
   "execution_count": 165,
   "outputs": [],
   "source": [
    "from sklearn.cluster import KMeans"
   ],
   "metadata": {
    "collapsed": false,
    "pycharm": {
     "name": "#%%\n"
    }
   }
  },
  {
   "cell_type": "code",
   "execution_count": 166,
   "outputs": [],
   "source": [
    "import plotly.graph_objects as go\n",
    "inertia = []\n",
    "for i in range(1,11):\n",
    "    kmeans = KMeans(\n",
    "        n_clusters=i, init=\"k-means++\",\n",
    "        n_init=10,\n",
    "        tol=1e-04, random_state=42\n",
    "    )\n",
    "    kmeans.fit(batting_heavy_abvanced_main_norm)\n",
    "    inertia.append(kmeans.inertia_)"
   ],
   "metadata": {
    "collapsed": false,
    "pycharm": {
     "name": "#%%\n"
    }
   }
  },
  {
   "cell_type": "code",
   "execution_count": 167,
   "outputs": [
    {
     "data": {
      "application/vnd.plotly.v1+json": {
       "data": [
        {
         "x": [
          1,
          2,
          3,
          4,
          5,
          6,
          7,
          8,
          9,
          10
         ],
         "y": [
          53.572818113254144,
          36.80707243697299,
          31.79154909607591,
          28.441351045375143,
          25.96056031099392,
          23.87844136533119,
          22.583960654592566,
          21.413075405767913,
          20.537441738383887,
          19.834093156241188
         ],
         "type": "scatter"
        }
       ],
       "layout": {
        "template": {
         "data": {
          "histogram2dcontour": [
           {
            "type": "histogram2dcontour",
            "colorbar": {
             "outlinewidth": 0,
             "ticks": ""
            },
            "colorscale": [
             [
              0.0,
              "#0d0887"
             ],
             [
              0.1111111111111111,
              "#46039f"
             ],
             [
              0.2222222222222222,
              "#7201a8"
             ],
             [
              0.3333333333333333,
              "#9c179e"
             ],
             [
              0.4444444444444444,
              "#bd3786"
             ],
             [
              0.5555555555555556,
              "#d8576b"
             ],
             [
              0.6666666666666666,
              "#ed7953"
             ],
             [
              0.7777777777777778,
              "#fb9f3a"
             ],
             [
              0.8888888888888888,
              "#fdca26"
             ],
             [
              1.0,
              "#f0f921"
             ]
            ]
           }
          ],
          "choropleth": [
           {
            "type": "choropleth",
            "colorbar": {
             "outlinewidth": 0,
             "ticks": ""
            }
           }
          ],
          "histogram2d": [
           {
            "type": "histogram2d",
            "colorbar": {
             "outlinewidth": 0,
             "ticks": ""
            },
            "colorscale": [
             [
              0.0,
              "#0d0887"
             ],
             [
              0.1111111111111111,
              "#46039f"
             ],
             [
              0.2222222222222222,
              "#7201a8"
             ],
             [
              0.3333333333333333,
              "#9c179e"
             ],
             [
              0.4444444444444444,
              "#bd3786"
             ],
             [
              0.5555555555555556,
              "#d8576b"
             ],
             [
              0.6666666666666666,
              "#ed7953"
             ],
             [
              0.7777777777777778,
              "#fb9f3a"
             ],
             [
              0.8888888888888888,
              "#fdca26"
             ],
             [
              1.0,
              "#f0f921"
             ]
            ]
           }
          ],
          "heatmap": [
           {
            "type": "heatmap",
            "colorbar": {
             "outlinewidth": 0,
             "ticks": ""
            },
            "colorscale": [
             [
              0.0,
              "#0d0887"
             ],
             [
              0.1111111111111111,
              "#46039f"
             ],
             [
              0.2222222222222222,
              "#7201a8"
             ],
             [
              0.3333333333333333,
              "#9c179e"
             ],
             [
              0.4444444444444444,
              "#bd3786"
             ],
             [
              0.5555555555555556,
              "#d8576b"
             ],
             [
              0.6666666666666666,
              "#ed7953"
             ],
             [
              0.7777777777777778,
              "#fb9f3a"
             ],
             [
              0.8888888888888888,
              "#fdca26"
             ],
             [
              1.0,
              "#f0f921"
             ]
            ]
           }
          ],
          "heatmapgl": [
           {
            "type": "heatmapgl",
            "colorbar": {
             "outlinewidth": 0,
             "ticks": ""
            },
            "colorscale": [
             [
              0.0,
              "#0d0887"
             ],
             [
              0.1111111111111111,
              "#46039f"
             ],
             [
              0.2222222222222222,
              "#7201a8"
             ],
             [
              0.3333333333333333,
              "#9c179e"
             ],
             [
              0.4444444444444444,
              "#bd3786"
             ],
             [
              0.5555555555555556,
              "#d8576b"
             ],
             [
              0.6666666666666666,
              "#ed7953"
             ],
             [
              0.7777777777777778,
              "#fb9f3a"
             ],
             [
              0.8888888888888888,
              "#fdca26"
             ],
             [
              1.0,
              "#f0f921"
             ]
            ]
           }
          ],
          "contourcarpet": [
           {
            "type": "contourcarpet",
            "colorbar": {
             "outlinewidth": 0,
             "ticks": ""
            }
           }
          ],
          "contour": [
           {
            "type": "contour",
            "colorbar": {
             "outlinewidth": 0,
             "ticks": ""
            },
            "colorscale": [
             [
              0.0,
              "#0d0887"
             ],
             [
              0.1111111111111111,
              "#46039f"
             ],
             [
              0.2222222222222222,
              "#7201a8"
             ],
             [
              0.3333333333333333,
              "#9c179e"
             ],
             [
              0.4444444444444444,
              "#bd3786"
             ],
             [
              0.5555555555555556,
              "#d8576b"
             ],
             [
              0.6666666666666666,
              "#ed7953"
             ],
             [
              0.7777777777777778,
              "#fb9f3a"
             ],
             [
              0.8888888888888888,
              "#fdca26"
             ],
             [
              1.0,
              "#f0f921"
             ]
            ]
           }
          ],
          "surface": [
           {
            "type": "surface",
            "colorbar": {
             "outlinewidth": 0,
             "ticks": ""
            },
            "colorscale": [
             [
              0.0,
              "#0d0887"
             ],
             [
              0.1111111111111111,
              "#46039f"
             ],
             [
              0.2222222222222222,
              "#7201a8"
             ],
             [
              0.3333333333333333,
              "#9c179e"
             ],
             [
              0.4444444444444444,
              "#bd3786"
             ],
             [
              0.5555555555555556,
              "#d8576b"
             ],
             [
              0.6666666666666666,
              "#ed7953"
             ],
             [
              0.7777777777777778,
              "#fb9f3a"
             ],
             [
              0.8888888888888888,
              "#fdca26"
             ],
             [
              1.0,
              "#f0f921"
             ]
            ]
           }
          ],
          "mesh3d": [
           {
            "type": "mesh3d",
            "colorbar": {
             "outlinewidth": 0,
             "ticks": ""
            }
           }
          ],
          "scatter": [
           {
            "marker": {
             "line": {
              "color": "#283442"
             }
            },
            "type": "scatter"
           }
          ],
          "parcoords": [
           {
            "type": "parcoords",
            "line": {
             "colorbar": {
              "outlinewidth": 0,
              "ticks": ""
             }
            }
           }
          ],
          "scatterpolargl": [
           {
            "type": "scatterpolargl",
            "marker": {
             "colorbar": {
              "outlinewidth": 0,
              "ticks": ""
             }
            }
           }
          ],
          "bar": [
           {
            "error_x": {
             "color": "#f2f5fa"
            },
            "error_y": {
             "color": "#f2f5fa"
            },
            "marker": {
             "line": {
              "color": "rgb(17,17,17)",
              "width": 0.5
             },
             "pattern": {
              "fillmode": "overlay",
              "size": 10,
              "solidity": 0.2
             }
            },
            "type": "bar"
           }
          ],
          "scattergeo": [
           {
            "type": "scattergeo",
            "marker": {
             "colorbar": {
              "outlinewidth": 0,
              "ticks": ""
             }
            }
           }
          ],
          "scatterpolar": [
           {
            "type": "scatterpolar",
            "marker": {
             "colorbar": {
              "outlinewidth": 0,
              "ticks": ""
             }
            }
           }
          ],
          "histogram": [
           {
            "marker": {
             "pattern": {
              "fillmode": "overlay",
              "size": 10,
              "solidity": 0.2
             }
            },
            "type": "histogram"
           }
          ],
          "scattergl": [
           {
            "marker": {
             "line": {
              "color": "#283442"
             }
            },
            "type": "scattergl"
           }
          ],
          "scatter3d": [
           {
            "type": "scatter3d",
            "line": {
             "colorbar": {
              "outlinewidth": 0,
              "ticks": ""
             }
            },
            "marker": {
             "colorbar": {
              "outlinewidth": 0,
              "ticks": ""
             }
            }
           }
          ],
          "scattermapbox": [
           {
            "type": "scattermapbox",
            "marker": {
             "colorbar": {
              "outlinewidth": 0,
              "ticks": ""
             }
            }
           }
          ],
          "scatterternary": [
           {
            "type": "scatterternary",
            "marker": {
             "colorbar": {
              "outlinewidth": 0,
              "ticks": ""
             }
            }
           }
          ],
          "scattercarpet": [
           {
            "type": "scattercarpet",
            "marker": {
             "colorbar": {
              "outlinewidth": 0,
              "ticks": ""
             }
            }
           }
          ],
          "carpet": [
           {
            "aaxis": {
             "endlinecolor": "#A2B1C6",
             "gridcolor": "#506784",
             "linecolor": "#506784",
             "minorgridcolor": "#506784",
             "startlinecolor": "#A2B1C6"
            },
            "baxis": {
             "endlinecolor": "#A2B1C6",
             "gridcolor": "#506784",
             "linecolor": "#506784",
             "minorgridcolor": "#506784",
             "startlinecolor": "#A2B1C6"
            },
            "type": "carpet"
           }
          ],
          "table": [
           {
            "cells": {
             "fill": {
              "color": "#506784"
             },
             "line": {
              "color": "rgb(17,17,17)"
             }
            },
            "header": {
             "fill": {
              "color": "#2a3f5f"
             },
             "line": {
              "color": "rgb(17,17,17)"
             }
            },
            "type": "table"
           }
          ],
          "barpolar": [
           {
            "marker": {
             "line": {
              "color": "rgb(17,17,17)",
              "width": 0.5
             },
             "pattern": {
              "fillmode": "overlay",
              "size": 10,
              "solidity": 0.2
             }
            },
            "type": "barpolar"
           }
          ],
          "pie": [
           {
            "automargin": true,
            "type": "pie"
           }
          ]
         },
         "layout": {
          "autotypenumbers": "strict",
          "colorway": [
           "#636efa",
           "#EF553B",
           "#00cc96",
           "#ab63fa",
           "#FFA15A",
           "#19d3f3",
           "#FF6692",
           "#B6E880",
           "#FF97FF",
           "#FECB52"
          ],
          "font": {
           "color": "#f2f5fa"
          },
          "hovermode": "closest",
          "hoverlabel": {
           "align": "left"
          },
          "paper_bgcolor": "rgb(17,17,17)",
          "plot_bgcolor": "rgb(17,17,17)",
          "polar": {
           "bgcolor": "rgb(17,17,17)",
           "angularaxis": {
            "gridcolor": "#506784",
            "linecolor": "#506784",
            "ticks": ""
           },
           "radialaxis": {
            "gridcolor": "#506784",
            "linecolor": "#506784",
            "ticks": ""
           }
          },
          "ternary": {
           "bgcolor": "rgb(17,17,17)",
           "aaxis": {
            "gridcolor": "#506784",
            "linecolor": "#506784",
            "ticks": ""
           },
           "baxis": {
            "gridcolor": "#506784",
            "linecolor": "#506784",
            "ticks": ""
           },
           "caxis": {
            "gridcolor": "#506784",
            "linecolor": "#506784",
            "ticks": ""
           }
          },
          "coloraxis": {
           "colorbar": {
            "outlinewidth": 0,
            "ticks": ""
           }
          },
          "colorscale": {
           "sequential": [
            [
             0.0,
             "#0d0887"
            ],
            [
             0.1111111111111111,
             "#46039f"
            ],
            [
             0.2222222222222222,
             "#7201a8"
            ],
            [
             0.3333333333333333,
             "#9c179e"
            ],
            [
             0.4444444444444444,
             "#bd3786"
            ],
            [
             0.5555555555555556,
             "#d8576b"
            ],
            [
             0.6666666666666666,
             "#ed7953"
            ],
            [
             0.7777777777777778,
             "#fb9f3a"
            ],
            [
             0.8888888888888888,
             "#fdca26"
            ],
            [
             1.0,
             "#f0f921"
            ]
           ],
           "sequentialminus": [
            [
             0.0,
             "#0d0887"
            ],
            [
             0.1111111111111111,
             "#46039f"
            ],
            [
             0.2222222222222222,
             "#7201a8"
            ],
            [
             0.3333333333333333,
             "#9c179e"
            ],
            [
             0.4444444444444444,
             "#bd3786"
            ],
            [
             0.5555555555555556,
             "#d8576b"
            ],
            [
             0.6666666666666666,
             "#ed7953"
            ],
            [
             0.7777777777777778,
             "#fb9f3a"
            ],
            [
             0.8888888888888888,
             "#fdca26"
            ],
            [
             1.0,
             "#f0f921"
            ]
           ],
           "diverging": [
            [
             0,
             "#8e0152"
            ],
            [
             0.1,
             "#c51b7d"
            ],
            [
             0.2,
             "#de77ae"
            ],
            [
             0.3,
             "#f1b6da"
            ],
            [
             0.4,
             "#fde0ef"
            ],
            [
             0.5,
             "#f7f7f7"
            ],
            [
             0.6,
             "#e6f5d0"
            ],
            [
             0.7,
             "#b8e186"
            ],
            [
             0.8,
             "#7fbc41"
            ],
            [
             0.9,
             "#4d9221"
            ],
            [
             1,
             "#276419"
            ]
           ]
          },
          "xaxis": {
           "gridcolor": "#283442",
           "linecolor": "#506784",
           "ticks": "",
           "title": {
            "standoff": 15
           },
           "zerolinecolor": "#283442",
           "automargin": true,
           "zerolinewidth": 2
          },
          "yaxis": {
           "gridcolor": "#283442",
           "linecolor": "#506784",
           "ticks": "",
           "title": {
            "standoff": 15
           },
           "zerolinecolor": "#283442",
           "automargin": true,
           "zerolinewidth": 2
          },
          "scene": {
           "xaxis": {
            "backgroundcolor": "rgb(17,17,17)",
            "gridcolor": "#506784",
            "linecolor": "#506784",
            "showbackground": true,
            "ticks": "",
            "zerolinecolor": "#C8D4E3",
            "gridwidth": 2
           },
           "yaxis": {
            "backgroundcolor": "rgb(17,17,17)",
            "gridcolor": "#506784",
            "linecolor": "#506784",
            "showbackground": true,
            "ticks": "",
            "zerolinecolor": "#C8D4E3",
            "gridwidth": 2
           },
           "zaxis": {
            "backgroundcolor": "rgb(17,17,17)",
            "gridcolor": "#506784",
            "linecolor": "#506784",
            "showbackground": true,
            "ticks": "",
            "zerolinecolor": "#C8D4E3",
            "gridwidth": 2
           }
          },
          "shapedefaults": {
           "line": {
            "color": "#f2f5fa"
           }
          },
          "annotationdefaults": {
           "arrowcolor": "#f2f5fa",
           "arrowhead": 0,
           "arrowwidth": 1
          },
          "geo": {
           "bgcolor": "rgb(17,17,17)",
           "landcolor": "rgb(17,17,17)",
           "subunitcolor": "#506784",
           "showland": true,
           "showlakes": true,
           "lakecolor": "rgb(17,17,17)"
          },
          "title": {
           "x": 0.05
          },
          "updatemenudefaults": {
           "bgcolor": "#506784",
           "borderwidth": 0
          },
          "sliderdefaults": {
           "bgcolor": "#C8D4E3",
           "borderwidth": 1,
           "bordercolor": "rgb(17,17,17)",
           "tickwidth": 0
          },
          "mapbox": {
           "style": "dark"
          }
         }
        },
        "xaxis": {
         "range": [
          0,
          11
         ],
         "title": {
          "text": "Cluster Number"
         }
        },
        "title": {
         "text": "Inertia vs Cluster Number"
        },
        "yaxis": {
         "title": {
          "text": "Inertia"
         }
        },
        "annotations": [
         {
          "arrowhead": 7,
          "ax": 20,
          "ay": -40,
          "showarrow": true,
          "text": "Elbow!",
          "x": 3,
          "xref": "x",
          "y": 31.79154909607591,
          "yref": "y"
         }
        ]
       },
       "config": {
        "plotlyServerURL": "https://plot.ly"
       }
      },
      "text/html": "<div>                            <div id=\"c1f1ffcd-8e84-4cb5-a1eb-0261be9ff62b\" class=\"plotly-graph-div\" style=\"height:525px; width:100%;\"></div>            <script type=\"text/javascript\">                require([\"plotly\"], function(Plotly) {                    window.PLOTLYENV=window.PLOTLYENV || {};                                    if (document.getElementById(\"c1f1ffcd-8e84-4cb5-a1eb-0261be9ff62b\")) {                    Plotly.newPlot(                        \"c1f1ffcd-8e84-4cb5-a1eb-0261be9ff62b\",                        [{\"x\":[1,2,3,4,5,6,7,8,9,10],\"y\":[53.572818113254144,36.80707243697299,31.79154909607591,28.441351045375143,25.96056031099392,23.87844136533119,22.583960654592566,21.413075405767913,20.537441738383887,19.834093156241188],\"type\":\"scatter\"}],                        {\"template\":{\"data\":{\"histogram2dcontour\":[{\"type\":\"histogram2dcontour\",\"colorbar\":{\"outlinewidth\":0,\"ticks\":\"\"},\"colorscale\":[[0.0,\"#0d0887\"],[0.1111111111111111,\"#46039f\"],[0.2222222222222222,\"#7201a8\"],[0.3333333333333333,\"#9c179e\"],[0.4444444444444444,\"#bd3786\"],[0.5555555555555556,\"#d8576b\"],[0.6666666666666666,\"#ed7953\"],[0.7777777777777778,\"#fb9f3a\"],[0.8888888888888888,\"#fdca26\"],[1.0,\"#f0f921\"]]}],\"choropleth\":[{\"type\":\"choropleth\",\"colorbar\":{\"outlinewidth\":0,\"ticks\":\"\"}}],\"histogram2d\":[{\"type\":\"histogram2d\",\"colorbar\":{\"outlinewidth\":0,\"ticks\":\"\"},\"colorscale\":[[0.0,\"#0d0887\"],[0.1111111111111111,\"#46039f\"],[0.2222222222222222,\"#7201a8\"],[0.3333333333333333,\"#9c179e\"],[0.4444444444444444,\"#bd3786\"],[0.5555555555555556,\"#d8576b\"],[0.6666666666666666,\"#ed7953\"],[0.7777777777777778,\"#fb9f3a\"],[0.8888888888888888,\"#fdca26\"],[1.0,\"#f0f921\"]]}],\"heatmap\":[{\"type\":\"heatmap\",\"colorbar\":{\"outlinewidth\":0,\"ticks\":\"\"},\"colorscale\":[[0.0,\"#0d0887\"],[0.1111111111111111,\"#46039f\"],[0.2222222222222222,\"#7201a8\"],[0.3333333333333333,\"#9c179e\"],[0.4444444444444444,\"#bd3786\"],[0.5555555555555556,\"#d8576b\"],[0.6666666666666666,\"#ed7953\"],[0.7777777777777778,\"#fb9f3a\"],[0.8888888888888888,\"#fdca26\"],[1.0,\"#f0f921\"]]}],\"heatmapgl\":[{\"type\":\"heatmapgl\",\"colorbar\":{\"outlinewidth\":0,\"ticks\":\"\"},\"colorscale\":[[0.0,\"#0d0887\"],[0.1111111111111111,\"#46039f\"],[0.2222222222222222,\"#7201a8\"],[0.3333333333333333,\"#9c179e\"],[0.4444444444444444,\"#bd3786\"],[0.5555555555555556,\"#d8576b\"],[0.6666666666666666,\"#ed7953\"],[0.7777777777777778,\"#fb9f3a\"],[0.8888888888888888,\"#fdca26\"],[1.0,\"#f0f921\"]]}],\"contourcarpet\":[{\"type\":\"contourcarpet\",\"colorbar\":{\"outlinewidth\":0,\"ticks\":\"\"}}],\"contour\":[{\"type\":\"contour\",\"colorbar\":{\"outlinewidth\":0,\"ticks\":\"\"},\"colorscale\":[[0.0,\"#0d0887\"],[0.1111111111111111,\"#46039f\"],[0.2222222222222222,\"#7201a8\"],[0.3333333333333333,\"#9c179e\"],[0.4444444444444444,\"#bd3786\"],[0.5555555555555556,\"#d8576b\"],[0.6666666666666666,\"#ed7953\"],[0.7777777777777778,\"#fb9f3a\"],[0.8888888888888888,\"#fdca26\"],[1.0,\"#f0f921\"]]}],\"surface\":[{\"type\":\"surface\",\"colorbar\":{\"outlinewidth\":0,\"ticks\":\"\"},\"colorscale\":[[0.0,\"#0d0887\"],[0.1111111111111111,\"#46039f\"],[0.2222222222222222,\"#7201a8\"],[0.3333333333333333,\"#9c179e\"],[0.4444444444444444,\"#bd3786\"],[0.5555555555555556,\"#d8576b\"],[0.6666666666666666,\"#ed7953\"],[0.7777777777777778,\"#fb9f3a\"],[0.8888888888888888,\"#fdca26\"],[1.0,\"#f0f921\"]]}],\"mesh3d\":[{\"type\":\"mesh3d\",\"colorbar\":{\"outlinewidth\":0,\"ticks\":\"\"}}],\"scatter\":[{\"marker\":{\"line\":{\"color\":\"#283442\"}},\"type\":\"scatter\"}],\"parcoords\":[{\"type\":\"parcoords\",\"line\":{\"colorbar\":{\"outlinewidth\":0,\"ticks\":\"\"}}}],\"scatterpolargl\":[{\"type\":\"scatterpolargl\",\"marker\":{\"colorbar\":{\"outlinewidth\":0,\"ticks\":\"\"}}}],\"bar\":[{\"error_x\":{\"color\":\"#f2f5fa\"},\"error_y\":{\"color\":\"#f2f5fa\"},\"marker\":{\"line\":{\"color\":\"rgb(17,17,17)\",\"width\":0.5},\"pattern\":{\"fillmode\":\"overlay\",\"size\":10,\"solidity\":0.2}},\"type\":\"bar\"}],\"scattergeo\":[{\"type\":\"scattergeo\",\"marker\":{\"colorbar\":{\"outlinewidth\":0,\"ticks\":\"\"}}}],\"scatterpolar\":[{\"type\":\"scatterpolar\",\"marker\":{\"colorbar\":{\"outlinewidth\":0,\"ticks\":\"\"}}}],\"histogram\":[{\"marker\":{\"pattern\":{\"fillmode\":\"overlay\",\"size\":10,\"solidity\":0.2}},\"type\":\"histogram\"}],\"scattergl\":[{\"marker\":{\"line\":{\"color\":\"#283442\"}},\"type\":\"scattergl\"}],\"scatter3d\":[{\"type\":\"scatter3d\",\"line\":{\"colorbar\":{\"outlinewidth\":0,\"ticks\":\"\"}},\"marker\":{\"colorbar\":{\"outlinewidth\":0,\"ticks\":\"\"}}}],\"scattermapbox\":[{\"type\":\"scattermapbox\",\"marker\":{\"colorbar\":{\"outlinewidth\":0,\"ticks\":\"\"}}}],\"scatterternary\":[{\"type\":\"scatterternary\",\"marker\":{\"colorbar\":{\"outlinewidth\":0,\"ticks\":\"\"}}}],\"scattercarpet\":[{\"type\":\"scattercarpet\",\"marker\":{\"colorbar\":{\"outlinewidth\":0,\"ticks\":\"\"}}}],\"carpet\":[{\"aaxis\":{\"endlinecolor\":\"#A2B1C6\",\"gridcolor\":\"#506784\",\"linecolor\":\"#506784\",\"minorgridcolor\":\"#506784\",\"startlinecolor\":\"#A2B1C6\"},\"baxis\":{\"endlinecolor\":\"#A2B1C6\",\"gridcolor\":\"#506784\",\"linecolor\":\"#506784\",\"minorgridcolor\":\"#506784\",\"startlinecolor\":\"#A2B1C6\"},\"type\":\"carpet\"}],\"table\":[{\"cells\":{\"fill\":{\"color\":\"#506784\"},\"line\":{\"color\":\"rgb(17,17,17)\"}},\"header\":{\"fill\":{\"color\":\"#2a3f5f\"},\"line\":{\"color\":\"rgb(17,17,17)\"}},\"type\":\"table\"}],\"barpolar\":[{\"marker\":{\"line\":{\"color\":\"rgb(17,17,17)\",\"width\":0.5},\"pattern\":{\"fillmode\":\"overlay\",\"size\":10,\"solidity\":0.2}},\"type\":\"barpolar\"}],\"pie\":[{\"automargin\":true,\"type\":\"pie\"}]},\"layout\":{\"autotypenumbers\":\"strict\",\"colorway\":[\"#636efa\",\"#EF553B\",\"#00cc96\",\"#ab63fa\",\"#FFA15A\",\"#19d3f3\",\"#FF6692\",\"#B6E880\",\"#FF97FF\",\"#FECB52\"],\"font\":{\"color\":\"#f2f5fa\"},\"hovermode\":\"closest\",\"hoverlabel\":{\"align\":\"left\"},\"paper_bgcolor\":\"rgb(17,17,17)\",\"plot_bgcolor\":\"rgb(17,17,17)\",\"polar\":{\"bgcolor\":\"rgb(17,17,17)\",\"angularaxis\":{\"gridcolor\":\"#506784\",\"linecolor\":\"#506784\",\"ticks\":\"\"},\"radialaxis\":{\"gridcolor\":\"#506784\",\"linecolor\":\"#506784\",\"ticks\":\"\"}},\"ternary\":{\"bgcolor\":\"rgb(17,17,17)\",\"aaxis\":{\"gridcolor\":\"#506784\",\"linecolor\":\"#506784\",\"ticks\":\"\"},\"baxis\":{\"gridcolor\":\"#506784\",\"linecolor\":\"#506784\",\"ticks\":\"\"},\"caxis\":{\"gridcolor\":\"#506784\",\"linecolor\":\"#506784\",\"ticks\":\"\"}},\"coloraxis\":{\"colorbar\":{\"outlinewidth\":0,\"ticks\":\"\"}},\"colorscale\":{\"sequential\":[[0.0,\"#0d0887\"],[0.1111111111111111,\"#46039f\"],[0.2222222222222222,\"#7201a8\"],[0.3333333333333333,\"#9c179e\"],[0.4444444444444444,\"#bd3786\"],[0.5555555555555556,\"#d8576b\"],[0.6666666666666666,\"#ed7953\"],[0.7777777777777778,\"#fb9f3a\"],[0.8888888888888888,\"#fdca26\"],[1.0,\"#f0f921\"]],\"sequentialminus\":[[0.0,\"#0d0887\"],[0.1111111111111111,\"#46039f\"],[0.2222222222222222,\"#7201a8\"],[0.3333333333333333,\"#9c179e\"],[0.4444444444444444,\"#bd3786\"],[0.5555555555555556,\"#d8576b\"],[0.6666666666666666,\"#ed7953\"],[0.7777777777777778,\"#fb9f3a\"],[0.8888888888888888,\"#fdca26\"],[1.0,\"#f0f921\"]],\"diverging\":[[0,\"#8e0152\"],[0.1,\"#c51b7d\"],[0.2,\"#de77ae\"],[0.3,\"#f1b6da\"],[0.4,\"#fde0ef\"],[0.5,\"#f7f7f7\"],[0.6,\"#e6f5d0\"],[0.7,\"#b8e186\"],[0.8,\"#7fbc41\"],[0.9,\"#4d9221\"],[1,\"#276419\"]]},\"xaxis\":{\"gridcolor\":\"#283442\",\"linecolor\":\"#506784\",\"ticks\":\"\",\"title\":{\"standoff\":15},\"zerolinecolor\":\"#283442\",\"automargin\":true,\"zerolinewidth\":2},\"yaxis\":{\"gridcolor\":\"#283442\",\"linecolor\":\"#506784\",\"ticks\":\"\",\"title\":{\"standoff\":15},\"zerolinecolor\":\"#283442\",\"automargin\":true,\"zerolinewidth\":2},\"scene\":{\"xaxis\":{\"backgroundcolor\":\"rgb(17,17,17)\",\"gridcolor\":\"#506784\",\"linecolor\":\"#506784\",\"showbackground\":true,\"ticks\":\"\",\"zerolinecolor\":\"#C8D4E3\",\"gridwidth\":2},\"yaxis\":{\"backgroundcolor\":\"rgb(17,17,17)\",\"gridcolor\":\"#506784\",\"linecolor\":\"#506784\",\"showbackground\":true,\"ticks\":\"\",\"zerolinecolor\":\"#C8D4E3\",\"gridwidth\":2},\"zaxis\":{\"backgroundcolor\":\"rgb(17,17,17)\",\"gridcolor\":\"#506784\",\"linecolor\":\"#506784\",\"showbackground\":true,\"ticks\":\"\",\"zerolinecolor\":\"#C8D4E3\",\"gridwidth\":2}},\"shapedefaults\":{\"line\":{\"color\":\"#f2f5fa\"}},\"annotationdefaults\":{\"arrowcolor\":\"#f2f5fa\",\"arrowhead\":0,\"arrowwidth\":1},\"geo\":{\"bgcolor\":\"rgb(17,17,17)\",\"landcolor\":\"rgb(17,17,17)\",\"subunitcolor\":\"#506784\",\"showland\":true,\"showlakes\":true,\"lakecolor\":\"rgb(17,17,17)\"},\"title\":{\"x\":0.05},\"updatemenudefaults\":{\"bgcolor\":\"#506784\",\"borderwidth\":0},\"sliderdefaults\":{\"bgcolor\":\"#C8D4E3\",\"borderwidth\":1,\"bordercolor\":\"rgb(17,17,17)\",\"tickwidth\":0},\"mapbox\":{\"style\":\"dark\"}}},\"xaxis\":{\"range\":[0,11],\"title\":{\"text\":\"Cluster Number\"}},\"title\":{\"text\":\"Inertia vs Cluster Number\"},\"yaxis\":{\"title\":{\"text\":\"Inertia\"}},\"annotations\":[{\"arrowhead\":7,\"ax\":20,\"ay\":-40,\"showarrow\":true,\"text\":\"Elbow!\",\"x\":3,\"xref\":\"x\",\"y\":31.79154909607591,\"yref\":\"y\"}]},                        {\"responsive\": true}                    ).then(function(){\n                            \nvar gd = document.getElementById('c1f1ffcd-8e84-4cb5-a1eb-0261be9ff62b');\nvar x = new MutationObserver(function (mutations, observer) {{\n        var display = window.getComputedStyle(gd).display;\n        if (!display || display === 'none') {{\n            console.log([gd, 'removed!']);\n            Plotly.purge(gd);\n            observer.disconnect();\n        }}\n}});\n\n// Listen for the removal of the full notebook cells\nvar notebookContainer = gd.closest('#notebook-container');\nif (notebookContainer) {{\n    x.observe(notebookContainer, {childList: true});\n}}\n\n// Listen for the clearing of the current output cell\nvar outputEl = gd.closest('.output');\nif (outputEl) {{\n    x.observe(outputEl, {childList: true});\n}}\n\n                        })                };                });            </script>        </div>"
     },
     "metadata": {},
     "output_type": "display_data"
    }
   ],
   "source": [
    "fig = go.Figure(data=go.Scatter(x=np.arange(1,11),y=inertia))\n",
    "fig.update_layout(title=\"Inertia vs Cluster Number\",xaxis=dict(range=[0,11],title=\"Cluster Number\"),\n",
    "                  yaxis={'title':'Inertia'},\n",
    "                 annotations=[\n",
    "        dict(\n",
    "            x=3,\n",
    "            y=inertia[2],\n",
    "            xref=\"x\",\n",
    "            yref=\"y\",\n",
    "            text=\"Elbow!\",\n",
    "            showarrow=True,\n",
    "            arrowhead=7,\n",
    "            ax=20,\n",
    "            ay=-40\n",
    "        )\n",
    "    ])"
   ],
   "metadata": {
    "collapsed": false,
    "pycharm": {
     "name": "#%%\n"
    }
   }
  },
  {
   "cell_type": "code",
   "execution_count": 168,
   "outputs": [],
   "source": [
    "kmeans = KMeans(\n",
    "        n_clusters=3, init=\"k-means++\",\n",
    "        n_init=10,\n",
    "        tol=1e-04, random_state=42\n",
    "    )"
   ],
   "metadata": {
    "collapsed": false,
    "pycharm": {
     "name": "#%%\n"
    }
   }
  },
  {
   "cell_type": "code",
   "execution_count": 169,
   "outputs": [
    {
     "name": "stderr",
     "output_type": "stream",
     "text": [
      "/Users/mhd/opt/anaconda3/lib/python3.8/site-packages/plotly/express/_core.py:271: FutureWarning:\n",
      "\n",
      "The frame.append method is deprecated and will be removed from pandas in a future version. Use pandas.concat instead.\n",
      "\n",
      "/Users/mhd/opt/anaconda3/lib/python3.8/site-packages/plotly/express/_core.py:271: FutureWarning:\n",
      "\n",
      "The frame.append method is deprecated and will be removed from pandas in a future version. Use pandas.concat instead.\n",
      "\n",
      "/Users/mhd/opt/anaconda3/lib/python3.8/site-packages/plotly/express/_core.py:271: FutureWarning:\n",
      "\n",
      "The frame.append method is deprecated and will be removed from pandas in a future version. Use pandas.concat instead.\n",
      "\n"
     ]
    },
    {
     "data": {
      "application/vnd.plotly.v1+json": {
       "data": [
        {
         "hovertemplate": "label=0<br>value=%{r}<br>variable=%{theta}<extra></extra>",
         "legendgroup": "0",
         "line": {
          "color": "#636efa",
          "dash": "solid"
         },
         "marker": {
          "symbol": "circle"
         },
         "mode": "lines",
         "name": "0",
         "r": [
          0.23464858133041547,
          0.8908754869633061,
          0.15216664963270365,
          0.2769012502833306,
          0.05210390347195593,
          0.010776559301675342,
          0.02760070008559245,
          0.14610960549862023,
          0.02158395874079799,
          0.006522460757734125,
          0.10811424170269517,
          0.08642553921667438,
          0.006543380323224609,
          0.010085540930353706,
          0.004694128631446405,
          0.007732843620933997,
          0.0074147227106961386,
          5.021026278601706E-5,
          0.23464858133041547
         ],
         "showlegend": true,
         "subplot": "polar",
         "theta": [
          "G",
          "AB",
          "R",
          "H",
          "2B",
          "3B",
          "HR",
          "RBI",
          "SB",
          "CS",
          "BB",
          "SO",
          "HBP",
          "SH",
          "SF",
          "WAR",
          "oWAR",
          "dWAR",
          "G"
         ],
         "type": "scatterpolar"
        },
        {
         "hovertemplate": "label=1<br>value=%{r}<br>variable=%{theta}<extra></extra>",
         "legendgroup": "1",
         "line": {
          "color": "#EF553B",
          "dash": "solid"
         },
         "marker": {
          "symbol": "circle"
         },
         "mode": "lines",
         "name": "1",
         "r": [
          0.2392344383701247,
          0.8902094360525414,
          0.13470965307648738,
          0.2419342890422429,
          0.046910302956535255,
          0.005436415443031645,
          0.0390702102295841,
          0.13772405937660978,
          0.01535579730733976,
          0.006478967118392179,
          0.0989390424780951,
          0.18636293772554144,
          0.008334811417637786,
          0.0028240775155826516,
          0.007749993783510748,
          0.00531571838241861,
          0.005199575891695333,
          -1.7562899865374696E-4,
          0.2392344383701247
         ],
         "showlegend": true,
         "subplot": "polar",
         "theta": [
          "G",
          "AB",
          "R",
          "H",
          "2B",
          "3B",
          "HR",
          "RBI",
          "SB",
          "CS",
          "BB",
          "SO",
          "HBP",
          "SH",
          "SF",
          "WAR",
          "oWAR",
          "dWAR",
          "G"
         ],
         "type": "scatterpolar"
        },
        {
         "hovertemplate": "label=2<br>value=%{r}<br>variable=%{theta}<extra></extra>",
         "legendgroup": "2",
         "line": {
          "color": "#00cc96",
          "dash": "solid"
         },
         "marker": {
          "symbol": "circle"
         },
         "mode": "lines",
         "name": "2",
         "r": [
          0.23991082659653679,
          0.9146215397417903,
          0.11786064622173965,
          0.25195958072119234,
          0.040536677847665015,
          0.010088708249796727,
          0.010316475140811495,
          0.09278981151636942,
          0.02481241755375925,
          0.007755914186559559,
          0.07115293684464664,
          0.08372440421001345,
          0.0057790450646669515,
          0.01780332082295067,
          0.0034433162986032655,
          0.0037298861948925387,
          0.003446546547831149,
          5.52554702554876E-4,
          0.23991082659653679
         ],
         "showlegend": true,
         "subplot": "polar",
         "theta": [
          "G",
          "AB",
          "R",
          "H",
          "2B",
          "3B",
          "HR",
          "RBI",
          "SB",
          "CS",
          "BB",
          "SO",
          "HBP",
          "SH",
          "SF",
          "WAR",
          "oWAR",
          "dWAR",
          "G"
         ],
         "type": "scatterpolar"
        }
       ],
       "layout": {
        "template": {
         "data": {
          "histogram2dcontour": [
           {
            "type": "histogram2dcontour",
            "colorbar": {
             "outlinewidth": 0,
             "ticks": ""
            },
            "colorscale": [
             [
              0.0,
              "#0d0887"
             ],
             [
              0.1111111111111111,
              "#46039f"
             ],
             [
              0.2222222222222222,
              "#7201a8"
             ],
             [
              0.3333333333333333,
              "#9c179e"
             ],
             [
              0.4444444444444444,
              "#bd3786"
             ],
             [
              0.5555555555555556,
              "#d8576b"
             ],
             [
              0.6666666666666666,
              "#ed7953"
             ],
             [
              0.7777777777777778,
              "#fb9f3a"
             ],
             [
              0.8888888888888888,
              "#fdca26"
             ],
             [
              1.0,
              "#f0f921"
             ]
            ]
           }
          ],
          "choropleth": [
           {
            "type": "choropleth",
            "colorbar": {
             "outlinewidth": 0,
             "ticks": ""
            }
           }
          ],
          "histogram2d": [
           {
            "type": "histogram2d",
            "colorbar": {
             "outlinewidth": 0,
             "ticks": ""
            },
            "colorscale": [
             [
              0.0,
              "#0d0887"
             ],
             [
              0.1111111111111111,
              "#46039f"
             ],
             [
              0.2222222222222222,
              "#7201a8"
             ],
             [
              0.3333333333333333,
              "#9c179e"
             ],
             [
              0.4444444444444444,
              "#bd3786"
             ],
             [
              0.5555555555555556,
              "#d8576b"
             ],
             [
              0.6666666666666666,
              "#ed7953"
             ],
             [
              0.7777777777777778,
              "#fb9f3a"
             ],
             [
              0.8888888888888888,
              "#fdca26"
             ],
             [
              1.0,
              "#f0f921"
             ]
            ]
           }
          ],
          "heatmap": [
           {
            "type": "heatmap",
            "colorbar": {
             "outlinewidth": 0,
             "ticks": ""
            },
            "colorscale": [
             [
              0.0,
              "#0d0887"
             ],
             [
              0.1111111111111111,
              "#46039f"
             ],
             [
              0.2222222222222222,
              "#7201a8"
             ],
             [
              0.3333333333333333,
              "#9c179e"
             ],
             [
              0.4444444444444444,
              "#bd3786"
             ],
             [
              0.5555555555555556,
              "#d8576b"
             ],
             [
              0.6666666666666666,
              "#ed7953"
             ],
             [
              0.7777777777777778,
              "#fb9f3a"
             ],
             [
              0.8888888888888888,
              "#fdca26"
             ],
             [
              1.0,
              "#f0f921"
             ]
            ]
           }
          ],
          "heatmapgl": [
           {
            "type": "heatmapgl",
            "colorbar": {
             "outlinewidth": 0,
             "ticks": ""
            },
            "colorscale": [
             [
              0.0,
              "#0d0887"
             ],
             [
              0.1111111111111111,
              "#46039f"
             ],
             [
              0.2222222222222222,
              "#7201a8"
             ],
             [
              0.3333333333333333,
              "#9c179e"
             ],
             [
              0.4444444444444444,
              "#bd3786"
             ],
             [
              0.5555555555555556,
              "#d8576b"
             ],
             [
              0.6666666666666666,
              "#ed7953"
             ],
             [
              0.7777777777777778,
              "#fb9f3a"
             ],
             [
              0.8888888888888888,
              "#fdca26"
             ],
             [
              1.0,
              "#f0f921"
             ]
            ]
           }
          ],
          "contourcarpet": [
           {
            "type": "contourcarpet",
            "colorbar": {
             "outlinewidth": 0,
             "ticks": ""
            }
           }
          ],
          "contour": [
           {
            "type": "contour",
            "colorbar": {
             "outlinewidth": 0,
             "ticks": ""
            },
            "colorscale": [
             [
              0.0,
              "#0d0887"
             ],
             [
              0.1111111111111111,
              "#46039f"
             ],
             [
              0.2222222222222222,
              "#7201a8"
             ],
             [
              0.3333333333333333,
              "#9c179e"
             ],
             [
              0.4444444444444444,
              "#bd3786"
             ],
             [
              0.5555555555555556,
              "#d8576b"
             ],
             [
              0.6666666666666666,
              "#ed7953"
             ],
             [
              0.7777777777777778,
              "#fb9f3a"
             ],
             [
              0.8888888888888888,
              "#fdca26"
             ],
             [
              1.0,
              "#f0f921"
             ]
            ]
           }
          ],
          "surface": [
           {
            "type": "surface",
            "colorbar": {
             "outlinewidth": 0,
             "ticks": ""
            },
            "colorscale": [
             [
              0.0,
              "#0d0887"
             ],
             [
              0.1111111111111111,
              "#46039f"
             ],
             [
              0.2222222222222222,
              "#7201a8"
             ],
             [
              0.3333333333333333,
              "#9c179e"
             ],
             [
              0.4444444444444444,
              "#bd3786"
             ],
             [
              0.5555555555555556,
              "#d8576b"
             ],
             [
              0.6666666666666666,
              "#ed7953"
             ],
             [
              0.7777777777777778,
              "#fb9f3a"
             ],
             [
              0.8888888888888888,
              "#fdca26"
             ],
             [
              1.0,
              "#f0f921"
             ]
            ]
           }
          ],
          "mesh3d": [
           {
            "type": "mesh3d",
            "colorbar": {
             "outlinewidth": 0,
             "ticks": ""
            }
           }
          ],
          "scatter": [
           {
            "marker": {
             "line": {
              "color": "#283442"
             }
            },
            "type": "scatter"
           }
          ],
          "parcoords": [
           {
            "type": "parcoords",
            "line": {
             "colorbar": {
              "outlinewidth": 0,
              "ticks": ""
             }
            }
           }
          ],
          "scatterpolargl": [
           {
            "type": "scatterpolargl",
            "marker": {
             "colorbar": {
              "outlinewidth": 0,
              "ticks": ""
             }
            }
           }
          ],
          "bar": [
           {
            "error_x": {
             "color": "#f2f5fa"
            },
            "error_y": {
             "color": "#f2f5fa"
            },
            "marker": {
             "line": {
              "color": "rgb(17,17,17)",
              "width": 0.5
             },
             "pattern": {
              "fillmode": "overlay",
              "size": 10,
              "solidity": 0.2
             }
            },
            "type": "bar"
           }
          ],
          "scattergeo": [
           {
            "type": "scattergeo",
            "marker": {
             "colorbar": {
              "outlinewidth": 0,
              "ticks": ""
             }
            }
           }
          ],
          "scatterpolar": [
           {
            "type": "scatterpolar",
            "marker": {
             "colorbar": {
              "outlinewidth": 0,
              "ticks": ""
             }
            }
           }
          ],
          "histogram": [
           {
            "marker": {
             "pattern": {
              "fillmode": "overlay",
              "size": 10,
              "solidity": 0.2
             }
            },
            "type": "histogram"
           }
          ],
          "scattergl": [
           {
            "marker": {
             "line": {
              "color": "#283442"
             }
            },
            "type": "scattergl"
           }
          ],
          "scatter3d": [
           {
            "type": "scatter3d",
            "line": {
             "colorbar": {
              "outlinewidth": 0,
              "ticks": ""
             }
            },
            "marker": {
             "colorbar": {
              "outlinewidth": 0,
              "ticks": ""
             }
            }
           }
          ],
          "scattermapbox": [
           {
            "type": "scattermapbox",
            "marker": {
             "colorbar": {
              "outlinewidth": 0,
              "ticks": ""
             }
            }
           }
          ],
          "scatterternary": [
           {
            "type": "scatterternary",
            "marker": {
             "colorbar": {
              "outlinewidth": 0,
              "ticks": ""
             }
            }
           }
          ],
          "scattercarpet": [
           {
            "type": "scattercarpet",
            "marker": {
             "colorbar": {
              "outlinewidth": 0,
              "ticks": ""
             }
            }
           }
          ],
          "carpet": [
           {
            "aaxis": {
             "endlinecolor": "#A2B1C6",
             "gridcolor": "#506784",
             "linecolor": "#506784",
             "minorgridcolor": "#506784",
             "startlinecolor": "#A2B1C6"
            },
            "baxis": {
             "endlinecolor": "#A2B1C6",
             "gridcolor": "#506784",
             "linecolor": "#506784",
             "minorgridcolor": "#506784",
             "startlinecolor": "#A2B1C6"
            },
            "type": "carpet"
           }
          ],
          "table": [
           {
            "cells": {
             "fill": {
              "color": "#506784"
             },
             "line": {
              "color": "rgb(17,17,17)"
             }
            },
            "header": {
             "fill": {
              "color": "#2a3f5f"
             },
             "line": {
              "color": "rgb(17,17,17)"
             }
            },
            "type": "table"
           }
          ],
          "barpolar": [
           {
            "marker": {
             "line": {
              "color": "rgb(17,17,17)",
              "width": 0.5
             },
             "pattern": {
              "fillmode": "overlay",
              "size": 10,
              "solidity": 0.2
             }
            },
            "type": "barpolar"
           }
          ],
          "pie": [
           {
            "automargin": true,
            "type": "pie"
           }
          ]
         },
         "layout": {
          "autotypenumbers": "strict",
          "colorway": [
           "#636efa",
           "#EF553B",
           "#00cc96",
           "#ab63fa",
           "#FFA15A",
           "#19d3f3",
           "#FF6692",
           "#B6E880",
           "#FF97FF",
           "#FECB52"
          ],
          "font": {
           "color": "#f2f5fa"
          },
          "hovermode": "closest",
          "hoverlabel": {
           "align": "left"
          },
          "paper_bgcolor": "rgb(17,17,17)",
          "plot_bgcolor": "rgb(17,17,17)",
          "polar": {
           "bgcolor": "rgb(17,17,17)",
           "angularaxis": {
            "gridcolor": "#506784",
            "linecolor": "#506784",
            "ticks": ""
           },
           "radialaxis": {
            "gridcolor": "#506784",
            "linecolor": "#506784",
            "ticks": ""
           }
          },
          "ternary": {
           "bgcolor": "rgb(17,17,17)",
           "aaxis": {
            "gridcolor": "#506784",
            "linecolor": "#506784",
            "ticks": ""
           },
           "baxis": {
            "gridcolor": "#506784",
            "linecolor": "#506784",
            "ticks": ""
           },
           "caxis": {
            "gridcolor": "#506784",
            "linecolor": "#506784",
            "ticks": ""
           }
          },
          "coloraxis": {
           "colorbar": {
            "outlinewidth": 0,
            "ticks": ""
           }
          },
          "colorscale": {
           "sequential": [
            [
             0.0,
             "#0d0887"
            ],
            [
             0.1111111111111111,
             "#46039f"
            ],
            [
             0.2222222222222222,
             "#7201a8"
            ],
            [
             0.3333333333333333,
             "#9c179e"
            ],
            [
             0.4444444444444444,
             "#bd3786"
            ],
            [
             0.5555555555555556,
             "#d8576b"
            ],
            [
             0.6666666666666666,
             "#ed7953"
            ],
            [
             0.7777777777777778,
             "#fb9f3a"
            ],
            [
             0.8888888888888888,
             "#fdca26"
            ],
            [
             1.0,
             "#f0f921"
            ]
           ],
           "sequentialminus": [
            [
             0.0,
             "#0d0887"
            ],
            [
             0.1111111111111111,
             "#46039f"
            ],
            [
             0.2222222222222222,
             "#7201a8"
            ],
            [
             0.3333333333333333,
             "#9c179e"
            ],
            [
             0.4444444444444444,
             "#bd3786"
            ],
            [
             0.5555555555555556,
             "#d8576b"
            ],
            [
             0.6666666666666666,
             "#ed7953"
            ],
            [
             0.7777777777777778,
             "#fb9f3a"
            ],
            [
             0.8888888888888888,
             "#fdca26"
            ],
            [
             1.0,
             "#f0f921"
            ]
           ],
           "diverging": [
            [
             0,
             "#8e0152"
            ],
            [
             0.1,
             "#c51b7d"
            ],
            [
             0.2,
             "#de77ae"
            ],
            [
             0.3,
             "#f1b6da"
            ],
            [
             0.4,
             "#fde0ef"
            ],
            [
             0.5,
             "#f7f7f7"
            ],
            [
             0.6,
             "#e6f5d0"
            ],
            [
             0.7,
             "#b8e186"
            ],
            [
             0.8,
             "#7fbc41"
            ],
            [
             0.9,
             "#4d9221"
            ],
            [
             1,
             "#276419"
            ]
           ]
          },
          "xaxis": {
           "gridcolor": "#283442",
           "linecolor": "#506784",
           "ticks": "",
           "title": {
            "standoff": 15
           },
           "zerolinecolor": "#283442",
           "automargin": true,
           "zerolinewidth": 2
          },
          "yaxis": {
           "gridcolor": "#283442",
           "linecolor": "#506784",
           "ticks": "",
           "title": {
            "standoff": 15
           },
           "zerolinecolor": "#283442",
           "automargin": true,
           "zerolinewidth": 2
          },
          "scene": {
           "xaxis": {
            "backgroundcolor": "rgb(17,17,17)",
            "gridcolor": "#506784",
            "linecolor": "#506784",
            "showbackground": true,
            "ticks": "",
            "zerolinecolor": "#C8D4E3",
            "gridwidth": 2
           },
           "yaxis": {
            "backgroundcolor": "rgb(17,17,17)",
            "gridcolor": "#506784",
            "linecolor": "#506784",
            "showbackground": true,
            "ticks": "",
            "zerolinecolor": "#C8D4E3",
            "gridwidth": 2
           },
           "zaxis": {
            "backgroundcolor": "rgb(17,17,17)",
            "gridcolor": "#506784",
            "linecolor": "#506784",
            "showbackground": true,
            "ticks": "",
            "zerolinecolor": "#C8D4E3",
            "gridwidth": 2
           }
          },
          "shapedefaults": {
           "line": {
            "color": "#f2f5fa"
           }
          },
          "annotationdefaults": {
           "arrowcolor": "#f2f5fa",
           "arrowhead": 0,
           "arrowwidth": 1
          },
          "geo": {
           "bgcolor": "rgb(17,17,17)",
           "landcolor": "rgb(17,17,17)",
           "subunitcolor": "#506784",
           "showland": true,
           "showlakes": true,
           "lakecolor": "rgb(17,17,17)"
          },
          "title": {
           "x": 0.05
          },
          "updatemenudefaults": {
           "bgcolor": "#506784",
           "borderwidth": 0
          },
          "sliderdefaults": {
           "bgcolor": "#C8D4E3",
           "borderwidth": 1,
           "bordercolor": "rgb(17,17,17)",
           "tickwidth": 0
          },
          "mapbox": {
           "style": "dark"
          }
         }
        },
        "polar": {
         "domain": {
          "x": [
           0.0,
           1.0
          ],
          "y": [
           0.0,
           1.0
          ]
         },
         "angularaxis": {
          "direction": "clockwise",
          "rotation": 90
         }
        },
        "legend": {
         "title": {
          "text": "label"
         },
         "tracegroupgap": 0
        },
        "margin": {
         "t": 60
        },
        "height": 800,
        "width": 1200
       },
       "config": {
        "plotlyServerURL": "https://plot.ly"
       }
      },
      "text/html": "<div>                            <div id=\"d987b13b-a418-49d4-bc52-5935a4199023\" class=\"plotly-graph-div\" style=\"height:800px; width:1200px;\"></div>            <script type=\"text/javascript\">                require([\"plotly\"], function(Plotly) {                    window.PLOTLYENV=window.PLOTLYENV || {};                                    if (document.getElementById(\"d987b13b-a418-49d4-bc52-5935a4199023\")) {                    Plotly.newPlot(                        \"d987b13b-a418-49d4-bc52-5935a4199023\",                        [{\"hovertemplate\":\"label=0<br>value=%{r}<br>variable=%{theta}<extra></extra>\",\"legendgroup\":\"0\",\"line\":{\"color\":\"#636efa\",\"dash\":\"solid\"},\"marker\":{\"symbol\":\"circle\"},\"mode\":\"lines\",\"name\":\"0\",\"r\":[0.23464858133041547,0.8908754869633061,0.15216664963270365,0.2769012502833306,0.05210390347195593,0.010776559301675342,0.02760070008559245,0.14610960549862023,0.02158395874079799,0.006522460757734125,0.10811424170269517,0.08642553921667438,0.006543380323224609,0.010085540930353706,0.004694128631446405,0.007732843620933997,0.0074147227106961386,5.021026278601706e-05,0.23464858133041547],\"showlegend\":true,\"subplot\":\"polar\",\"theta\":[\"G\",\"AB\",\"R\",\"H\",\"2B\",\"3B\",\"HR\",\"RBI\",\"SB\",\"CS\",\"BB\",\"SO\",\"HBP\",\"SH\",\"SF\",\"WAR\",\"oWAR\",\"dWAR\",\"G\"],\"type\":\"scatterpolar\"},{\"hovertemplate\":\"label=1<br>value=%{r}<br>variable=%{theta}<extra></extra>\",\"legendgroup\":\"1\",\"line\":{\"color\":\"#EF553B\",\"dash\":\"solid\"},\"marker\":{\"symbol\":\"circle\"},\"mode\":\"lines\",\"name\":\"1\",\"r\":[0.2392344383701247,0.8902094360525414,0.13470965307648738,0.2419342890422429,0.046910302956535255,0.005436415443031645,0.0390702102295841,0.13772405937660978,0.01535579730733976,0.006478967118392179,0.0989390424780951,0.18636293772554144,0.008334811417637786,0.0028240775155826516,0.007749993783510748,0.00531571838241861,0.005199575891695333,-0.00017562899865374696,0.2392344383701247],\"showlegend\":true,\"subplot\":\"polar\",\"theta\":[\"G\",\"AB\",\"R\",\"H\",\"2B\",\"3B\",\"HR\",\"RBI\",\"SB\",\"CS\",\"BB\",\"SO\",\"HBP\",\"SH\",\"SF\",\"WAR\",\"oWAR\",\"dWAR\",\"G\"],\"type\":\"scatterpolar\"},{\"hovertemplate\":\"label=2<br>value=%{r}<br>variable=%{theta}<extra></extra>\",\"legendgroup\":\"2\",\"line\":{\"color\":\"#00cc96\",\"dash\":\"solid\"},\"marker\":{\"symbol\":\"circle\"},\"mode\":\"lines\",\"name\":\"2\",\"r\":[0.23991082659653679,0.9146215397417903,0.11786064622173965,0.25195958072119234,0.040536677847665015,0.010088708249796727,0.010316475140811495,0.09278981151636942,0.02481241755375925,0.007755914186559559,0.07115293684464664,0.08372440421001345,0.0057790450646669515,0.01780332082295067,0.0034433162986032655,0.0037298861948925387,0.003446546547831149,0.000552554702554876,0.23991082659653679],\"showlegend\":true,\"subplot\":\"polar\",\"theta\":[\"G\",\"AB\",\"R\",\"H\",\"2B\",\"3B\",\"HR\",\"RBI\",\"SB\",\"CS\",\"BB\",\"SO\",\"HBP\",\"SH\",\"SF\",\"WAR\",\"oWAR\",\"dWAR\",\"G\"],\"type\":\"scatterpolar\"}],                        {\"template\":{\"data\":{\"histogram2dcontour\":[{\"type\":\"histogram2dcontour\",\"colorbar\":{\"outlinewidth\":0,\"ticks\":\"\"},\"colorscale\":[[0.0,\"#0d0887\"],[0.1111111111111111,\"#46039f\"],[0.2222222222222222,\"#7201a8\"],[0.3333333333333333,\"#9c179e\"],[0.4444444444444444,\"#bd3786\"],[0.5555555555555556,\"#d8576b\"],[0.6666666666666666,\"#ed7953\"],[0.7777777777777778,\"#fb9f3a\"],[0.8888888888888888,\"#fdca26\"],[1.0,\"#f0f921\"]]}],\"choropleth\":[{\"type\":\"choropleth\",\"colorbar\":{\"outlinewidth\":0,\"ticks\":\"\"}}],\"histogram2d\":[{\"type\":\"histogram2d\",\"colorbar\":{\"outlinewidth\":0,\"ticks\":\"\"},\"colorscale\":[[0.0,\"#0d0887\"],[0.1111111111111111,\"#46039f\"],[0.2222222222222222,\"#7201a8\"],[0.3333333333333333,\"#9c179e\"],[0.4444444444444444,\"#bd3786\"],[0.5555555555555556,\"#d8576b\"],[0.6666666666666666,\"#ed7953\"],[0.7777777777777778,\"#fb9f3a\"],[0.8888888888888888,\"#fdca26\"],[1.0,\"#f0f921\"]]}],\"heatmap\":[{\"type\":\"heatmap\",\"colorbar\":{\"outlinewidth\":0,\"ticks\":\"\"},\"colorscale\":[[0.0,\"#0d0887\"],[0.1111111111111111,\"#46039f\"],[0.2222222222222222,\"#7201a8\"],[0.3333333333333333,\"#9c179e\"],[0.4444444444444444,\"#bd3786\"],[0.5555555555555556,\"#d8576b\"],[0.6666666666666666,\"#ed7953\"],[0.7777777777777778,\"#fb9f3a\"],[0.8888888888888888,\"#fdca26\"],[1.0,\"#f0f921\"]]}],\"heatmapgl\":[{\"type\":\"heatmapgl\",\"colorbar\":{\"outlinewidth\":0,\"ticks\":\"\"},\"colorscale\":[[0.0,\"#0d0887\"],[0.1111111111111111,\"#46039f\"],[0.2222222222222222,\"#7201a8\"],[0.3333333333333333,\"#9c179e\"],[0.4444444444444444,\"#bd3786\"],[0.5555555555555556,\"#d8576b\"],[0.6666666666666666,\"#ed7953\"],[0.7777777777777778,\"#fb9f3a\"],[0.8888888888888888,\"#fdca26\"],[1.0,\"#f0f921\"]]}],\"contourcarpet\":[{\"type\":\"contourcarpet\",\"colorbar\":{\"outlinewidth\":0,\"ticks\":\"\"}}],\"contour\":[{\"type\":\"contour\",\"colorbar\":{\"outlinewidth\":0,\"ticks\":\"\"},\"colorscale\":[[0.0,\"#0d0887\"],[0.1111111111111111,\"#46039f\"],[0.2222222222222222,\"#7201a8\"],[0.3333333333333333,\"#9c179e\"],[0.4444444444444444,\"#bd3786\"],[0.5555555555555556,\"#d8576b\"],[0.6666666666666666,\"#ed7953\"],[0.7777777777777778,\"#fb9f3a\"],[0.8888888888888888,\"#fdca26\"],[1.0,\"#f0f921\"]]}],\"surface\":[{\"type\":\"surface\",\"colorbar\":{\"outlinewidth\":0,\"ticks\":\"\"},\"colorscale\":[[0.0,\"#0d0887\"],[0.1111111111111111,\"#46039f\"],[0.2222222222222222,\"#7201a8\"],[0.3333333333333333,\"#9c179e\"],[0.4444444444444444,\"#bd3786\"],[0.5555555555555556,\"#d8576b\"],[0.6666666666666666,\"#ed7953\"],[0.7777777777777778,\"#fb9f3a\"],[0.8888888888888888,\"#fdca26\"],[1.0,\"#f0f921\"]]}],\"mesh3d\":[{\"type\":\"mesh3d\",\"colorbar\":{\"outlinewidth\":0,\"ticks\":\"\"}}],\"scatter\":[{\"marker\":{\"line\":{\"color\":\"#283442\"}},\"type\":\"scatter\"}],\"parcoords\":[{\"type\":\"parcoords\",\"line\":{\"colorbar\":{\"outlinewidth\":0,\"ticks\":\"\"}}}],\"scatterpolargl\":[{\"type\":\"scatterpolargl\",\"marker\":{\"colorbar\":{\"outlinewidth\":0,\"ticks\":\"\"}}}],\"bar\":[{\"error_x\":{\"color\":\"#f2f5fa\"},\"error_y\":{\"color\":\"#f2f5fa\"},\"marker\":{\"line\":{\"color\":\"rgb(17,17,17)\",\"width\":0.5},\"pattern\":{\"fillmode\":\"overlay\",\"size\":10,\"solidity\":0.2}},\"type\":\"bar\"}],\"scattergeo\":[{\"type\":\"scattergeo\",\"marker\":{\"colorbar\":{\"outlinewidth\":0,\"ticks\":\"\"}}}],\"scatterpolar\":[{\"type\":\"scatterpolar\",\"marker\":{\"colorbar\":{\"outlinewidth\":0,\"ticks\":\"\"}}}],\"histogram\":[{\"marker\":{\"pattern\":{\"fillmode\":\"overlay\",\"size\":10,\"solidity\":0.2}},\"type\":\"histogram\"}],\"scattergl\":[{\"marker\":{\"line\":{\"color\":\"#283442\"}},\"type\":\"scattergl\"}],\"scatter3d\":[{\"type\":\"scatter3d\",\"line\":{\"colorbar\":{\"outlinewidth\":0,\"ticks\":\"\"}},\"marker\":{\"colorbar\":{\"outlinewidth\":0,\"ticks\":\"\"}}}],\"scattermapbox\":[{\"type\":\"scattermapbox\",\"marker\":{\"colorbar\":{\"outlinewidth\":0,\"ticks\":\"\"}}}],\"scatterternary\":[{\"type\":\"scatterternary\",\"marker\":{\"colorbar\":{\"outlinewidth\":0,\"ticks\":\"\"}}}],\"scattercarpet\":[{\"type\":\"scattercarpet\",\"marker\":{\"colorbar\":{\"outlinewidth\":0,\"ticks\":\"\"}}}],\"carpet\":[{\"aaxis\":{\"endlinecolor\":\"#A2B1C6\",\"gridcolor\":\"#506784\",\"linecolor\":\"#506784\",\"minorgridcolor\":\"#506784\",\"startlinecolor\":\"#A2B1C6\"},\"baxis\":{\"endlinecolor\":\"#A2B1C6\",\"gridcolor\":\"#506784\",\"linecolor\":\"#506784\",\"minorgridcolor\":\"#506784\",\"startlinecolor\":\"#A2B1C6\"},\"type\":\"carpet\"}],\"table\":[{\"cells\":{\"fill\":{\"color\":\"#506784\"},\"line\":{\"color\":\"rgb(17,17,17)\"}},\"header\":{\"fill\":{\"color\":\"#2a3f5f\"},\"line\":{\"color\":\"rgb(17,17,17)\"}},\"type\":\"table\"}],\"barpolar\":[{\"marker\":{\"line\":{\"color\":\"rgb(17,17,17)\",\"width\":0.5},\"pattern\":{\"fillmode\":\"overlay\",\"size\":10,\"solidity\":0.2}},\"type\":\"barpolar\"}],\"pie\":[{\"automargin\":true,\"type\":\"pie\"}]},\"layout\":{\"autotypenumbers\":\"strict\",\"colorway\":[\"#636efa\",\"#EF553B\",\"#00cc96\",\"#ab63fa\",\"#FFA15A\",\"#19d3f3\",\"#FF6692\",\"#B6E880\",\"#FF97FF\",\"#FECB52\"],\"font\":{\"color\":\"#f2f5fa\"},\"hovermode\":\"closest\",\"hoverlabel\":{\"align\":\"left\"},\"paper_bgcolor\":\"rgb(17,17,17)\",\"plot_bgcolor\":\"rgb(17,17,17)\",\"polar\":{\"bgcolor\":\"rgb(17,17,17)\",\"angularaxis\":{\"gridcolor\":\"#506784\",\"linecolor\":\"#506784\",\"ticks\":\"\"},\"radialaxis\":{\"gridcolor\":\"#506784\",\"linecolor\":\"#506784\",\"ticks\":\"\"}},\"ternary\":{\"bgcolor\":\"rgb(17,17,17)\",\"aaxis\":{\"gridcolor\":\"#506784\",\"linecolor\":\"#506784\",\"ticks\":\"\"},\"baxis\":{\"gridcolor\":\"#506784\",\"linecolor\":\"#506784\",\"ticks\":\"\"},\"caxis\":{\"gridcolor\":\"#506784\",\"linecolor\":\"#506784\",\"ticks\":\"\"}},\"coloraxis\":{\"colorbar\":{\"outlinewidth\":0,\"ticks\":\"\"}},\"colorscale\":{\"sequential\":[[0.0,\"#0d0887\"],[0.1111111111111111,\"#46039f\"],[0.2222222222222222,\"#7201a8\"],[0.3333333333333333,\"#9c179e\"],[0.4444444444444444,\"#bd3786\"],[0.5555555555555556,\"#d8576b\"],[0.6666666666666666,\"#ed7953\"],[0.7777777777777778,\"#fb9f3a\"],[0.8888888888888888,\"#fdca26\"],[1.0,\"#f0f921\"]],\"sequentialminus\":[[0.0,\"#0d0887\"],[0.1111111111111111,\"#46039f\"],[0.2222222222222222,\"#7201a8\"],[0.3333333333333333,\"#9c179e\"],[0.4444444444444444,\"#bd3786\"],[0.5555555555555556,\"#d8576b\"],[0.6666666666666666,\"#ed7953\"],[0.7777777777777778,\"#fb9f3a\"],[0.8888888888888888,\"#fdca26\"],[1.0,\"#f0f921\"]],\"diverging\":[[0,\"#8e0152\"],[0.1,\"#c51b7d\"],[0.2,\"#de77ae\"],[0.3,\"#f1b6da\"],[0.4,\"#fde0ef\"],[0.5,\"#f7f7f7\"],[0.6,\"#e6f5d0\"],[0.7,\"#b8e186\"],[0.8,\"#7fbc41\"],[0.9,\"#4d9221\"],[1,\"#276419\"]]},\"xaxis\":{\"gridcolor\":\"#283442\",\"linecolor\":\"#506784\",\"ticks\":\"\",\"title\":{\"standoff\":15},\"zerolinecolor\":\"#283442\",\"automargin\":true,\"zerolinewidth\":2},\"yaxis\":{\"gridcolor\":\"#283442\",\"linecolor\":\"#506784\",\"ticks\":\"\",\"title\":{\"standoff\":15},\"zerolinecolor\":\"#283442\",\"automargin\":true,\"zerolinewidth\":2},\"scene\":{\"xaxis\":{\"backgroundcolor\":\"rgb(17,17,17)\",\"gridcolor\":\"#506784\",\"linecolor\":\"#506784\",\"showbackground\":true,\"ticks\":\"\",\"zerolinecolor\":\"#C8D4E3\",\"gridwidth\":2},\"yaxis\":{\"backgroundcolor\":\"rgb(17,17,17)\",\"gridcolor\":\"#506784\",\"linecolor\":\"#506784\",\"showbackground\":true,\"ticks\":\"\",\"zerolinecolor\":\"#C8D4E3\",\"gridwidth\":2},\"zaxis\":{\"backgroundcolor\":\"rgb(17,17,17)\",\"gridcolor\":\"#506784\",\"linecolor\":\"#506784\",\"showbackground\":true,\"ticks\":\"\",\"zerolinecolor\":\"#C8D4E3\",\"gridwidth\":2}},\"shapedefaults\":{\"line\":{\"color\":\"#f2f5fa\"}},\"annotationdefaults\":{\"arrowcolor\":\"#f2f5fa\",\"arrowhead\":0,\"arrowwidth\":1},\"geo\":{\"bgcolor\":\"rgb(17,17,17)\",\"landcolor\":\"rgb(17,17,17)\",\"subunitcolor\":\"#506784\",\"showland\":true,\"showlakes\":true,\"lakecolor\":\"rgb(17,17,17)\"},\"title\":{\"x\":0.05},\"updatemenudefaults\":{\"bgcolor\":\"#506784\",\"borderwidth\":0},\"sliderdefaults\":{\"bgcolor\":\"#C8D4E3\",\"borderwidth\":1,\"bordercolor\":\"rgb(17,17,17)\",\"tickwidth\":0},\"mapbox\":{\"style\":\"dark\"}}},\"polar\":{\"domain\":{\"x\":[0.0,1.0],\"y\":[0.0,1.0]},\"angularaxis\":{\"direction\":\"clockwise\",\"rotation\":90}},\"legend\":{\"title\":{\"text\":\"label\"},\"tracegroupgap\":0},\"margin\":{\"t\":60},\"height\":800,\"width\":1200},                        {\"responsive\": true}                    ).then(function(){\n                            \nvar gd = document.getElementById('d987b13b-a418-49d4-bc52-5935a4199023');\nvar x = new MutationObserver(function (mutations, observer) {{\n        var display = window.getComputedStyle(gd).display;\n        if (!display || display === 'none') {{\n            console.log([gd, 'removed!']);\n            Plotly.purge(gd);\n            observer.disconnect();\n        }}\n}});\n\n// Listen for the removal of the full notebook cells\nvar notebookContainer = gd.closest('#notebook-container');\nif (notebookContainer) {{\n    x.observe(notebookContainer, {childList: true});\n}}\n\n// Listen for the clearing of the current output cell\nvar outputEl = gd.closest('.output');\nif (outputEl) {{\n    x.observe(outputEl, {childList: true});\n}}\n\n                        })                };                });            </script>        </div>"
     },
     "metadata": {},
     "output_type": "display_data"
    }
   ],
   "source": [
    "kmeans.fit(batting_heavy_abvanced_main_norm)\n",
    "batting_heavy_abvanced_main_norm['label']=kmeans.labels_\n",
    "polar=batting_heavy_abvanced_main_norm.groupby(\"label\").mean().reset_index()\n",
    "polar=pd.melt(polar,id_vars=[\"label\"])\n",
    "fig4 = px.line_polar(polar, r=\"value\", theta=\"variable\", color=\"label\", line_close=True,height=800,width=1200)\n",
    "fig4.show()"
   ],
   "metadata": {
    "collapsed": false,
    "pycharm": {
     "name": "#%%\n"
    }
   }
  },
  {
   "cell_type": "code",
   "execution_count": 170,
   "outputs": [
    {
     "data": {
      "application/vnd.plotly.v1+json": {
       "data": [
        {
         "customdata": [
          [
           "blue"
          ],
          [
           "red"
          ],
          [
           "green"
          ]
         ],
         "domain": {
          "x": [
           0.0,
           1.0
          ],
          "y": [
           0.0,
           1.0
          ]
         },
         "hovertemplate": "label=%{label}<br>value=%{value}<br>color=%{customdata[0]}<extra></extra>",
         "labels": [
          0,
          1,
          2
         ],
         "legendgroup": "",
         "marker": {
          "colors": [
           "#636efa",
           "#EF553B",
           "#00cc96"
          ]
         },
         "name": "",
         "showlegend": true,
         "values": [
          1433,
          1826,
          2352
         ],
         "type": "pie"
        }
       ],
       "layout": {
        "template": {
         "data": {
          "histogram2dcontour": [
           {
            "type": "histogram2dcontour",
            "colorbar": {
             "outlinewidth": 0,
             "ticks": ""
            },
            "colorscale": [
             [
              0.0,
              "#0d0887"
             ],
             [
              0.1111111111111111,
              "#46039f"
             ],
             [
              0.2222222222222222,
              "#7201a8"
             ],
             [
              0.3333333333333333,
              "#9c179e"
             ],
             [
              0.4444444444444444,
              "#bd3786"
             ],
             [
              0.5555555555555556,
              "#d8576b"
             ],
             [
              0.6666666666666666,
              "#ed7953"
             ],
             [
              0.7777777777777778,
              "#fb9f3a"
             ],
             [
              0.8888888888888888,
              "#fdca26"
             ],
             [
              1.0,
              "#f0f921"
             ]
            ]
           }
          ],
          "choropleth": [
           {
            "type": "choropleth",
            "colorbar": {
             "outlinewidth": 0,
             "ticks": ""
            }
           }
          ],
          "histogram2d": [
           {
            "type": "histogram2d",
            "colorbar": {
             "outlinewidth": 0,
             "ticks": ""
            },
            "colorscale": [
             [
              0.0,
              "#0d0887"
             ],
             [
              0.1111111111111111,
              "#46039f"
             ],
             [
              0.2222222222222222,
              "#7201a8"
             ],
             [
              0.3333333333333333,
              "#9c179e"
             ],
             [
              0.4444444444444444,
              "#bd3786"
             ],
             [
              0.5555555555555556,
              "#d8576b"
             ],
             [
              0.6666666666666666,
              "#ed7953"
             ],
             [
              0.7777777777777778,
              "#fb9f3a"
             ],
             [
              0.8888888888888888,
              "#fdca26"
             ],
             [
              1.0,
              "#f0f921"
             ]
            ]
           }
          ],
          "heatmap": [
           {
            "type": "heatmap",
            "colorbar": {
             "outlinewidth": 0,
             "ticks": ""
            },
            "colorscale": [
             [
              0.0,
              "#0d0887"
             ],
             [
              0.1111111111111111,
              "#46039f"
             ],
             [
              0.2222222222222222,
              "#7201a8"
             ],
             [
              0.3333333333333333,
              "#9c179e"
             ],
             [
              0.4444444444444444,
              "#bd3786"
             ],
             [
              0.5555555555555556,
              "#d8576b"
             ],
             [
              0.6666666666666666,
              "#ed7953"
             ],
             [
              0.7777777777777778,
              "#fb9f3a"
             ],
             [
              0.8888888888888888,
              "#fdca26"
             ],
             [
              1.0,
              "#f0f921"
             ]
            ]
           }
          ],
          "heatmapgl": [
           {
            "type": "heatmapgl",
            "colorbar": {
             "outlinewidth": 0,
             "ticks": ""
            },
            "colorscale": [
             [
              0.0,
              "#0d0887"
             ],
             [
              0.1111111111111111,
              "#46039f"
             ],
             [
              0.2222222222222222,
              "#7201a8"
             ],
             [
              0.3333333333333333,
              "#9c179e"
             ],
             [
              0.4444444444444444,
              "#bd3786"
             ],
             [
              0.5555555555555556,
              "#d8576b"
             ],
             [
              0.6666666666666666,
              "#ed7953"
             ],
             [
              0.7777777777777778,
              "#fb9f3a"
             ],
             [
              0.8888888888888888,
              "#fdca26"
             ],
             [
              1.0,
              "#f0f921"
             ]
            ]
           }
          ],
          "contourcarpet": [
           {
            "type": "contourcarpet",
            "colorbar": {
             "outlinewidth": 0,
             "ticks": ""
            }
           }
          ],
          "contour": [
           {
            "type": "contour",
            "colorbar": {
             "outlinewidth": 0,
             "ticks": ""
            },
            "colorscale": [
             [
              0.0,
              "#0d0887"
             ],
             [
              0.1111111111111111,
              "#46039f"
             ],
             [
              0.2222222222222222,
              "#7201a8"
             ],
             [
              0.3333333333333333,
              "#9c179e"
             ],
             [
              0.4444444444444444,
              "#bd3786"
             ],
             [
              0.5555555555555556,
              "#d8576b"
             ],
             [
              0.6666666666666666,
              "#ed7953"
             ],
             [
              0.7777777777777778,
              "#fb9f3a"
             ],
             [
              0.8888888888888888,
              "#fdca26"
             ],
             [
              1.0,
              "#f0f921"
             ]
            ]
           }
          ],
          "surface": [
           {
            "type": "surface",
            "colorbar": {
             "outlinewidth": 0,
             "ticks": ""
            },
            "colorscale": [
             [
              0.0,
              "#0d0887"
             ],
             [
              0.1111111111111111,
              "#46039f"
             ],
             [
              0.2222222222222222,
              "#7201a8"
             ],
             [
              0.3333333333333333,
              "#9c179e"
             ],
             [
              0.4444444444444444,
              "#bd3786"
             ],
             [
              0.5555555555555556,
              "#d8576b"
             ],
             [
              0.6666666666666666,
              "#ed7953"
             ],
             [
              0.7777777777777778,
              "#fb9f3a"
             ],
             [
              0.8888888888888888,
              "#fdca26"
             ],
             [
              1.0,
              "#f0f921"
             ]
            ]
           }
          ],
          "mesh3d": [
           {
            "type": "mesh3d",
            "colorbar": {
             "outlinewidth": 0,
             "ticks": ""
            }
           }
          ],
          "scatter": [
           {
            "marker": {
             "line": {
              "color": "#283442"
             }
            },
            "type": "scatter"
           }
          ],
          "parcoords": [
           {
            "type": "parcoords",
            "line": {
             "colorbar": {
              "outlinewidth": 0,
              "ticks": ""
             }
            }
           }
          ],
          "scatterpolargl": [
           {
            "type": "scatterpolargl",
            "marker": {
             "colorbar": {
              "outlinewidth": 0,
              "ticks": ""
             }
            }
           }
          ],
          "bar": [
           {
            "error_x": {
             "color": "#f2f5fa"
            },
            "error_y": {
             "color": "#f2f5fa"
            },
            "marker": {
             "line": {
              "color": "rgb(17,17,17)",
              "width": 0.5
             },
             "pattern": {
              "fillmode": "overlay",
              "size": 10,
              "solidity": 0.2
             }
            },
            "type": "bar"
           }
          ],
          "scattergeo": [
           {
            "type": "scattergeo",
            "marker": {
             "colorbar": {
              "outlinewidth": 0,
              "ticks": ""
             }
            }
           }
          ],
          "scatterpolar": [
           {
            "type": "scatterpolar",
            "marker": {
             "colorbar": {
              "outlinewidth": 0,
              "ticks": ""
             }
            }
           }
          ],
          "histogram": [
           {
            "marker": {
             "pattern": {
              "fillmode": "overlay",
              "size": 10,
              "solidity": 0.2
             }
            },
            "type": "histogram"
           }
          ],
          "scattergl": [
           {
            "marker": {
             "line": {
              "color": "#283442"
             }
            },
            "type": "scattergl"
           }
          ],
          "scatter3d": [
           {
            "type": "scatter3d",
            "line": {
             "colorbar": {
              "outlinewidth": 0,
              "ticks": ""
             }
            },
            "marker": {
             "colorbar": {
              "outlinewidth": 0,
              "ticks": ""
             }
            }
           }
          ],
          "scattermapbox": [
           {
            "type": "scattermapbox",
            "marker": {
             "colorbar": {
              "outlinewidth": 0,
              "ticks": ""
             }
            }
           }
          ],
          "scatterternary": [
           {
            "type": "scatterternary",
            "marker": {
             "colorbar": {
              "outlinewidth": 0,
              "ticks": ""
             }
            }
           }
          ],
          "scattercarpet": [
           {
            "type": "scattercarpet",
            "marker": {
             "colorbar": {
              "outlinewidth": 0,
              "ticks": ""
             }
            }
           }
          ],
          "carpet": [
           {
            "aaxis": {
             "endlinecolor": "#A2B1C6",
             "gridcolor": "#506784",
             "linecolor": "#506784",
             "minorgridcolor": "#506784",
             "startlinecolor": "#A2B1C6"
            },
            "baxis": {
             "endlinecolor": "#A2B1C6",
             "gridcolor": "#506784",
             "linecolor": "#506784",
             "minorgridcolor": "#506784",
             "startlinecolor": "#A2B1C6"
            },
            "type": "carpet"
           }
          ],
          "table": [
           {
            "cells": {
             "fill": {
              "color": "#506784"
             },
             "line": {
              "color": "rgb(17,17,17)"
             }
            },
            "header": {
             "fill": {
              "color": "#2a3f5f"
             },
             "line": {
              "color": "rgb(17,17,17)"
             }
            },
            "type": "table"
           }
          ],
          "barpolar": [
           {
            "marker": {
             "line": {
              "color": "rgb(17,17,17)",
              "width": 0.5
             },
             "pattern": {
              "fillmode": "overlay",
              "size": 10,
              "solidity": 0.2
             }
            },
            "type": "barpolar"
           }
          ],
          "pie": [
           {
            "automargin": true,
            "type": "pie"
           }
          ]
         },
         "layout": {
          "autotypenumbers": "strict",
          "colorway": [
           "#636efa",
           "#EF553B",
           "#00cc96",
           "#ab63fa",
           "#FFA15A",
           "#19d3f3",
           "#FF6692",
           "#B6E880",
           "#FF97FF",
           "#FECB52"
          ],
          "font": {
           "color": "#f2f5fa"
          },
          "hovermode": "closest",
          "hoverlabel": {
           "align": "left"
          },
          "paper_bgcolor": "rgb(17,17,17)",
          "plot_bgcolor": "rgb(17,17,17)",
          "polar": {
           "bgcolor": "rgb(17,17,17)",
           "angularaxis": {
            "gridcolor": "#506784",
            "linecolor": "#506784",
            "ticks": ""
           },
           "radialaxis": {
            "gridcolor": "#506784",
            "linecolor": "#506784",
            "ticks": ""
           }
          },
          "ternary": {
           "bgcolor": "rgb(17,17,17)",
           "aaxis": {
            "gridcolor": "#506784",
            "linecolor": "#506784",
            "ticks": ""
           },
           "baxis": {
            "gridcolor": "#506784",
            "linecolor": "#506784",
            "ticks": ""
           },
           "caxis": {
            "gridcolor": "#506784",
            "linecolor": "#506784",
            "ticks": ""
           }
          },
          "coloraxis": {
           "colorbar": {
            "outlinewidth": 0,
            "ticks": ""
           }
          },
          "colorscale": {
           "sequential": [
            [
             0.0,
             "#0d0887"
            ],
            [
             0.1111111111111111,
             "#46039f"
            ],
            [
             0.2222222222222222,
             "#7201a8"
            ],
            [
             0.3333333333333333,
             "#9c179e"
            ],
            [
             0.4444444444444444,
             "#bd3786"
            ],
            [
             0.5555555555555556,
             "#d8576b"
            ],
            [
             0.6666666666666666,
             "#ed7953"
            ],
            [
             0.7777777777777778,
             "#fb9f3a"
            ],
            [
             0.8888888888888888,
             "#fdca26"
            ],
            [
             1.0,
             "#f0f921"
            ]
           ],
           "sequentialminus": [
            [
             0.0,
             "#0d0887"
            ],
            [
             0.1111111111111111,
             "#46039f"
            ],
            [
             0.2222222222222222,
             "#7201a8"
            ],
            [
             0.3333333333333333,
             "#9c179e"
            ],
            [
             0.4444444444444444,
             "#bd3786"
            ],
            [
             0.5555555555555556,
             "#d8576b"
            ],
            [
             0.6666666666666666,
             "#ed7953"
            ],
            [
             0.7777777777777778,
             "#fb9f3a"
            ],
            [
             0.8888888888888888,
             "#fdca26"
            ],
            [
             1.0,
             "#f0f921"
            ]
           ],
           "diverging": [
            [
             0,
             "#8e0152"
            ],
            [
             0.1,
             "#c51b7d"
            ],
            [
             0.2,
             "#de77ae"
            ],
            [
             0.3,
             "#f1b6da"
            ],
            [
             0.4,
             "#fde0ef"
            ],
            [
             0.5,
             "#f7f7f7"
            ],
            [
             0.6,
             "#e6f5d0"
            ],
            [
             0.7,
             "#b8e186"
            ],
            [
             0.8,
             "#7fbc41"
            ],
            [
             0.9,
             "#4d9221"
            ],
            [
             1,
             "#276419"
            ]
           ]
          },
          "xaxis": {
           "gridcolor": "#283442",
           "linecolor": "#506784",
           "ticks": "",
           "title": {
            "standoff": 15
           },
           "zerolinecolor": "#283442",
           "automargin": true,
           "zerolinewidth": 2
          },
          "yaxis": {
           "gridcolor": "#283442",
           "linecolor": "#506784",
           "ticks": "",
           "title": {
            "standoff": 15
           },
           "zerolinecolor": "#283442",
           "automargin": true,
           "zerolinewidth": 2
          },
          "scene": {
           "xaxis": {
            "backgroundcolor": "rgb(17,17,17)",
            "gridcolor": "#506784",
            "linecolor": "#506784",
            "showbackground": true,
            "ticks": "",
            "zerolinecolor": "#C8D4E3",
            "gridwidth": 2
           },
           "yaxis": {
            "backgroundcolor": "rgb(17,17,17)",
            "gridcolor": "#506784",
            "linecolor": "#506784",
            "showbackground": true,
            "ticks": "",
            "zerolinecolor": "#C8D4E3",
            "gridwidth": 2
           },
           "zaxis": {
            "backgroundcolor": "rgb(17,17,17)",
            "gridcolor": "#506784",
            "linecolor": "#506784",
            "showbackground": true,
            "ticks": "",
            "zerolinecolor": "#C8D4E3",
            "gridwidth": 2
           }
          },
          "shapedefaults": {
           "line": {
            "color": "#f2f5fa"
           }
          },
          "annotationdefaults": {
           "arrowcolor": "#f2f5fa",
           "arrowhead": 0,
           "arrowwidth": 1
          },
          "geo": {
           "bgcolor": "rgb(17,17,17)",
           "landcolor": "rgb(17,17,17)",
           "subunitcolor": "#506784",
           "showland": true,
           "showlakes": true,
           "lakecolor": "rgb(17,17,17)"
          },
          "title": {
           "x": 0.05
          },
          "updatemenudefaults": {
           "bgcolor": "#506784",
           "borderwidth": 0
          },
          "sliderdefaults": {
           "bgcolor": "#C8D4E3",
           "borderwidth": 1,
           "bordercolor": "rgb(17,17,17)",
           "tickwidth": 0
          },
          "mapbox": {
           "style": "dark"
          }
         }
        },
        "legend": {
         "tracegroupgap": 0
        },
        "margin": {
         "t": 60
        }
       },
       "config": {
        "plotlyServerURL": "https://plot.ly"
       }
      },
      "text/html": "<div>                            <div id=\"9916adb4-de5c-4129-a152-a4606f50a23d\" class=\"plotly-graph-div\" style=\"height:525px; width:100%;\"></div>            <script type=\"text/javascript\">                require([\"plotly\"], function(Plotly) {                    window.PLOTLYENV=window.PLOTLYENV || {};                                    if (document.getElementById(\"9916adb4-de5c-4129-a152-a4606f50a23d\")) {                    Plotly.newPlot(                        \"9916adb4-de5c-4129-a152-a4606f50a23d\",                        [{\"customdata\":[[\"blue\"],[\"red\"],[\"green\"]],\"domain\":{\"x\":[0.0,1.0],\"y\":[0.0,1.0]},\"hovertemplate\":\"label=%{label}<br>value=%{value}<br>color=%{customdata[0]}<extra></extra>\",\"labels\":[0,1,2],\"legendgroup\":\"\",\"marker\":{\"colors\":[\"#636efa\",\"#EF553B\",\"#00cc96\"]},\"name\":\"\",\"showlegend\":true,\"values\":[1433,1826,2352],\"type\":\"pie\"}],                        {\"template\":{\"data\":{\"histogram2dcontour\":[{\"type\":\"histogram2dcontour\",\"colorbar\":{\"outlinewidth\":0,\"ticks\":\"\"},\"colorscale\":[[0.0,\"#0d0887\"],[0.1111111111111111,\"#46039f\"],[0.2222222222222222,\"#7201a8\"],[0.3333333333333333,\"#9c179e\"],[0.4444444444444444,\"#bd3786\"],[0.5555555555555556,\"#d8576b\"],[0.6666666666666666,\"#ed7953\"],[0.7777777777777778,\"#fb9f3a\"],[0.8888888888888888,\"#fdca26\"],[1.0,\"#f0f921\"]]}],\"choropleth\":[{\"type\":\"choropleth\",\"colorbar\":{\"outlinewidth\":0,\"ticks\":\"\"}}],\"histogram2d\":[{\"type\":\"histogram2d\",\"colorbar\":{\"outlinewidth\":0,\"ticks\":\"\"},\"colorscale\":[[0.0,\"#0d0887\"],[0.1111111111111111,\"#46039f\"],[0.2222222222222222,\"#7201a8\"],[0.3333333333333333,\"#9c179e\"],[0.4444444444444444,\"#bd3786\"],[0.5555555555555556,\"#d8576b\"],[0.6666666666666666,\"#ed7953\"],[0.7777777777777778,\"#fb9f3a\"],[0.8888888888888888,\"#fdca26\"],[1.0,\"#f0f921\"]]}],\"heatmap\":[{\"type\":\"heatmap\",\"colorbar\":{\"outlinewidth\":0,\"ticks\":\"\"},\"colorscale\":[[0.0,\"#0d0887\"],[0.1111111111111111,\"#46039f\"],[0.2222222222222222,\"#7201a8\"],[0.3333333333333333,\"#9c179e\"],[0.4444444444444444,\"#bd3786\"],[0.5555555555555556,\"#d8576b\"],[0.6666666666666666,\"#ed7953\"],[0.7777777777777778,\"#fb9f3a\"],[0.8888888888888888,\"#fdca26\"],[1.0,\"#f0f921\"]]}],\"heatmapgl\":[{\"type\":\"heatmapgl\",\"colorbar\":{\"outlinewidth\":0,\"ticks\":\"\"},\"colorscale\":[[0.0,\"#0d0887\"],[0.1111111111111111,\"#46039f\"],[0.2222222222222222,\"#7201a8\"],[0.3333333333333333,\"#9c179e\"],[0.4444444444444444,\"#bd3786\"],[0.5555555555555556,\"#d8576b\"],[0.6666666666666666,\"#ed7953\"],[0.7777777777777778,\"#fb9f3a\"],[0.8888888888888888,\"#fdca26\"],[1.0,\"#f0f921\"]]}],\"contourcarpet\":[{\"type\":\"contourcarpet\",\"colorbar\":{\"outlinewidth\":0,\"ticks\":\"\"}}],\"contour\":[{\"type\":\"contour\",\"colorbar\":{\"outlinewidth\":0,\"ticks\":\"\"},\"colorscale\":[[0.0,\"#0d0887\"],[0.1111111111111111,\"#46039f\"],[0.2222222222222222,\"#7201a8\"],[0.3333333333333333,\"#9c179e\"],[0.4444444444444444,\"#bd3786\"],[0.5555555555555556,\"#d8576b\"],[0.6666666666666666,\"#ed7953\"],[0.7777777777777778,\"#fb9f3a\"],[0.8888888888888888,\"#fdca26\"],[1.0,\"#f0f921\"]]}],\"surface\":[{\"type\":\"surface\",\"colorbar\":{\"outlinewidth\":0,\"ticks\":\"\"},\"colorscale\":[[0.0,\"#0d0887\"],[0.1111111111111111,\"#46039f\"],[0.2222222222222222,\"#7201a8\"],[0.3333333333333333,\"#9c179e\"],[0.4444444444444444,\"#bd3786\"],[0.5555555555555556,\"#d8576b\"],[0.6666666666666666,\"#ed7953\"],[0.7777777777777778,\"#fb9f3a\"],[0.8888888888888888,\"#fdca26\"],[1.0,\"#f0f921\"]]}],\"mesh3d\":[{\"type\":\"mesh3d\",\"colorbar\":{\"outlinewidth\":0,\"ticks\":\"\"}}],\"scatter\":[{\"marker\":{\"line\":{\"color\":\"#283442\"}},\"type\":\"scatter\"}],\"parcoords\":[{\"type\":\"parcoords\",\"line\":{\"colorbar\":{\"outlinewidth\":0,\"ticks\":\"\"}}}],\"scatterpolargl\":[{\"type\":\"scatterpolargl\",\"marker\":{\"colorbar\":{\"outlinewidth\":0,\"ticks\":\"\"}}}],\"bar\":[{\"error_x\":{\"color\":\"#f2f5fa\"},\"error_y\":{\"color\":\"#f2f5fa\"},\"marker\":{\"line\":{\"color\":\"rgb(17,17,17)\",\"width\":0.5},\"pattern\":{\"fillmode\":\"overlay\",\"size\":10,\"solidity\":0.2}},\"type\":\"bar\"}],\"scattergeo\":[{\"type\":\"scattergeo\",\"marker\":{\"colorbar\":{\"outlinewidth\":0,\"ticks\":\"\"}}}],\"scatterpolar\":[{\"type\":\"scatterpolar\",\"marker\":{\"colorbar\":{\"outlinewidth\":0,\"ticks\":\"\"}}}],\"histogram\":[{\"marker\":{\"pattern\":{\"fillmode\":\"overlay\",\"size\":10,\"solidity\":0.2}},\"type\":\"histogram\"}],\"scattergl\":[{\"marker\":{\"line\":{\"color\":\"#283442\"}},\"type\":\"scattergl\"}],\"scatter3d\":[{\"type\":\"scatter3d\",\"line\":{\"colorbar\":{\"outlinewidth\":0,\"ticks\":\"\"}},\"marker\":{\"colorbar\":{\"outlinewidth\":0,\"ticks\":\"\"}}}],\"scattermapbox\":[{\"type\":\"scattermapbox\",\"marker\":{\"colorbar\":{\"outlinewidth\":0,\"ticks\":\"\"}}}],\"scatterternary\":[{\"type\":\"scatterternary\",\"marker\":{\"colorbar\":{\"outlinewidth\":0,\"ticks\":\"\"}}}],\"scattercarpet\":[{\"type\":\"scattercarpet\",\"marker\":{\"colorbar\":{\"outlinewidth\":0,\"ticks\":\"\"}}}],\"carpet\":[{\"aaxis\":{\"endlinecolor\":\"#A2B1C6\",\"gridcolor\":\"#506784\",\"linecolor\":\"#506784\",\"minorgridcolor\":\"#506784\",\"startlinecolor\":\"#A2B1C6\"},\"baxis\":{\"endlinecolor\":\"#A2B1C6\",\"gridcolor\":\"#506784\",\"linecolor\":\"#506784\",\"minorgridcolor\":\"#506784\",\"startlinecolor\":\"#A2B1C6\"},\"type\":\"carpet\"}],\"table\":[{\"cells\":{\"fill\":{\"color\":\"#506784\"},\"line\":{\"color\":\"rgb(17,17,17)\"}},\"header\":{\"fill\":{\"color\":\"#2a3f5f\"},\"line\":{\"color\":\"rgb(17,17,17)\"}},\"type\":\"table\"}],\"barpolar\":[{\"marker\":{\"line\":{\"color\":\"rgb(17,17,17)\",\"width\":0.5},\"pattern\":{\"fillmode\":\"overlay\",\"size\":10,\"solidity\":0.2}},\"type\":\"barpolar\"}],\"pie\":[{\"automargin\":true,\"type\":\"pie\"}]},\"layout\":{\"autotypenumbers\":\"strict\",\"colorway\":[\"#636efa\",\"#EF553B\",\"#00cc96\",\"#ab63fa\",\"#FFA15A\",\"#19d3f3\",\"#FF6692\",\"#B6E880\",\"#FF97FF\",\"#FECB52\"],\"font\":{\"color\":\"#f2f5fa\"},\"hovermode\":\"closest\",\"hoverlabel\":{\"align\":\"left\"},\"paper_bgcolor\":\"rgb(17,17,17)\",\"plot_bgcolor\":\"rgb(17,17,17)\",\"polar\":{\"bgcolor\":\"rgb(17,17,17)\",\"angularaxis\":{\"gridcolor\":\"#506784\",\"linecolor\":\"#506784\",\"ticks\":\"\"},\"radialaxis\":{\"gridcolor\":\"#506784\",\"linecolor\":\"#506784\",\"ticks\":\"\"}},\"ternary\":{\"bgcolor\":\"rgb(17,17,17)\",\"aaxis\":{\"gridcolor\":\"#506784\",\"linecolor\":\"#506784\",\"ticks\":\"\"},\"baxis\":{\"gridcolor\":\"#506784\",\"linecolor\":\"#506784\",\"ticks\":\"\"},\"caxis\":{\"gridcolor\":\"#506784\",\"linecolor\":\"#506784\",\"ticks\":\"\"}},\"coloraxis\":{\"colorbar\":{\"outlinewidth\":0,\"ticks\":\"\"}},\"colorscale\":{\"sequential\":[[0.0,\"#0d0887\"],[0.1111111111111111,\"#46039f\"],[0.2222222222222222,\"#7201a8\"],[0.3333333333333333,\"#9c179e\"],[0.4444444444444444,\"#bd3786\"],[0.5555555555555556,\"#d8576b\"],[0.6666666666666666,\"#ed7953\"],[0.7777777777777778,\"#fb9f3a\"],[0.8888888888888888,\"#fdca26\"],[1.0,\"#f0f921\"]],\"sequentialminus\":[[0.0,\"#0d0887\"],[0.1111111111111111,\"#46039f\"],[0.2222222222222222,\"#7201a8\"],[0.3333333333333333,\"#9c179e\"],[0.4444444444444444,\"#bd3786\"],[0.5555555555555556,\"#d8576b\"],[0.6666666666666666,\"#ed7953\"],[0.7777777777777778,\"#fb9f3a\"],[0.8888888888888888,\"#fdca26\"],[1.0,\"#f0f921\"]],\"diverging\":[[0,\"#8e0152\"],[0.1,\"#c51b7d\"],[0.2,\"#de77ae\"],[0.3,\"#f1b6da\"],[0.4,\"#fde0ef\"],[0.5,\"#f7f7f7\"],[0.6,\"#e6f5d0\"],[0.7,\"#b8e186\"],[0.8,\"#7fbc41\"],[0.9,\"#4d9221\"],[1,\"#276419\"]]},\"xaxis\":{\"gridcolor\":\"#283442\",\"linecolor\":\"#506784\",\"ticks\":\"\",\"title\":{\"standoff\":15},\"zerolinecolor\":\"#283442\",\"automargin\":true,\"zerolinewidth\":2},\"yaxis\":{\"gridcolor\":\"#283442\",\"linecolor\":\"#506784\",\"ticks\":\"\",\"title\":{\"standoff\":15},\"zerolinecolor\":\"#283442\",\"automargin\":true,\"zerolinewidth\":2},\"scene\":{\"xaxis\":{\"backgroundcolor\":\"rgb(17,17,17)\",\"gridcolor\":\"#506784\",\"linecolor\":\"#506784\",\"showbackground\":true,\"ticks\":\"\",\"zerolinecolor\":\"#C8D4E3\",\"gridwidth\":2},\"yaxis\":{\"backgroundcolor\":\"rgb(17,17,17)\",\"gridcolor\":\"#506784\",\"linecolor\":\"#506784\",\"showbackground\":true,\"ticks\":\"\",\"zerolinecolor\":\"#C8D4E3\",\"gridwidth\":2},\"zaxis\":{\"backgroundcolor\":\"rgb(17,17,17)\",\"gridcolor\":\"#506784\",\"linecolor\":\"#506784\",\"showbackground\":true,\"ticks\":\"\",\"zerolinecolor\":\"#C8D4E3\",\"gridwidth\":2}},\"shapedefaults\":{\"line\":{\"color\":\"#f2f5fa\"}},\"annotationdefaults\":{\"arrowcolor\":\"#f2f5fa\",\"arrowhead\":0,\"arrowwidth\":1},\"geo\":{\"bgcolor\":\"rgb(17,17,17)\",\"landcolor\":\"rgb(17,17,17)\",\"subunitcolor\":\"#506784\",\"showland\":true,\"showlakes\":true,\"lakecolor\":\"rgb(17,17,17)\"},\"title\":{\"x\":0.05},\"updatemenudefaults\":{\"bgcolor\":\"#506784\",\"borderwidth\":0},\"sliderdefaults\":{\"bgcolor\":\"#C8D4E3\",\"borderwidth\":1,\"bordercolor\":\"rgb(17,17,17)\",\"tickwidth\":0},\"mapbox\":{\"style\":\"dark\"}}},\"legend\":{\"tracegroupgap\":0},\"margin\":{\"t\":60}},                        {\"responsive\": true}                    ).then(function(){\n                            \nvar gd = document.getElementById('9916adb4-de5c-4129-a152-a4606f50a23d');\nvar x = new MutationObserver(function (mutations, observer) {{\n        var display = window.getComputedStyle(gd).display;\n        if (!display || display === 'none') {{\n            console.log([gd, 'removed!']);\n            Plotly.purge(gd);\n            observer.disconnect();\n        }}\n}});\n\n// Listen for the removal of the full notebook cells\nvar notebookContainer = gd.closest('#notebook-container');\nif (notebookContainer) {{\n    x.observe(notebookContainer, {childList: true});\n}}\n\n// Listen for the clearing of the current output cell\nvar outputEl = gd.closest('.output');\nif (outputEl) {{\n    x.observe(outputEl, {childList: true});\n}}\n\n                        })                };                });            </script>        </div>"
     },
     "metadata": {},
     "output_type": "display_data"
    }
   ],
   "source": [
    "pie=batting_heavy_abvanced_main_norm.groupby('label').size().reset_index()\n",
    "pie.columns=['label','value']\n",
    "px.pie(pie,values='value',names='label',color=['blue','red','green'])"
   ],
   "metadata": {
    "collapsed": false,
    "pycharm": {
     "name": "#%%\n"
    }
   }
  },
  {
   "cell_type": "code",
   "execution_count": 171,
   "outputs": [
    {
     "data": {
      "text/plain": "             G        AB         R         H        2B        3B        HR  \\\n0     0.235806  0.923865  0.131981  0.248124  0.024636  0.014078  0.001760   \n1     0.216952  0.915265  0.177968  0.259325  0.027119  0.015254  0.003390   \n2     0.233710  0.920675  0.122167  0.251415  0.031870  0.012394  0.005312   \n3     0.242146  0.927957  0.115385  0.216144  0.027627  0.013001  0.000000   \n4     0.249362  0.932012  0.097269  0.215760  0.033602  0.005306  0.000000   \n...        ...       ...       ...       ...       ...       ...       ...   \n5606  0.265852  0.928685  0.089815  0.210167  0.039519  0.005389  0.008981   \n5607  0.249872  0.878481  0.146152  0.265587  0.055003  0.012572  0.037717   \n5608  0.238917  0.897510  0.133605  0.260922  0.050298  0.001572  0.028293   \n5609  0.236722  0.897423  0.148393  0.224356  0.061830  0.005300  0.035332   \n5610  0.243935  0.882572  0.150766  0.228689  0.055902  0.000000  0.052514   \n\n           RBI        SB        CS        BB        SO       HBP        SH  \\\n0     0.075669  0.047513  0.000000  0.043994  0.028156  0.015838  0.010558   \n1     0.077967  0.057628  0.000000  0.054238  0.047458  0.016949  0.020339   \n2     0.097379  0.038952  0.000000  0.077903  0.030099  0.012394  0.015935   \n3     0.055255  0.035753  0.000000  0.084507  0.082882  0.013001  0.027627   \n4     0.033602  0.028296  0.000000  0.060130  0.056593  0.005306  0.056593   \n...        ...       ...       ...       ...       ...       ...       ...   \n5606  0.070056  0.010778  0.001796  0.048500  0.073648  0.001796  0.010778   \n5607  0.141437  0.007858  0.003143  0.117864  0.187011  0.012572  0.000000   \n5608  0.114743  0.000000  0.000000  0.072304  0.166613  0.042439  0.000000   \n5609  0.105995  0.001767  0.000000  0.107761  0.194324  0.015899  0.000000   \n5610  0.162624  0.001694  0.003388  0.074536  0.220220  0.001694  0.000000   \n\n            SF       WAR      oWAR      dWAR  label  \n0     0.000000  0.000880  0.001408  0.000352      2  \n1     0.000000  0.003898  0.002881  0.001695      2  \n2     0.000000  0.003364  0.003187  0.001062      2  \n3     0.000000  0.002600  0.003900 -0.000163      2  \n4     0.000000  0.003360  0.002653  0.001769      2  \n...        ...       ...       ...       ...    ...  \n5606  0.005389  0.000898 -0.000180  0.002335      2  \n5607  0.006286  0.009429  0.010215 -0.000471      1  \n5608  0.009431  0.006759  0.006444 -0.000786      1  \n5609  0.012366  0.008656  0.005653  0.003710      1  \n5610  0.010164  0.003896  0.003896 -0.000847      1  \n\n[5611 rows x 19 columns]",
      "text/html": "<div>\n<style scoped>\n    .dataframe tbody tr th:only-of-type {\n        vertical-align: middle;\n    }\n\n    .dataframe tbody tr th {\n        vertical-align: top;\n    }\n\n    .dataframe thead th {\n        text-align: right;\n    }\n</style>\n<table border=\"1\" class=\"dataframe\">\n  <thead>\n    <tr style=\"text-align: right;\">\n      <th></th>\n      <th>G</th>\n      <th>AB</th>\n      <th>R</th>\n      <th>H</th>\n      <th>2B</th>\n      <th>3B</th>\n      <th>HR</th>\n      <th>RBI</th>\n      <th>SB</th>\n      <th>CS</th>\n      <th>BB</th>\n      <th>SO</th>\n      <th>HBP</th>\n      <th>SH</th>\n      <th>SF</th>\n      <th>WAR</th>\n      <th>oWAR</th>\n      <th>dWAR</th>\n      <th>label</th>\n    </tr>\n  </thead>\n  <tbody>\n    <tr>\n      <th>0</th>\n      <td>0.235806</td>\n      <td>0.923865</td>\n      <td>0.131981</td>\n      <td>0.248124</td>\n      <td>0.024636</td>\n      <td>0.014078</td>\n      <td>0.001760</td>\n      <td>0.075669</td>\n      <td>0.047513</td>\n      <td>0.000000</td>\n      <td>0.043994</td>\n      <td>0.028156</td>\n      <td>0.015838</td>\n      <td>0.010558</td>\n      <td>0.000000</td>\n      <td>0.000880</td>\n      <td>0.001408</td>\n      <td>0.000352</td>\n      <td>2</td>\n    </tr>\n    <tr>\n      <th>1</th>\n      <td>0.216952</td>\n      <td>0.915265</td>\n      <td>0.177968</td>\n      <td>0.259325</td>\n      <td>0.027119</td>\n      <td>0.015254</td>\n      <td>0.003390</td>\n      <td>0.077967</td>\n      <td>0.057628</td>\n      <td>0.000000</td>\n      <td>0.054238</td>\n      <td>0.047458</td>\n      <td>0.016949</td>\n      <td>0.020339</td>\n      <td>0.000000</td>\n      <td>0.003898</td>\n      <td>0.002881</td>\n      <td>0.001695</td>\n      <td>2</td>\n    </tr>\n    <tr>\n      <th>2</th>\n      <td>0.233710</td>\n      <td>0.920675</td>\n      <td>0.122167</td>\n      <td>0.251415</td>\n      <td>0.031870</td>\n      <td>0.012394</td>\n      <td>0.005312</td>\n      <td>0.097379</td>\n      <td>0.038952</td>\n      <td>0.000000</td>\n      <td>0.077903</td>\n      <td>0.030099</td>\n      <td>0.012394</td>\n      <td>0.015935</td>\n      <td>0.000000</td>\n      <td>0.003364</td>\n      <td>0.003187</td>\n      <td>0.001062</td>\n      <td>2</td>\n    </tr>\n    <tr>\n      <th>3</th>\n      <td>0.242146</td>\n      <td>0.927957</td>\n      <td>0.115385</td>\n      <td>0.216144</td>\n      <td>0.027627</td>\n      <td>0.013001</td>\n      <td>0.000000</td>\n      <td>0.055255</td>\n      <td>0.035753</td>\n      <td>0.000000</td>\n      <td>0.084507</td>\n      <td>0.082882</td>\n      <td>0.013001</td>\n      <td>0.027627</td>\n      <td>0.000000</td>\n      <td>0.002600</td>\n      <td>0.003900</td>\n      <td>-0.000163</td>\n      <td>2</td>\n    </tr>\n    <tr>\n      <th>4</th>\n      <td>0.249362</td>\n      <td>0.932012</td>\n      <td>0.097269</td>\n      <td>0.215760</td>\n      <td>0.033602</td>\n      <td>0.005306</td>\n      <td>0.000000</td>\n      <td>0.033602</td>\n      <td>0.028296</td>\n      <td>0.000000</td>\n      <td>0.060130</td>\n      <td>0.056593</td>\n      <td>0.005306</td>\n      <td>0.056593</td>\n      <td>0.000000</td>\n      <td>0.003360</td>\n      <td>0.002653</td>\n      <td>0.001769</td>\n      <td>2</td>\n    </tr>\n    <tr>\n      <th>...</th>\n      <td>...</td>\n      <td>...</td>\n      <td>...</td>\n      <td>...</td>\n      <td>...</td>\n      <td>...</td>\n      <td>...</td>\n      <td>...</td>\n      <td>...</td>\n      <td>...</td>\n      <td>...</td>\n      <td>...</td>\n      <td>...</td>\n      <td>...</td>\n      <td>...</td>\n      <td>...</td>\n      <td>...</td>\n      <td>...</td>\n      <td>...</td>\n    </tr>\n    <tr>\n      <th>5606</th>\n      <td>0.265852</td>\n      <td>0.928685</td>\n      <td>0.089815</td>\n      <td>0.210167</td>\n      <td>0.039519</td>\n      <td>0.005389</td>\n      <td>0.008981</td>\n      <td>0.070056</td>\n      <td>0.010778</td>\n      <td>0.001796</td>\n      <td>0.048500</td>\n      <td>0.073648</td>\n      <td>0.001796</td>\n      <td>0.010778</td>\n      <td>0.005389</td>\n      <td>0.000898</td>\n      <td>-0.000180</td>\n      <td>0.002335</td>\n      <td>2</td>\n    </tr>\n    <tr>\n      <th>5607</th>\n      <td>0.249872</td>\n      <td>0.878481</td>\n      <td>0.146152</td>\n      <td>0.265587</td>\n      <td>0.055003</td>\n      <td>0.012572</td>\n      <td>0.037717</td>\n      <td>0.141437</td>\n      <td>0.007858</td>\n      <td>0.003143</td>\n      <td>0.117864</td>\n      <td>0.187011</td>\n      <td>0.012572</td>\n      <td>0.000000</td>\n      <td>0.006286</td>\n      <td>0.009429</td>\n      <td>0.010215</td>\n      <td>-0.000471</td>\n      <td>1</td>\n    </tr>\n    <tr>\n      <th>5608</th>\n      <td>0.238917</td>\n      <td>0.897510</td>\n      <td>0.133605</td>\n      <td>0.260922</td>\n      <td>0.050298</td>\n      <td>0.001572</td>\n      <td>0.028293</td>\n      <td>0.114743</td>\n      <td>0.000000</td>\n      <td>0.000000</td>\n      <td>0.072304</td>\n      <td>0.166613</td>\n      <td>0.042439</td>\n      <td>0.000000</td>\n      <td>0.009431</td>\n      <td>0.006759</td>\n      <td>0.006444</td>\n      <td>-0.000786</td>\n      <td>1</td>\n    </tr>\n    <tr>\n      <th>5609</th>\n      <td>0.236722</td>\n      <td>0.897423</td>\n      <td>0.148393</td>\n      <td>0.224356</td>\n      <td>0.061830</td>\n      <td>0.005300</td>\n      <td>0.035332</td>\n      <td>0.105995</td>\n      <td>0.001767</td>\n      <td>0.000000</td>\n      <td>0.107761</td>\n      <td>0.194324</td>\n      <td>0.015899</td>\n      <td>0.000000</td>\n      <td>0.012366</td>\n      <td>0.008656</td>\n      <td>0.005653</td>\n      <td>0.003710</td>\n      <td>1</td>\n    </tr>\n    <tr>\n      <th>5610</th>\n      <td>0.243935</td>\n      <td>0.882572</td>\n      <td>0.150766</td>\n      <td>0.228689</td>\n      <td>0.055902</td>\n      <td>0.000000</td>\n      <td>0.052514</td>\n      <td>0.162624</td>\n      <td>0.001694</td>\n      <td>0.003388</td>\n      <td>0.074536</td>\n      <td>0.220220</td>\n      <td>0.001694</td>\n      <td>0.000000</td>\n      <td>0.010164</td>\n      <td>0.003896</td>\n      <td>0.003896</td>\n      <td>-0.000847</td>\n      <td>1</td>\n    </tr>\n  </tbody>\n</table>\n<p>5611 rows × 19 columns</p>\n</div>"
     },
     "execution_count": 171,
     "metadata": {},
     "output_type": "execute_result"
    }
   ],
   "source": [
    "batting_heavy_abvanced_main_norm"
   ],
   "metadata": {
    "collapsed": false,
    "pycharm": {
     "name": "#%%\n"
    }
   }
  },
  {
   "cell_type": "code",
   "execution_count": 176,
   "outputs": [
    {
     "data": {
      "text/plain": "<Figure size 1440x1152 with 1 Axes>",
      "image/png": "[encoded data removed]"
     },
     "metadata": {
      "needs_background": "light"
     },
     "output_type": "display_data"
    }
   ],
   "source": [
    "from sklearn.decomposition import PCA\n",
    "import seaborn as sn\n",
    "pca_num_components = 2\n",
    "\n",
    "reduced_data = PCA(n_components=pca_num_components).fit_transform(batting_heavy_abvanced_main_norm)\n",
    "results = pd.DataFrame(reduced_data,columns=['pca1','pca2'])\n",
    "plt.figure(figsize=(20,16))\n",
    "sn.scatterplot(x=\"pca1\", y=\"pca2\", hue=batting_heavy_abvanced_main_norm['label'], data=results)\n",
    "plt.title('K-means Clustering with 2 dimensions')\n",
    "plt.show()\n"
   ],
   "metadata": {
    "collapsed": false,
    "pycharm": {
     "name": "#%%\n"
    }
   }
  },
  {
   "cell_type": "code",
   "execution_count": null,
   "outputs": [],
   "source": [],
   "metadata": {
    "collapsed": false,
    "pycharm": {
     "name": "#%%\n"
    }
   }
  }
 ],
 "metadata": {
  "kernelspec": {
   "display_name": "Python 3",
   "language": "python",
   "name": "python3"
  },
  "language_info": {
   "codemirror_mode": {
    "name": "ipython",
    "version": 2
   },
   "file_extension": ".py",
   "mimetype": "text/x-python",
   "name": "python",
   "nbconvert_exporter": "python",
   "pygments_lexer": "ipython2",
   "version": "2.7.6"
  }
 },
 "nbformat": 4,
 "nbformat_minor": 0
}